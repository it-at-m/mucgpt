{
 "cells": [
  {
   "cell_type": "code",
   "execution_count": 1,
   "metadata": {},
   "outputs": [],
   "source": [
    "from typing import Any\n",
    "from langchain import LLMChain\n",
    "\n",
    "import openai\n",
    "from langchain.chat_models import AzureChatOpenAI\n",
    "from langchain.prompts import PromptTemplate\n",
    "from langchain.chains import SequentialChain\n"
   ]
  },
  {
   "cell_type": "code",
   "execution_count": 2,
   "metadata": {},
   "outputs": [],
   "source": [
    "\"\"\"Chain of Density prompting: https://arxiv.org/abs/2309.04269\"\"\"\n",
    "user_sum_prompt = \"\"\"\n",
    "Article: {text}\n",
    "You will generate increasingly concise entity-dense summaries of the above article. Repeat the following 2 steps 5 times.\n",
    "\n",
    "Step 1: Identify 1-3 informative entities (delimited) from the article which are missing from the previously generated summary.\n",
    "Step 2: Write a new denser summary of identical length which covers every entity and detail from the previous summary plus the missing entities.\n",
    "\n",
    "A missing entity is\n",
    "- Relevant: to the main stories.\n",
    "- Specific: descriptive yet concise (5 words or fewer).\n",
    "- Novel: not in the previous summary.\n",
    "- Faithful: present in the article.\n",
    "- Anywhere: located in the article.\n",
    "\n",
    "Guidelines:\n",
    "- The first summary should be long (4-5 sentences, ~80 words), yet highly non-specific, containing little information beyond the entities marked as missing. Use overly verbose language and fillers (e.g., \"this article discusses\") to reach ~80 words.\n",
    "- Make every word count. Rewrite the previous summary to improve flow and make space for additional entities.\n",
    "- Make space with fusion, compression, and removal of uninformative phrases like \"the article discusses\".\n",
    "- The summaries should become highly dense and concise, yet self-contained, e.g., easily understood without the article.\n",
    "- Missing entities can appear anywhere in the new summary.\n",
    "- Never drop entities from the previous summary. If space cannot be made, add fewer new entities.\n",
    "\n",
    "Remember: Use the exact same number of words for each summary.\n",
    "\n",
    "Do not include any explanations. Only return a valid valid RFC8259 compilant JSON.\n",
    "The JSON should be an array of length 5 following this format:\n",
    "{{\n",
    "\"data\": [\n",
    "   {{\n",
    "      \"missing_entities\":  \"An array of missing entitys\"\n",
    "      \"denser_summary\": \"denser summary, covers every entity in detail\"\n",
    "   }}\n",
    "]\n",
    "}}\n",
    "The response in JSON format:\n",
    "\"\"\"\n",
    "\n",
    "user_translate_prompt = \"\"\"\n",
    "Übersetze das folgende JSON in {language}. Beinhalte die Formatierung als RFC8259 JSON bei.\n",
    "Das JSON sollte ein Array der Länge 5 sein, welcher folgendem Format folgt:\n",
    "{{\n",
    "\"data\": [\n",
    "   {{\n",
    "      \"missing_entities\": \"An array of missing entitys\"\n",
    "      \"denser_summary\": \"denser summary, covers every entity in detail\"\n",
    "   }}\n",
    "]\n",
    "}}\n",
    "\n",
    "JSON: {sum}\n",
    "\"\"\"\n"
   ]
  },
  {
   "cell_type": "code",
   "execution_count": 3,
   "metadata": {},
   "outputs": [],
   "source": [
    "def getSummarizationPrompt() -> PromptTemplate:\n",
    "    return PromptTemplate(input_variables=[\"text\"], template=user_sum_prompt)\n",
    "\n",
    "def getTranslationPrompt() -> PromptTemplate:\n",
    "    return PromptTemplate(input_variables=[\"language\", \"sum\"], template=user_translate_prompt)\n"
   ]
  },
  {
   "cell_type": "code",
   "execution_count": 4,
   "metadata": {},
   "outputs": [],
   "source": [
    "import os\n",
    "os.environ['http_proxy'] = \"http://internet-proxy-client.muenchen.de:80\" \n",
    "os.environ['https_proxy'] = \"http://internet-proxy-client.muenchen.de:80\" "
   ]
  },
  {
   "cell_type": "code",
   "execution_count": 5,
   "metadata": {},
   "outputs": [],
   "source": [
    "openai.api_type = \"azure\"\n",
    "openai.api_base = f\"https://cog-tb726faeoukc2.openai.azure.com\"\n",
    "openai.api_version = \"2023-05-15\"\n",
    "openai.api_key = \"9324d0a0d0bd4d72b0e34596a9dc4a9c\""
   ]
  },
  {
   "cell_type": "code",
   "execution_count": 6,
   "metadata": {},
   "outputs": [],
   "source": [
    "from typing import Dict\n",
    "from langchain.callbacks.base import BaseCallbackHandler\n",
    "from langchain.schema.output import LLMResult\n",
    "class MyCustomHandler(BaseCallbackHandler):\n",
    "    def on_text(self, text: str, **kwargs: Any) -> Any:\n",
    "        print(f\"Text: {text}\")\n",
    "        self.log = text\n",
    "\n",
    "    def on_llm_end(self, response: LLMResult, **kwargs: Any) -> Any:\n",
    "        \"\"\"Run when LLM ends running.\"\"\"\n",
    "        print(response.llm_output.keys())\n",
    "        print(response.llm_output)"
   ]
  },
  {
   "cell_type": "code",
   "execution_count": null,
   "metadata": {},
   "outputs": [],
   "source": []
  },
  {
   "cell_type": "code",
   "execution_count": 7,
   "metadata": {},
   "outputs": [],
   "source": [
    "verbose = False\n",
    "llm = AzureChatOpenAI(\n",
    "    model=\"gpt-35-turbo\",\n",
    "    temperature= 0.7,\n",
    "    max_tokens=1000,\n",
    "    n=1,\n",
    "    deployment_name= \"chat\",\n",
    "    openai_api_key=openai.api_key,\n",
    "    openai_api_base=openai.api_base,\n",
    "    openai_api_version=openai.api_version,\n",
    "    openai_api_type=openai.api_type,\n",
    "    callbacks=[MyCustomHandler()]\n",
    ")\n",
    "summarizationChain = LLMChain(llm=llm, prompt=getSummarizationPrompt(), output_key=\"sum\", verbose=verbose)\n",
    "translationChain = LLMChain(llm=llm, prompt=getTranslationPrompt(), output_key=\"translation\", verbose=verbose)\n",
    "overall_chain = SequentialChain(\n",
    "    chains=[summarizationChain, translationChain], \n",
    "    input_variables=[\"language\", \"text\"],\n",
    "    output_variables=[\"translation\", \"sum\"],\n",
    "    verbose=verbose\n",
    ")"
   ]
  },
  {
   "cell_type": "code",
   "execution_count": 8,
   "metadata": {},
   "outputs": [],
   "source": [
    "text =\"\"\"Der Zoo Hof vermisst seit dem Wochenende das Känguru Willi. Das Tier sei seitdem mehrmals gesichtet worden, sagte ein Polizeisprecher am Dienstag. \"Es ist bisher nicht gelungen, es einzufangen.\" Mehrere Medien hatten zuvor darüber berichtet.\n",
    "\n",
    "Der Zoo schrieb auf Instagram, dass das graubraune Känguru-Männchen Willi am Samstagmorgen nicht mehr im Gehege gewesen sei. Wie das etwa 70 Zentimeter große Tier den Zoo verlassen konnte, sei noch in Klärung. \"Da das Tier von Blättern und Gras lebt, befindet es sich momentan nicht in der Gefahr des Verhungerns, einzig die Beutegreifer in der Natur könnten ihm gefährlich werden. Wer das Känguru sehe, soll es nur aus der Ferne beobachten und die Polizei verständigen, bat der Zoo im bayerischen Oberfranken. \"Bitte unterlassen Sie Suchen auf eigene Faust, dies würde das Tier nur noch weiter unnötig stressen.\"\n",
    "\n",
    "Entlaufene Kängurus wurden in den vergangenen Jahren immer mal wieder in Bayern gemeldet. Zuletzt war im Sommer das Känguru-Männchen Toni aus dem Gehege eines Hotels im Bayerischen Wald ausgebüxt. Mit einer Spur aus Leckereien konnten die Besitzer es nach mehreren Wochen schließlich in sein Gehege zurück locken.\"\"\"\n",
    "text =\"\"\"Autonome Autos sind Autos, die komplett selbstständig fahren. Sie brauchen keinen Fahrer mehr. Ihr Innenraum könnte beispielsweise wie in einem Zug aussehen, mit vier Sitzen und eventuell einem Tisch. Lenkrad, Pedale, Schaltknüppel – all das wäre nicht mehr vorhanden. Damit diese Autos autonom fahren können, sind sie mit einer Fülle von Technik ausgestattet. Laser, Sensoren, Kameras, ein GPS-Empfänger, Messgeräte und ein Bordcomputer erkennen andere Verkehrsteilnehmer, Straßenschilder, Ampeln usw. Sie machen es möglich, dass das Auto sich sicher durch den Verkehr bewegt und Kollisionen vermeidet. Mehrere Autohersteller arbeiten an verschiedenen Modellen autonomer Autos und die Forschung ist schon weit fortgeschritten.\"\"\"\n",
    "text =\"\"\"\n",
    "\n",
    "Viele wollen es. 57 Prozent der Deutschen sagen in einer Umfrage des Meinungsforschungsinstituts YouGov, dass sie für ein Tempolimit von 130 Stundenkilometern auf Autobahnen sind. Genauso sind es Menschen aus Wissenschaft, Politik, Kirche und dem öffentlichen Leben, die im Bündnis Tempolimit jetzt! aktiv sind. Einer davon: Sebastian Vettel, der vier Saisons der Formel-1 gewonnen hat.​\n",
    "\n",
    "Einer, der es definitiv nicht will, ist Verkehrsminister Volker Wissing. Der Politiker aus der Freien Demokratischen Partei (FDP) ist gegen staatliche Limitierungen im Straßenverkehr. Er sagt: „Autofahren bedeutet Freiheit.“ Mit dieser Meinung ist Wissing in seiner Partei und in Deutschland nicht allein.​\n",
    "\n",
    "Fast allein ist das Land aber mit der Möglichkeit, auf Autobahnen so schnell zu fahren, wie man will. In Europa hat nur ein anderer Ort kein Limit: die Isle of Man in der Irischen See. Autobahnen gibt es dort aber keine. Auch insgesamt gibt es nur wenige andere Länder ohne Maximalgeschwindigkeit, sie haben aber schlechte Straßen. ​\n",
    "\n",
    "Über ein Tempolimit diskutiert man in Deutschland schon ziemlich lang – und meistens emotional. Dabei ist 1953 ein wichtiges Jahr. Damals fand unter Kanzler Konrad Adenauer eine große Deregulierung der Geschwindigkeit statt: Menschen in Pkw und auf Motorrädern durften überall in der Bundesrepublik so schnell fahren, wie sie wollten und konnten. Westdeutschland lebte seinen Mythos der Autobahn. Anders in der Deutschen Demokratischen Republik: Dort waren 100 Stundenkilometer auf Autobahnen das Maximum, 80 außerhalb von Orten und 50 in Orten.​\n",
    "\n",
    "Weil in der Bundesrepublik die Zahl der Verkehrstoten deutlich stieg, führte die Regierung im Jahr 1957 für Orte eine Maximalgeschwindigkeit von 50 Stundenkilometern ein. Diese Norm hatte viele Gegner: den Allgemeinen Deutschen Automobil-Club (ADAC), die Autoindustrie, aber auch Menschen aus Politik und Wissenschaft.​\n",
    "\n",
    "Im Jahr 1972 kam die Einführung eines Tempolimits von 100 Stundenkilometern auf Landstraßen. Auch über diese Aktion gegen die vielen Verkehrstoten gab es intensive Diskussionen. ​\n",
    "\n",
    "Monate später kam die Ölkrise – und mit ihr ab November 1973 ein vorübergehendes Tempolimit von 100 Stundenkilometern auf Autobahnen. So wollte man den Erdölverbrauch reduzieren. Aber der Protest war groß. Ganz vorn dabei war der ADAC, der eine Kampagne mit dem Motto „Freie Fahrt für freie Bürger“ startete. Mit Erfolg: Nach 111 Tagen endete das Tempolimit auf Autobahnen. Ab dem 15. März 1974 durfte man wieder so viel Gas geben, wie man wollte. Das ist bis heute auf circa 70 Prozent der deutschen Autobahnen möglich. Dort gibt es nur die Empfehlung für eine Geschwindigkeit von 130 Stundenkilometern.  ​\n",
    "\n",
    "Die Debatte über das Tempolimit hat trotzdem nicht aufgehört. Und auch 50 Jahre später spielen die mächtige deutsche Autolobby und das (oft auch von ihr verwendete) Freiheitsargument noch immer zentrale Rollen – obwohl die Welt heute eine andere ist.​\n",
    "\n",
    "Da ist vor allem die Frage, ob ein Tempolimit gegen die Klimakrise hilft. Anfang dieses Jahres hat das Umweltbundesamt eine Studie publiziert. Sie zeigt, dass ein Limit von 120 Stundenkilometern einen größeren Effekt hätte als bis jetzt gedacht. Pro Jahr könnte man die Treibhausgasemissionen des deutschen Straßenverkehrs so um 4,2 Prozent reduzieren.​\n",
    "\n",
    "Elementar ist außerdem die Frage, ob ein Tempolimit den Verkehr sicherer macht. Klar ist: Je schneller ein Auto unterwegs ist, desto länger dauert das Bremsen bis zum Stoppen. Das Nachrichtenportal Spiegel Online hat den Unfallatlas der statistischen Ämter des Bundes und der Länder analysiert. Das Resultat: Je eine Milliarde gefahrener Kilometer gibt es auf Autobahnabschnitten mit Tempolimit 0,95 tödliche Unfälle. Auf Strecken ohne Tempolimit sind es 1,67 tödliche Unfälle – rund 75 Prozent mehr.​\n",
    "\n",
    "Warum lieben viele Deutsche das schnelle Fahren trotzdem so sehr? Fragt man Verkehrspsychologen, hört man bald wieder das große Wort dieser Debatte: Freiheit. Aber dominiert der Wunsch danach wirklich die kollektive Psyche und entscheidet über das Tempo deutscher Autofahrerinnen?​\n",
    "\n",
    "Eine Antwort liefert eine Studie des Instituts der deutschen Wirtschaft aus dem Jahr 2021. Sie zeigt: 77 Prozent der Autofahrer sind auf Autobahnabschnitten ohne Tempolimit langsamer als 130 Stundenkilometer unterwegs. Zwölf Prozent fahren dort zwischen 130 und 140 Stundenkilometer. Nur weniger als zwei Prozent fahren schneller als 160.​\n",
    "\n",
    "Inzwischen ist auch die Mehrheit der Mitglieder des ADAC für ein Tempolimit. Der Verband der Automobilindustrie ist noch dagegen. Und die Regierung? Im Koalitionsvertrag steht auf Wunsch der FDP: „Ein generelles Tempolimit wird es nicht geben.“\n",
    "\"\"\""
   ]
  },
  {
   "cell_type": "code",
   "execution_count": 9,
   "metadata": {},
   "outputs": [],
   "source": [
    "language=\"deutsch\""
   ]
  },
  {
   "cell_type": "code",
   "execution_count": 10,
   "metadata": {},
   "outputs": [
    {
     "name": "stdout",
     "output_type": "stream",
     "text": [
      "dict_keys(['token_usage', 'model_name'])\n",
      "{'token_usage': <OpenAIObject at 0x29bfe740cc0> JSON: {\n",
      "  \"prompt_tokens\": 1667,\n",
      "  \"completion_tokens\": 684,\n",
      "  \"total_tokens\": 2351\n",
      "}, 'model_name': 'gpt-35-turbo'}\n",
      "dict_keys(['token_usage', 'model_name'])\n",
      "{'token_usage': <OpenAIObject at 0x29bfe73e8b0> JSON: {\n",
      "  \"prompt_tokens\": 781,\n",
      "  \"completion_tokens\": 958,\n",
      "  \"total_tokens\": 1739\n",
      "}, 'model_name': 'gpt-35-turbo'}\n"
     ]
    }
   ],
   "source": [
    "\n",
    "from langchain.callbacks import get_openai_callback\n",
    "with get_openai_callback() as cb:\n",
    "    result = overall_chain({\"text\": text, \"language\": language})\n",
    "total_tokens = cb.total_tokens"
   ]
  },
  {
   "cell_type": "code",
   "execution_count": 11,
   "metadata": {},
   "outputs": [
    {
     "data": {
      "text/plain": [
       "({'text': '\\n\\nViele wollen es. 57 Prozent der Deutschen sagen in einer Umfrage des Meinungsforschungsinstituts YouGov, dass sie für ein Tempolimit von 130 Stundenkilometern auf Autobahnen sind. Genauso sind es Menschen aus Wissenschaft, Politik, Kirche und dem öffentlichen Leben, die im Bündnis Tempolimit jetzt! aktiv sind. Einer davon: Sebastian Vettel, der vier Saisons der Formel-1 gewonnen hat.\\u200b\\n\\nEiner, der es definitiv nicht will, ist Verkehrsminister Volker Wissing. Der Politiker aus der Freien Demokratischen Partei (FDP) ist gegen staatliche Limitierungen im Straßenverkehr. Er sagt: „Autofahren bedeutet Freiheit.“ Mit dieser Meinung ist Wissing in seiner Partei und in Deutschland nicht allein.\\u200b\\n\\nFast allein ist das Land aber mit der Möglichkeit, auf Autobahnen so schnell zu fahren, wie man will. In Europa hat nur ein anderer Ort kein Limit: die Isle of Man in der Irischen See. Autobahnen gibt es dort aber keine. Auch insgesamt gibt es nur wenige andere Länder ohne Maximalgeschwindigkeit, sie haben aber schlechte Straßen. \\u200b\\n\\nÜber ein Tempolimit diskutiert man in Deutschland schon ziemlich lang – und meistens emotional. Dabei ist 1953 ein wichtiges Jahr. Damals fand unter Kanzler Konrad Adenauer eine große Deregulierung der Geschwindigkeit statt: Menschen in Pkw und auf Motorrädern durften überall in der Bundesrepublik so schnell fahren, wie sie wollten und konnten. Westdeutschland lebte seinen Mythos der Autobahn. Anders in der Deutschen Demokratischen Republik: Dort waren 100 Stundenkilometer auf Autobahnen das Maximum, 80 außerhalb von Orten und 50 in Orten.\\u200b\\n\\nWeil in der Bundesrepublik die Zahl der Verkehrstoten deutlich stieg, führte die Regierung im Jahr 1957 für Orte eine Maximalgeschwindigkeit von 50 Stundenkilometern ein. Diese Norm hatte viele Gegner: den Allgemeinen Deutschen Automobil-Club (ADAC), die Autoindustrie, aber auch Menschen aus Politik und Wissenschaft.\\u200b\\n\\nIm Jahr 1972 kam die Einführung eines Tempolimits von 100 Stundenkilometern auf Landstraßen. Auch über diese Aktion gegen die vielen Verkehrstoten gab es intensive Diskussionen. \\u200b\\n\\nMonate später kam die Ölkrise – und mit ihr ab November 1973 ein vorübergehendes Tempolimit von 100 Stundenkilometern auf Autobahnen. So wollte man den Erdölverbrauch reduzieren. Aber der Protest war groß. Ganz vorn dabei war der ADAC, der eine Kampagne mit dem Motto „Freie Fahrt für freie Bürger“ startete. Mit Erfolg: Nach 111 Tagen endete das Tempolimit auf Autobahnen. Ab dem 15. März 1974 durfte man wieder so viel Gas geben, wie man wollte. Das ist bis heute auf circa 70 Prozent der deutschen Autobahnen möglich. Dort gibt es nur die Empfehlung für eine Geschwindigkeit von 130 Stundenkilometern.  \\u200b\\n\\nDie Debatte über das Tempolimit hat trotzdem nicht aufgehört. Und auch 50 Jahre später spielen die mächtige deutsche Autolobby und das (oft auch von ihr verwendete) Freiheitsargument noch immer zentrale Rollen – obwohl die Welt heute eine andere ist.\\u200b\\n\\nDa ist vor allem die Frage, ob ein Tempolimit gegen die Klimakrise hilft. Anfang dieses Jahres hat das Umweltbundesamt eine Studie publiziert. Sie zeigt, dass ein Limit von 120 Stundenkilometern einen größeren Effekt hätte als bis jetzt gedacht. Pro Jahr könnte man die Treibhausgasemissionen des deutschen Straßenverkehrs so um 4,2 Prozent reduzieren.\\u200b\\n\\nElementar ist außerdem die Frage, ob ein Tempolimit den Verkehr sicherer macht. Klar ist: Je schneller ein Auto unterwegs ist, desto länger dauert das Bremsen bis zum Stoppen. Das Nachrichtenportal Spiegel Online hat den Unfallatlas der statistischen Ämter des Bundes und der Länder analysiert. Das Resultat: Je eine Milliarde gefahrener Kilometer gibt es auf Autobahnabschnitten mit Tempolimit 0,95 tödliche Unfälle. Auf Strecken ohne Tempolimit sind es 1,67 tödliche Unfälle – rund 75 Prozent mehr.\\u200b\\n\\nWarum lieben viele Deutsche das schnelle Fahren trotzdem so sehr? Fragt man Verkehrspsychologen, hört man bald wieder das große Wort dieser Debatte: Freiheit. Aber dominiert der Wunsch danach wirklich die kollektive Psyche und entscheidet über das Tempo deutscher Autofahrerinnen?\\u200b\\n\\nEine Antwort liefert eine Studie des Instituts der deutschen Wirtschaft aus dem Jahr 2021. Sie zeigt: 77 Prozent der Autofahrer sind auf Autobahnabschnitten ohne Tempolimit langsamer als 130 Stundenkilometer unterwegs. Zwölf Prozent fahren dort zwischen 130 und 140 Stundenkilometer. Nur weniger als zwei Prozent fahren schneller als 160.\\u200b\\n\\nInzwischen ist auch die Mehrheit der Mitglieder des ADAC für ein Tempolimit. Der Verband der Automobilindustrie ist noch dagegen. Und die Regierung? Im Koalitionsvertrag steht auf Wunsch der FDP: „Ein generelles Tempolimit wird es nicht geben.“\\n',\n",
       "  'language': 'deutsch',\n",
       "  'translation': '{\\n    \"data\": [\\n        {\\n            \"missing_entities\": [\"Bündnis Tempolimit jetzt!\", \"Verkehrsminister Volker Wissing\", \"Isle of Man\"],\\n            \"denser_summary\": \"57% der Deutschen unterstützen laut einer YouGov-Umfrage ein Tempolimit von 130 km/h auf Autobahnen. Sebastian Vettel ist Mitglied des Bündnisses Tempolimit jetzt!, das sich für das Limit einsetzt. Verkehrsminister Volker Wissing lehnt staatliche Beschränkungen im Straßenverkehr ab und argumentiert mit \\'Fahren bedeutet Freiheit\\'. Deutschland ist eines der wenigen Länder ohne Höchstgeschwindigkeitsbegrenzung, zusammen mit der Isle of Man, die keine Autobahnen hat. Die Debatte über das Tempolimit dauert seit 1953 an und wird trotz der Umwelt- und Sicherheitsbedenken weiterhin durch die mächtige deutsche Auto-Lobby und \\'Freiheits\\'-Argumente befeuert.\"\\n        },\\n        {\\n            \"missing_entities\": [\"1953\", \"Konrad Adenauer\", \"80 km/h außerhalb von Ortschaften\"],\\n            \"denser_summary\": \"Nach einer großen Deregulierung der Geschwindigkeitsbegrenzungen im Jahr 1953 unter Kanzler Konrad Adenauer konnten Fahrer in Westdeutschland so schnell fahren, wie sie wollten. Die Zahl der Verkehrstoten stieg, was die Regierung veranlasste, 1957 eine Geschwindigkeitsbegrenzung von 50 km/h in Ortschaften einzuführen. Die Begrenzung wurde vom ADAC, der Autoindustrie und Politikern und Wissenschaftlern abgelehnt. Die Geschwindigkeitsbegrenzung von 100 km/h wurde 1972 auf Landstraßen eingeführt, was zu weiteren Debatten führte.\"\\n        },\\n        {\\n            \"missing_entities\": [\"Ölkrise\", \"111 Tage\", \"70% der deutschen Autobahnen\"],\\n            \"denser_summary\": \"Im Jahr 1973 wurde eine vorübergehende Geschwindigkeitsbegrenzung von 100 km/h auf deutschen Autobahnen eingeführt, um den Ölverbrauch während der Ölkrise zu reduzieren. Der ADAC startete eine Kampagne \\'Freie Fahrt für freie Bürger\\', um dagegen zu protestieren, und die Begrenzung wurde nach 111 Tagen aufgehoben. Seitdem ist das Fahren so schnell erlaubt, wie man möchte, auf etwa 70% der deutschen Autobahnen, mit einer empfohlenen Geschwindigkeit von 130 km/h. Die Debatte geht weiter, mit Umwelt- und Sicherheitsargumenten.\"\\n        },\\n        {\\n            \"missing_entities\": [\"Umweltbundesamt\", \"4,2% Reduktion der jährlichen Treibhausgasemissionen\", \"120 km/h\"],\\n            \"denser_summary\": \"Laut einer Studie des Umweltbundesamtes könnte eine Geschwindigkeitsbegrenzung von 120 km/h die jährlichen Treibhausgasemissionen des deutschen Straßenverkehrs um 4,2% reduzieren. Die Studie legt nahe, dass der Einfluss von Geschwindigkeitsbegrenzungen auf Emissionen größer ist als bisher angenommen. Die Debatte über Geschwindigkeitsbegrenzungen beinhaltet auch Sicherheitsbedenken, da der Bremsweg mit der Geschwindigkeit zunimmt.\"\\n        },\\n        {\\n            \"missing_entities\": [\"77% der Fahrer\", \"Verband der Automobilindustrie\", \"Koalitionsvertrag\"],\\n            \"denser_summary\": \"77% der deutschen Fahrer fahren auf Autobahnen ohne Geschwindigkeitsbegrenzung unter 130 km/h, so eine Studie des Instituts der deutschen Wirtschaft. Während die Mehrheit des ADAC nun eine Geschwindigkeitsbegrenzung unterstützt, bleibt der Verband der Automobilindustrie dagegen. Die FDP hat dafür gesorgt, dass es im Koalitionsvertrag keine allgemeine Geschwindigkeitsbegrenzung geben wird.\"\\n        }\\n    ]\\n}',\n",
       "  'sum': '{\\n    \"data\": [\\n        {\\n            \"missing_entities\": [\"Bündnis Tempolimit jetzt!\", \"Verkehrsminister Volker Wissing\", \"Isle of Man\"],\\n            \"denser_summary\": \"57% of Germans support a speed limit of 130 km/h on highways, according to a YouGov poll. Sebastian Vettel is among the members of the Bündnis Tempolimit jetzt! advocating for the limit. Verkehrsminister Volker Wissing opposes state limitations in road traffic citing \\'driving means freedom\\'. Germany is one of the few countries without a maximum speed limit, along with Isle of Man, which has no highways. The debate over the speed limit has been ongoing since 1953 and is still fueled by the powerful German auto lobby and \\'freedom\\' arguments, despite the environmental and safety concerns.\"\\n        },\\n        {\\n            \"missing_entities\": [\"1953\", \"Konrad Adenauer\", \"80 km/h outside of towns\"],\\n            \"denser_summary\": \"After a big deregulation of speed limits in 1953 under Kanzler Konrad Adenauer, drivers in West Germany could drive as fast as they wanted. The number of traffic fatalities rose, leading the government to establish a 50 km/h speed limit in towns in 1957. The limit was opposed by the ADAC, the auto industry, and politicians and scientists. The speed limit of 100 km/h was introduced on country roads in 1972, leading to more debates.\"\\n        },\\n        {\\n            \"missing_entities\": [\"oil crisis\", \"111 days\", \"70% of German highways\"],\\n            \"denser_summary\": \"In 1973, a temporary speed limit of 100 km/h was imposed on German highways to reduce oil consumption during the oil crisis. The ADAC launched a campaign \\'Freie Fahrt für freie Bürger\\' (Free driving for free citizens) to protest, and the limit was lifted after 111 days. Since then, driving as fast as one wants has been allowed on about 70% of German highways, with a recommended speed of 130 km/h. The debate continues, with environmental and safety arguments.\"\\n        },\\n        {\\n            \"missing_entities\": [\"Umweltbundesamt\", \"4.2% reduction in annual greenhouse gas emissions\", \"120 km/h\"],\\n            \"denser_summary\": \"According to a study by the Umweltbundesamt, a speed limit of 120 km/h could reduce annual greenhouse gas emissions from German road transport by 4.2%. The study suggests that the impact of speed limits on emissions is greater than previously thought. The debate over speed limits also includes safety concerns as braking distance increases with speed.\"\\n        },\\n        {\\n            \"missing_entities\": [\"77% of drivers\", \"Verband der Automobilindustrie\", \"Koalitionsvertrag\"],\\n            \"denser_summary\": \"77% of German drivers travel at speeds below 130 km/h on highways without a speed limit, according to a study by the Institut der deutschen Wirtschaft. While the majority of the ADAC now supports a speed limit, the Verband der Automobilindustrie remains opposed. The FDP has ensured that there will not be a general speed limit in the Koalitionsvertrag.\"\\n        }\\n    ]\\n}'},\n",
       " 4090)"
      ]
     },
     "execution_count": 11,
     "metadata": {},
     "output_type": "execute_result"
    }
   ],
   "source": [
    "result, total_tokens"
   ]
  },
  {
   "cell_type": "code",
   "execution_count": 12,
   "metadata": {},
   "outputs": [],
   "source": [
    "result[\"translation\"]= result[\"translation\"][result[\"translation\"].index(\"{\"):]\n",
    "result[\"translation\"] = result[\"translation\"].replace(\"\\n\", \"\").rstrip()\n",
    "if not result[\"translation\"].endswith(\"}\"):\n",
    "    result[\"translation\"]  = result[\"translation\"] + \"\\\"}]}\""
   ]
  },
  {
   "cell_type": "code",
   "execution_count": 181,
   "metadata": {},
   "outputs": [
    {
     "data": {
      "text/plain": [
       "'{\"data\": [   {      \"missing_entities\": [\"Bündnis Tempolimit jetzt!\"],      \"denser_summary\": \"57% der Deutschen unterstützen laut einer YouGov-Umfrage ein Tempolimit von 130 km/h auf Autobahnen. Sebastian Vettel ist Teil der Koalition Bündnis Tempolimit jetzt!, die sich für ein Geschwindigkeitslimit einsetzt. Verkehrsminister Volker Wissing ist gegen staatlich verordnete Geschwindigkeitsbegrenzungen und argumentiert, dass Autofahren Freiheit bedeutet. Die Debatte über Geschwindigkeitsbegrenzungen läuft seit 1953 und die mächtige deutsche Auto-Lobby sowie das Freiheitsargument spielen immer noch zentrale Rollen.\"   },   {      \"missing_entities\": [\"Isle of Man\"],      \"denser_summary\": \"Nur die Isle of Man, ein Ort ohne Autobahnen, und einige andere Länder haben keine Geschwindigkeitsbegrenzung. Die deutsche Auto-Lobby und das Freiheitsargument sind immer noch zentral für die Debatte über Geschwindigkeitsbegrenzungen, die seit 1953 läuft. Eine YouGov-Umfrage ergab, dass 57% der Deutschen ein Tempolimit von 130 km/h auf Autobahnen unterstützen. Verkehrsminister Volker Wissing argumentiert, dass Autofahren Freiheit bedeutet.\"   },   {      \"missing_entities\": [\"ADAC\", \"100 km/h\", \"80 km/h\", \"50 km/h\"],      \"denser_summary\": \"Im Westen Deutschlands wurden 1953 Geschwindigkeitsbegrenzungen auf Autobahnen aufgehoben, während im Osten Begrenzungen von 100 km/h auf Autobahnen, 80 km/h außerhalb von Städten und 50 km/h in Städten eingeführt wurden. 1957 führte die Westdeutsche Regierung eine Geschwindigkeitsbegrenzung von 50 km/h in Städten ein, um die Zahl der Verkehrstoten zu reduzieren. Diese Maßnahme stieß auf Widerstand seitens des ADAC, der Autoindustrie, Politiker und Wissenschaftler. 1972 wurde eine Geschwindigkeitsbegrenzung von 100 km/h auf Landstraßen eingeführt.\"   },   {      \"missing_entities\": [\"Erdölverbrauch\", \"4.2%\"],      \"denser_summary\": \"Eine Studie des Umweltbundesamts ergab, dass ein Tempolimit von 120 km/h die Treibhausgasemissionen des deutschen Straßennetzes jährlich um 4,2% reduzieren könnte, mehr als bisher angenommen. Die Frage, ob Geschwindigkeitsbegrenzungen die Verkehrssicherheit verbessern, ist ebenfalls wichtig, da hohe Geschwindigkeiten zu längeren Bremswegen führen. Der ADAC hat sich lange gegen Geschwindigkeitsbegrenzungen ausgesprochen und für \"freies Fahren für freie Bürger\" argumentiert.\"   },   {      \"missing_entities\": [\"77%\", \"12%\", \"<2%\", \"ADAC\", \"130 km/h\"],      \"denser_summary\": \"77% der deutschen Autofahrer fahren auf Autobahnen ohne Geschwindigkeitsbegrenzung unter 130 km/h, während weniger als 2% schneller als 160 km/h fahren, laut einer Studie des Instituts der deutschen Wirtschaft. Der ADAC hat seine Position geändert und unterstützt jetzt ein Tempolimit, während die deutsche Autoindustrie dagegen ist. Die aktuelle Regierung hat in ihrem Koalitionsvertrag erklärt, dass sie kein bundesweites Tempolimit einführen wird.\"   }]}'"
      ]
     },
     "execution_count": 181,
     "metadata": {},
     "output_type": "execute_result"
    }
   ],
   "source": [
    "result[\"translation\"]"
   ]
  },
  {
   "cell_type": "code",
   "execution_count": 273,
   "metadata": {},
   "outputs": [
    {
     "data": {
      "text/plain": [
       "{'data': [{'missing_entities': ['Bündnis Tempolimit jetzt!'],\n",
       "   'denser_summary': '57% der Deutschen unterstützen laut einer YouGov-Umfrage ein Tempolimit von 130 km/h auf Autobahnen. Sebastian Vettel ist Teil der Koalition Bündnis Tempolimit jetzt!, die sich für ein Geschwindigkeitslimit einsetzt. Verkehrsminister Volker Wissing ist gegen staatlich verordnete Geschwindigkeitsbegrenzungen und argumentiert, dass Autofahren Freiheit bedeutet. Die Debatte über Geschwindigkeitsbegrenzungen läuft seit 1953 und die mächtige deutsche Auto-Lobby sowie das Freiheitsargument spielen immer noch zentrale Rollen.'},\n",
       "  {'missing_entities': ['Isle of Man'],\n",
       "   'denser_summary': 'Nur die Isle of Man, ein Ort ohne Autobahnen, und einige andere Länder haben keine Geschwindigkeitsbegrenzung. Die deutsche Auto-Lobby und das Freiheitsargument sind immer noch zentral für die Debatte über Geschwindigkeitsbegrenzungen, die seit 1953 läuft. Eine YouGov-Umfrage ergab, dass 57% der Deutschen ein Tempolimit von 130 km/h auf Autobahnen unterstützen. Verkehrsminister Volker Wissing argumentiert, dass Autofahren Freiheit bedeutet.'},\n",
       "  {'missing_entities': ['ADAC', '100 km/h', '80 km/h', '50 km/h'],\n",
       "   'denser_summary': 'Im Westen Deutschlands wurden 1953 Geschwindigkeitsbegrenzungen auf Autobahnen aufgehoben, während im Osten Begrenzungen von 100 km/h auf Autobahnen, 80 km/h außerhalb von Städten und 50 km/h in Städten eingeführt wurden. 1957 führte die Westdeutsche Regierung eine Geschwindigkeitsbegrenzung von 50 km/h in Städten ein, um die Zahl der Verkehrstoten zu reduzieren. Diese Maßnahme stieß auf Widerstand seitens des ADAC, der Autoindustrie, Politiker und Wissenschaftler. 1972 wurde eine Geschwindigkeitsbegrenzung von 100 km/h auf Landstraßen eingeführt.'},\n",
       "  {'missing_entities': ['Erdölverbrauch', '4.2%'],\n",
       "   'denser_summary': 'Eine Studie des Umweltbundesamts ergab, dass ein Tempolimit von 120 km/h die Treibhausgasemissionen des deutschen Straßennetzes jährlich um 4,2% reduzieren könnte, mehr als bisher angenommen. Die Frage, ob Geschwindigkeitsbegrenzungen die Verkehrssicherheit verbessern, ist ebenfalls wichtig, da hohe Geschwindigkeiten zu längeren Bremswegen führen. Der ADAC hat sich lange gegen Geschwindigkeitsbegrenzungen ausgesprochen und für “freies Fahren für freie Bürger“ argumentiert.'},\n",
       "  {'missing_entities': ['77%', '12%', '<2%', 'ADAC', '130 km/h'],\n",
       "   'denser_summary': '77% der deutschen Autofahrer fahren auf Autobahnen ohne Geschwindigkeitsbegrenzung unter 130 km/h, während weniger als 2% schneller als 160 km/h fahren, laut einer Studie des Instituts der deutschen Wirtschaft. Der ADAC hat seine Position geändert und unterstützt jetzt ein Tempolimit, während die deutsche Autoindustrie dagegen ist. Die aktuelle Regierung hat in ihrem Koalitionsvertrag erklärt, dass sie kein bundesweites Tempolimit einführen wird.'}]}"
      ]
     },
     "execution_count": 273,
     "metadata": {},
     "output_type": "execute_result"
    }
   ],
   "source": [
    "import re\n",
    "def fix_json_string(st):\n",
    "    # finds all denser summarys, replaces quotation inside with &quot\n",
    "    m = re.finditer(r'(?<=\\\"denser_summary\\\":)(.*?)(?=\\})', st)\n",
    "\n",
    "    new_string = \"\"\n",
    "    idx = 0\n",
    "\n",
    "    for i in list(m):\n",
    "        ss, se = i.span(1)  # first and last index\n",
    "        groups = i.group()  # complete string ins\n",
    "        quotations = [m.start() for m in re.finditer('\"', groups)]\n",
    "        # Quotation inside dense summary?\n",
    "        if(len(quotations)>2):\n",
    "            new_string += st[idx:ss+quotations[1]]\n",
    "            idx = ss+quotations[1]+1\n",
    "            for quotindex in quotations[1:-1]:\n",
    "                new_string += st[idx:ss+quotindex] + \"“\"\n",
    "                idx = ss+quotindex+1\n",
    "            new_string += st[idx:se]\n",
    "            idx = quotations[-1]+1\n",
    "        else:\n",
    "            new_string += st[idx:ss] +  groups\n",
    "        idx = se\n",
    "    new_string += st[idx:]\n",
    "    return new_string\n",
    "fix_json_string(result[\"translation\"])"
   ]
  },
  {
   "cell_type": "code",
   "execution_count": 13,
   "metadata": {},
   "outputs": [
    {
     "data": {
      "text/plain": [
       "{'data': [{'missing_entities': ['Bündnis Tempolimit jetzt!',\n",
       "    'Verkehrsminister Volker Wissing',\n",
       "    'Isle of Man'],\n",
       "   'denser_summary': \"57% der Deutschen unterstützen laut einer YouGov-Umfrage ein Tempolimit von 130 km/h auf Autobahnen. Sebastian Vettel ist Mitglied des Bündnisses Tempolimit jetzt!, das sich für das Limit einsetzt. Verkehrsminister Volker Wissing lehnt staatliche Beschränkungen im Straßenverkehr ab und argumentiert mit 'Fahren bedeutet Freiheit'. Deutschland ist eines der wenigen Länder ohne Höchstgeschwindigkeitsbegrenzung, zusammen mit der Isle of Man, die keine Autobahnen hat. Die Debatte über das Tempolimit dauert seit 1953 an und wird trotz der Umwelt- und Sicherheitsbedenken weiterhin durch die mächtige deutsche Auto-Lobby und 'Freiheits'-Argumente befeuert.\"},\n",
       "  {'missing_entities': ['1953',\n",
       "    'Konrad Adenauer',\n",
       "    '80 km/h außerhalb von Ortschaften'],\n",
       "   'denser_summary': 'Nach einer großen Deregulierung der Geschwindigkeitsbegrenzungen im Jahr 1953 unter Kanzler Konrad Adenauer konnten Fahrer in Westdeutschland so schnell fahren, wie sie wollten. Die Zahl der Verkehrstoten stieg, was die Regierung veranlasste, 1957 eine Geschwindigkeitsbegrenzung von 50 km/h in Ortschaften einzuführen. Die Begrenzung wurde vom ADAC, der Autoindustrie und Politikern und Wissenschaftlern abgelehnt. Die Geschwindigkeitsbegrenzung von 100 km/h wurde 1972 auf Landstraßen eingeführt, was zu weiteren Debatten führte.'},\n",
       "  {'missing_entities': ['Ölkrise', '111 Tage', '70% der deutschen Autobahnen'],\n",
       "   'denser_summary': \"Im Jahr 1973 wurde eine vorübergehende Geschwindigkeitsbegrenzung von 100 km/h auf deutschen Autobahnen eingeführt, um den Ölverbrauch während der Ölkrise zu reduzieren. Der ADAC startete eine Kampagne 'Freie Fahrt für freie Bürger', um dagegen zu protestieren, und die Begrenzung wurde nach 111 Tagen aufgehoben. Seitdem ist das Fahren so schnell erlaubt, wie man möchte, auf etwa 70% der deutschen Autobahnen, mit einer empfohlenen Geschwindigkeit von 130 km/h. Die Debatte geht weiter, mit Umwelt- und Sicherheitsargumenten.\"},\n",
       "  {'missing_entities': ['Umweltbundesamt',\n",
       "    '4,2% Reduktion der jährlichen Treibhausgasemissionen',\n",
       "    '120 km/h'],\n",
       "   'denser_summary': 'Laut einer Studie des Umweltbundesamtes könnte eine Geschwindigkeitsbegrenzung von 120 km/h die jährlichen Treibhausgasemissionen des deutschen Straßenverkehrs um 4,2% reduzieren. Die Studie legt nahe, dass der Einfluss von Geschwindigkeitsbegrenzungen auf Emissionen größer ist als bisher angenommen. Die Debatte über Geschwindigkeitsbegrenzungen beinhaltet auch Sicherheitsbedenken, da der Bremsweg mit der Geschwindigkeit zunimmt.'},\n",
       "  {'missing_entities': ['77% der Fahrer',\n",
       "    'Verband der Automobilindustrie',\n",
       "    'Koalitionsvertrag'],\n",
       "   'denser_summary': '77% der deutschen Fahrer fahren auf Autobahnen ohne Geschwindigkeitsbegrenzung unter 130 km/h, so eine Studie des Instituts der deutschen Wirtschaft. Während die Mehrheit des ADAC nun eine Geschwindigkeitsbegrenzung unterstützt, bleibt der Verband der Automobilindustrie dagegen. Die FDP hat dafür gesorgt, dass es im Koalitionsvertrag keine allgemeine Geschwindigkeitsbegrenzung geben wird.'}]}"
      ]
     },
     "execution_count": 13,
     "metadata": {},
     "output_type": "execute_result"
    }
   ],
   "source": [
    "import json\n",
    "jsoned =json.loads(result[\"translation\"])\n",
    "jsoned"
   ]
  },
  {
   "cell_type": "code",
   "execution_count": null,
   "metadata": {},
   "outputs": [
    {
     "name": "stdout",
     "output_type": "stream",
     "text": [
      "{'missing_entities': 'Bündnis Tempolimit jetzt!, Sebastian Vettel', 'denser_summary': 'Laut einer YouGov-Umfrage unterstützen 57% der Deutschen ein Tempolimit von 130 km/h auf Autobahnen. Das Bündnis Tempolimit jetzt!, zu dem auch Sebastian Vettel gehört, setzt sich für eine Geschwindigkeitsbegrenzung ein. Verkehrsminister Volker Wissing von der FDP ist jedoch gegen staatlich verordnete Geschwindigkeitsbeschränkungen. Deutschland ist eines der wenigen Länder in Europa ohne Höchstgeschwindigkeitsbegrenzung, aber die Debatte dauert seit Jahrzehnten an, wobei Sicherheitsbedenken und der Klimawandel wichtige Faktoren sind.'}\n",
      "{'missing_entities': 'Konrad Adenauer', 'denser_summary': '1953, unter Kanzler Konrad Adenauer, erfolgte eine umfassende Deregulierung der Geschwindigkeitsbegrenzungen, die es den Fahrern ermöglichte, so schnell zu fahren, wie sie wollten. Die Einführung einer Geschwindigkeitsbegrenzung von 100 km/h auf Landstraßen im Jahr 1972 stieß auf Widerstand, ebenso wie die vorübergehende Begrenzung auf 100 km/h auf Autobahnen während der Ölkrise 1973. Heute haben rund 70% der deutschen Autobahnen keine offizielle Geschwindigkeitsbegrenzung, und die Debatte geht weiter.'}\n",
      "{'missing_entities': 'Umweltbundesamt', 'denser_summary': 'Laut einer Studie des Umweltbundesamts könnte eine Geschwindigkeitsbegrenzung von 120 km/h auf deutschen Autobahnen die Treibhausgasemissionen um 4,2% pro Jahr reduzieren. Darüber hinaus zeigen Statistiken, dass Autobahnen ohne Geschwindigkeitsbegrenzung etwa 75% mehr tödliche Unfälle pro Milliarde gefahrener Kilometer haben als Autobahnen mit Geschwindigkeitsbegrenzungen. Trotzdem schätzen viele Deutsche die Freiheit, auf der Autobahn schnell fahren zu können.'}\n",
      "{'missing_entities': 'Institut der deutschen Wirtschaft, ADAC', 'denser_summary': 'Eine Studie des Instituts der deutschen Wirtschaft ergab, dass 77% der Fahrer auf deutschen Autobahnen ohne Geschwindigkeitsbegrenzung langsamer als 130 km/h fahren, während weniger als 2% schneller als 160 km/h fahren. Selbst die Mehrheit der ADAC-Mitglieder unterstützt ein Tempolimit, aber die Regierung hat zugesagt, keines einzuführen, auf Wunsch der FDP.'}\n",
      "{'missing_entities': 'Isle of Man', 'denser_summary': 'Deutschland und die Isle of Man in der Irischen See sind die einzigen Orte in Europa ohne Höchstgeschwindigkeitsbegrenzung, aber die Isle of Man hat keine Autobahnen. Die meisten Länder haben Geschwindigkeitsbegrenzungen, obwohl einige schlechte Straßenbedingungen haben. Die Debatte über ein Tempolimit auf deutschen Autobahnen dauert an, wobei Sicherheitsbedenken und der Klimawandel wichtige Faktoren sind.'}\n"
     ]
    }
   ],
   "source": [
    "cleaned = []\n",
    "for (i, element) in enumerate(jsoned['data']):\n",
    "    print(element)\n",
    "    missing = element['missing_entities']\n",
    "    if(isinstance(missing, str)):\n",
    "        element['missing_entities'] = [missing]\n",
    "    cleaned.append(element)"
   ]
  },
  {
   "cell_type": "code",
   "execution_count": null,
   "metadata": {},
   "outputs": [
    {
     "data": {
      "text/plain": [
       "[{'missing_entities': ['Bündnis Tempolimit jetzt!, Sebastian Vettel'],\n",
       "  'denser_summary': 'Laut einer YouGov-Umfrage unterstützen 57% der Deutschen ein Tempolimit von 130 km/h auf Autobahnen. Das Bündnis Tempolimit jetzt!, zu dem auch Sebastian Vettel gehört, setzt sich für eine Geschwindigkeitsbegrenzung ein. Verkehrsminister Volker Wissing von der FDP ist jedoch gegen staatlich verordnete Geschwindigkeitsbeschränkungen. Deutschland ist eines der wenigen Länder in Europa ohne Höchstgeschwindigkeitsbegrenzung, aber die Debatte dauert seit Jahrzehnten an, wobei Sicherheitsbedenken und der Klimawandel wichtige Faktoren sind.'},\n",
       " {'missing_entities': ['Konrad Adenauer'],\n",
       "  'denser_summary': '1953, unter Kanzler Konrad Adenauer, erfolgte eine umfassende Deregulierung der Geschwindigkeitsbegrenzungen, die es den Fahrern ermöglichte, so schnell zu fahren, wie sie wollten. Die Einführung einer Geschwindigkeitsbegrenzung von 100 km/h auf Landstraßen im Jahr 1972 stieß auf Widerstand, ebenso wie die vorübergehende Begrenzung auf 100 km/h auf Autobahnen während der Ölkrise 1973. Heute haben rund 70% der deutschen Autobahnen keine offizielle Geschwindigkeitsbegrenzung, und die Debatte geht weiter.'},\n",
       " {'missing_entities': ['Umweltbundesamt'],\n",
       "  'denser_summary': 'Laut einer Studie des Umweltbundesamts könnte eine Geschwindigkeitsbegrenzung von 120 km/h auf deutschen Autobahnen die Treibhausgasemissionen um 4,2% pro Jahr reduzieren. Darüber hinaus zeigen Statistiken, dass Autobahnen ohne Geschwindigkeitsbegrenzung etwa 75% mehr tödliche Unfälle pro Milliarde gefahrener Kilometer haben als Autobahnen mit Geschwindigkeitsbegrenzungen. Trotzdem schätzen viele Deutsche die Freiheit, auf der Autobahn schnell fahren zu können.'},\n",
       " {'missing_entities': ['Institut der deutschen Wirtschaft, ADAC'],\n",
       "  'denser_summary': 'Eine Studie des Instituts der deutschen Wirtschaft ergab, dass 77% der Fahrer auf deutschen Autobahnen ohne Geschwindigkeitsbegrenzung langsamer als 130 km/h fahren, während weniger als 2% schneller als 160 km/h fahren. Selbst die Mehrheit der ADAC-Mitglieder unterstützt ein Tempolimit, aber die Regierung hat zugesagt, keines einzuführen, auf Wunsch der FDP.'},\n",
       " {'missing_entities': ['Isle of Man'],\n",
       "  'denser_summary': 'Deutschland und die Isle of Man in der Irischen See sind die einzigen Orte in Europa ohne Höchstgeschwindigkeitsbegrenzung, aber die Isle of Man hat keine Autobahnen. Die meisten Länder haben Geschwindigkeitsbegrenzungen, obwohl einige schlechte Straßenbedingungen haben. Die Debatte über ein Tempolimit auf deutschen Autobahnen dauert an, wobei Sicherheitsbedenken und der Klimawandel wichtige Faktoren sind.'}]"
      ]
     },
     "execution_count": 159,
     "metadata": {},
     "output_type": "execute_result"
    }
   ],
   "source": [
    "cleaned"
   ]
  },
  {
   "cell_type": "code",
   "execution_count": 191,
   "metadata": {},
   "outputs": [],
   "source": [
    "from __future__ import annotations\n",
    "\n",
    "import tiktoken\n",
    "\n",
    "MODELS_2_TOKEN_LIMITS = {\n",
    "    \"gpt-35-turbo\": 4000,\n",
    "    \"gpt-3.5-turbo\": 4000,\n",
    "    \"gpt-35-turbo-16k\": 16000,\n",
    "    \"gpt-3.5-turbo-16k\": 16000,\n",
    "    \"gpt-4\": 8100,\n",
    "    \"gpt-4-32k\": 32000\n",
    "}\n",
    "\n",
    "AOAI_2_OAI = {\n",
    "    \"gpt-35-turbo\": \"gpt-3.5-turbo\",\n",
    "    \"gpt-35-turbo-16k\": \"gpt-3.5-turbo-16k\"\n",
    "}\n",
    "\n",
    "\n",
    "def get_token_limit(model_id: str) -> int:\n",
    "    if model_id not in MODELS_2_TOKEN_LIMITS:\n",
    "        raise ValueError(\"Expected model gpt-35-turbo and above\")\n",
    "    return MODELS_2_TOKEN_LIMITS[model_id]\n",
    "\n",
    "\n",
    "def num_tokens_from_messages(messages: 'list[dict[str, str]]', model: str) -> int:\n",
    "    num_tokens = 0\n",
    "    for conversation in messages:\n",
    "        if(\"user\" in conversation and conversation[\"user\"]):\n",
    "            userMsg = conversation[\"user\"]\n",
    "            num_tokens += num_tokens_from_message(message= userMsg, model=model)\n",
    "        if(\"bot\" in conversation and conversation[\"bot\"]):\n",
    "            aiMsg = conversation[\"bot\"]\n",
    "            num_tokens += num_tokens_from_message(message= aiMsg, model=model)\n",
    "    return num_tokens\n",
    "           \n",
    "def num_tokens_from_message(message: str, model: str, token_per_message: int = 3) -> int:\n",
    "    \"\"\"\n",
    "    Calculate the number of tokens required to encode a message.\n",
    "    Args:\n",
    "        message (str): The message to encode\n",
    "        model (str): The name of the model to use for encoding.\n",
    "        token_per_message (number): offset per message\n",
    "    Returns:\n",
    "        int: The total number of tokens required to encode the message.\n",
    "    Example:\n",
    "        message = {'role': 'user', 'content': 'Hello, how are you?'}\n",
    "        model = 'gpt-3.5-turbo'\n",
    "        num_tokens_from_messages(message, model)\n",
    "        output: 11\n",
    "    \"\"\"\n",
    "    encoding = tiktoken.encoding_for_model(get_oai_chatmodel_tiktok(model))\n",
    "    num_tokens = token_per_message  # For \"role\" and \"content\" keys\n",
    "    num_tokens += len(encoding.encode(message))\n",
    "    return num_tokens\n",
    "\n",
    "\n",
    "def get_oai_chatmodel_tiktok(aoaimodel: str) -> str:\n",
    "    message = \"Expected Azure OpenAI ChatGPT model name\"\n",
    "    if aoaimodel == \"\" or aoaimodel is None:\n",
    "        raise ValueError(message)\n",
    "    if aoaimodel not in AOAI_2_OAI and aoaimodel not in MODELS_2_TOKEN_LIMITS:\n",
    "        raise ValueError(message)\n",
    "    return AOAI_2_OAI.get(aoaimodel) or aoaimodel"
   ]
  },
  {
   "cell_type": "code",
   "execution_count": 192,
   "metadata": {},
   "outputs": [
    {
     "data": {
      "text/plain": [
       "1089"
      ]
     },
     "execution_count": 192,
     "metadata": {},
     "output_type": "execute_result"
    }
   ],
   "source": [
    "sumprompt = getSummarizationPrompt()\n",
    "translateprompt = getTranslationPrompt()\n",
    "num_tokens_from_message(sumprompt.format(text=text), \"gpt-35-turbo\", 0) + num_tokens_from_message(translateprompt.format(language=language, sum= result[\"sum\"]), \"gpt-35-turbo\", 0) #prompt tokens"
   ]
  },
  {
   "cell_type": "code",
   "execution_count": 193,
   "metadata": {},
   "outputs": [
    {
     "data": {
      "text/plain": [
       "'\\nÜbersetze das folgende JSON in deutsch. Beinhalte die Formatierung als RFC8259 JSON bei.\\n\\nJSON: {\\n\"data\": [\\n   {\\n      \"missing_entities\": \"Anna, a student\"\\n      \"denser_summary\": \"Anna, a 16-year-old student, wakes up at 7am to a ringing alarm clock. She has breakfast, makes her bed, and catches the school bus. After school, she does homework and spends time with friends before dinner. She watches TV before going to bed at 10pm.\"\\n   },\\n   {\\n      \"missing_entities\": \"toilet, face washing\"\\n      \"denser_summary\": \"Anna wakes up to an alarm clock, uses the toilet, and washes her face before showering. She gets dressed and has breakfast before making her bed and heading to school.\"\\n   },\\n   {\\n      \"missing_entities\": \"cold water, toothbrushing\"\\n      \"denser_summary\": \"Anna showers with warm and cold water to wake up, brushes her teeth after getting dressed, and catches the bus to school after breakfast. She does homework and hangs out with friends in the afternoon.\"\\n   },\\n   {\\n      \"missing_entities\": \"bedtime routine\"\\n      \"denser_summary\": \"Anna watches TV before going to bed at 10pm. She wakes up to an alarm clock, has breakfast, catches the school bus, and does homework in the afternoon before spending time with friends and having dinner.\"\\n   },\\n   {\\n      \"missing_entities\": \"Müsli, bed making\"\\n      \"denser_summary\": \"Anna always has breakfast, usually eating Müsli or toast with marmalade and drinking tea or coffee. She makes her bed in the morning before heading to school and watches TV before going to sleep.\"\\n   }\\n]\\n}\\n'"
      ]
     },
     "execution_count": 193,
     "metadata": {},
     "output_type": "execute_result"
    }
   ],
   "source": [
    "translateprompt.format(language=language, sum= result[\"sum\"])"
   ]
  },
  {
   "cell_type": "code",
   "execution_count": 194,
   "metadata": {},
   "outputs": [
    {
     "data": {
      "text/plain": [
       "815"
      ]
     },
     "execution_count": 194,
     "metadata": {},
     "output_type": "execute_result"
    }
   ],
   "source": [
    "num_tokens_from_message(result[\"translation\"], \"gpt-35-turbo\", 0) + num_tokens_from_message(result[\"sum\"], \"gpt-35-turbo\",0) #result tokens\n"
   ]
  },
  {
   "cell_type": "code",
   "execution_count": 195,
   "metadata": {},
   "outputs": [
    {
     "data": {
      "text/plain": [
       "(1105, 815)"
      ]
     },
     "execution_count": 195,
     "metadata": {},
     "output_type": "execute_result"
    }
   ],
   "source": [
    "cb.prompt_tokens, cb.completion_tokens"
   ]
  },
  {
   "cell_type": "code",
   "execution_count": null,
   "metadata": {},
   "outputs": [],
   "source": []
  }
 ],
 "metadata": {
  "kernelspec": {
   "display_name": "Python 3 (ipykernel)",
   "language": "python",
   "name": "python3"
  },
  "language_info": {
   "codemirror_mode": {
    "name": "ipython",
    "version": 3
   },
   "file_extension": ".py",
   "mimetype": "text/x-python",
   "name": "python",
   "nbconvert_exporter": "python",
   "pygments_lexer": "ipython3",
   "version": "3.8.7"
  }
 },
 "nbformat": 4,
 "nbformat_minor": 4
}
