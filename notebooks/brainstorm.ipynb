{
 "cells": [
  {
   "cell_type": "code",
   "execution_count": 9,
   "metadata": {},
   "outputs": [],
   "source": [
    "from typing import Any\n",
    "from langchain import LLMChain\n",
    "\n",
    "import openai\n",
    "from langchain.chat_models import AzureChatOpenAI\n",
    "from langchain.chains import SequentialChain\n",
    "from langchain.prompts import PromptTemplate"
   ]
  },
  {
   "cell_type": "code",
   "execution_count": 10,
   "metadata": {},
   "outputs": [],
   "source": [
    "user_mindmap_prompt = \"\"\"\n",
    "    In a markdown file (MD) plan out a mind map on the topic {topic}. Follow the format in this example. Write it in a code snippet I can copy from directly. Provide only code, no description. Include the exact format I used below.\n",
    "Example markdown format:\n",
    "\n",
    "# Central topic\n",
    "\n",
    "## Main topic 1\n",
    "\n",
    "### Subtopic 1\n",
    "\n",
    "– Subtopic 1\n",
    "\n",
    "– Subtopic 2\n",
    "\n",
    "– Subtopic 3\n",
    "\n",
    "### Subtopic 2\n",
    "\n",
    "– Subtopic 1\n",
    "\n",
    "– Subtopic 2\n",
    "\n",
    "– Subtopic 3\n",
    "\n",
    "## Main topic 2\n",
    "\n",
    "### Subtopic 1\n",
    "\n",
    "– Subtopic 1\n",
    "\n",
    "– Subtopic 2\n",
    "\n",
    "– Subtopic 3\"\"\"\n",
    "\n",
    "user_translate_prompt = \"\"\"\n",
    "Übersetze den folgenden Text in {language}. Beinhalte die Markdown Formatierung bei.\n",
    "\n",
    "Text: \n",
    "{brainstorm}\"\"\""
   ]
  },
  {
   "cell_type": "code",
   "execution_count": 11,
   "metadata": {},
   "outputs": [],
   "source": [
    "def getBrainstormPrompt() -> PromptTemplate:\n",
    "    return PromptTemplate(input_variables=[\"topic\"], template=user_mindmap_prompt)\n",
    "\n",
    "def getTranslationPrompt() -> PromptTemplate:\n",
    "    return PromptTemplate(input_variables=[\"language\", \"brainstorm\"], template=user_translate_prompt)\n"
   ]
  },
  {
   "cell_type": "code",
   "execution_count": 21,
   "metadata": {},
   "outputs": [],
   "source": [
    "import os\n",
    "os.environ['http_proxy'] = \"http://internet-proxy-client.muenchen.de:80\" \n",
    "os.environ['https_proxy'] = \"http://internet-proxy-client.muenchen.de:80\" "
   ]
  },
  {
   "cell_type": "code",
   "execution_count": 22,
   "metadata": {},
   "outputs": [],
   "source": [
    "openai.api_type = \"azure\"\n",
    "openai.api_base = f\"https://cog-tb726faeoukc2.openai.azure.com/\"\n",
    "openai.api_version = \"2023-05-15\"\n",
    "openai.api_key = \"9324d0a0d0bd4d72b0e34596a9dc4a9c\""
   ]
  },
  {
   "cell_type": "code",
   "execution_count": 18,
   "metadata": {},
   "outputs": [],
   "source": [
    "verbose = True\n",
    "llm = AzureChatOpenAI(\n",
    "    model=\"gpt-35-turbo\",\n",
    "    temperature= 0.9,\n",
    "    max_tokens=4096,\n",
    "    n=1,\n",
    "    deployment_name= \"chat\",\n",
    "    openai_api_key=openai.api_key,\n",
    "    openai_api_base=openai.api_base,\n",
    "    openai_api_version=openai.api_version,\n",
    "    openai_api_type=openai.api_type\n",
    ")\n",
    "brainstormChain = LLMChain(llm=llm, prompt=getBrainstormPrompt(), output_key=\"brainstorm\", verbose=verbose)\n",
    "translationChain = LLMChain(llm=llm, prompt=getTranslationPrompt(), output_key=\"translation\", verbose=verbose)\n",
    "overall_chain = SequentialChain(\n",
    "    chains=[brainstormChain, translationChain], \n",
    "    input_variables=[\"language\", \"topic\"],\n",
    "    output_variables=[\"brainstorm\",\"translation\"],\n",
    "    verbose=verbose)"
   ]
  },
  {
   "cell_type": "code",
   "execution_count": 19,
   "metadata": {},
   "outputs": [],
   "source": [
    "topic = \"Dinge, die man auf dem Oktoberfest machen kann\"\n",
    "language=\"englisch\""
   ]
  },
  {
   "cell_type": "code",
   "execution_count": 23,
   "metadata": {},
   "outputs": [
    {
     "name": "stdout",
     "output_type": "stream",
     "text": [
      "\n",
      "\n",
      "\u001b[1m> Entering new SequentialChain chain...\u001b[0m\n",
      "\n",
      "\n",
      "\u001b[1m> Entering new LLMChain chain...\u001b[0m\n",
      "Prompt after formatting:\n",
      "\u001b[32;1m\u001b[1;3m\n",
      "    In a markdown file (MD) plan out a mind map on the topic Dinge, die man auf dem Oktoberfest machen kann. Follow the format in this example. Write it in a code snippet I can copy from directly. Provide only code, no description. Include the exact format I used below.\n",
      "Example markdown format:\n",
      "\n",
      "# Central topic\n",
      "\n",
      "## Main topic 1\n",
      "\n",
      "### Subtopic 1\n",
      "\n",
      "– Subtopic 1\n",
      "\n",
      "– Subtopic 2\n",
      "\n",
      "– Subtopic 3\n",
      "\n",
      "### Subtopic 2\n",
      "\n",
      "– Subtopic 1\n",
      "\n",
      "– Subtopic 2\n",
      "\n",
      "– Subtopic 3\n",
      "\n",
      "## Main topic 2\n",
      "\n",
      "### Subtopic 1\n",
      "\n",
      "– Subtopic 1\n",
      "\n",
      "– Subtopic 2\n",
      "\n",
      "– Subtopic 3\u001b[0m\n",
      "\n",
      "\u001b[1m> Finished chain.\u001b[0m\n",
      "\n",
      "\n",
      "\u001b[1m> Entering new LLMChain chain...\u001b[0m\n",
      "Prompt after formatting:\n",
      "\u001b[32;1m\u001b[1;3m\n",
      "Übersetze den folgenden Text in englisch. Beinhalte die Markdown Formatierung bei.\n",
      "\n",
      "Text: \n",
      "# Dinge, die man auf dem Oktoberfest machen kann\n",
      "\n",
      "## Essen und Trinken\n",
      "\n",
      "### Essen\n",
      "\n",
      "- Hendl\n",
      "- Brezen\n",
      "- Schweinshaxe\n",
      "- Radi\n",
      "- Obatzda\n",
      "- Leberkäse\n",
      "- Steckerlfisch\n",
      "\n",
      "### Trinken\n",
      "\n",
      "- Bier\n",
      "- Radler\n",
      "- Spezi\n",
      "- Wein\n",
      "- Schnaps\n",
      "\n",
      "## Unterhaltung\n",
      "\n",
      "### Fahrgeschäfte\n",
      "\n",
      "- Achterbahn\n",
      "- Riesenrad\n",
      "- Geisterbahn\n",
      "- Autoscooter\n",
      "- Kettenkarussell\n",
      "\n",
      "### Musik\n",
      "\n",
      "- Blaskapelle\n",
      "- DJ\n",
      "- Schlager\n",
      "\n",
      "### Spiele\n",
      "\n",
      "- Dosenwerfen\n",
      "- Hau den Lukas\n",
      "- Entenangeln\n",
      "- Schießbude\n",
      "\n",
      "## Tracht\n",
      "\n",
      "### Dirndl\n",
      "\n",
      "- Dirndlkleid\n",
      "- Schürze\n",
      "- Bluse\n",
      "- Haarschmuck\n",
      "\n",
      "### Lederhosen\n",
      "\n",
      "- Lederhose\n",
      "- Karohemd\n",
      "- Haferlschuhe\n",
      "- Trachtenhut\u001b[0m\n",
      "\n",
      "\u001b[1m> Finished chain.\u001b[0m\n",
      "\n",
      "\u001b[1m> Finished chain.\u001b[0m\n"
     ]
    }
   ],
   "source": [
    "result = await overall_chain.acall({\"topic\": topic, \"language\": language})"
   ]
  },
  {
   "cell_type": "code",
   "execution_count": 52,
   "metadata": {},
   "outputs": [
    {
     "data": {
      "text/plain": [
       "{'topic': 'Dinge, die man auf dem Oktoberfest machen kann',\n",
       " 'language': 'englisch',\n",
       " 'brainstorm': '# Dinge, die man auf dem Oktoberfest machen kann\\n\\n## Traditionelle Aktivitäten\\n\\n### Auf der Wiesn spazieren\\n\\n- Über das Gelände schlendern\\n- Die vielen Zelte besuchen\\n- Die bunten Lichter genießen\\n\\n### Bier trinken\\n\\n- Eine Maß Bier trinken\\n- Das Bier schunkelnd genießen\\n- Mit Freunden anstoßen\\n\\n### Bayern erleben\\n\\n- Tracht tragen\\n- Bayerns Kultur erleben\\n- In einem der vielen Festzüge mitlaufen\\n\\n## Essensmöglichkeiten\\n\\n### Leckereien probieren\\n\\n- Hendl essen\\n- Brezn naschen\\n- Bayerischen Käse genießen\\n\\n### Süße Verführung\\n\\n- Kaiserschmarrn essen\\n- Apfelstrudel probieren\\n- Schokofrüchte genießen\\n\\n### Fischspezialitäten\\n\\n- Steckerlfisch essen\\n- Gebratene Garnelen probieren\\n- Sushi genießen\\n\\n## Interessante Veranstaltungen\\n\\n### Fahrgeschäfte\\n\\n- Karussells fahren\\n- Achterbahn fahren\\n- Über den Dächern Münchens chillen\\n\\n### Musikalisches Programm\\n\\n- Auf den Bühnen gute Musik genießen\\n- Traditionelle Lieder hören\\n- Mitziehen und mitsingen\\n\\n### Wettbewerbe\\n\\n- Im Maßkrugstemmen teilnehmen\\n- XXL-Weißwurst essen\\n- Bei der Miss-Wahl mitmachen',\n",
       " 'translation': '# Things to do at Oktoberfest\\n\\n## Traditional activities\\n\\n### Strolling around the Wiesn\\n\\n- Walk around the festival grounds\\n- Visit the numerous beer tents\\n- Enjoy the colorful lights\\n\\n### Drinking beer\\n\\n- Have a Maß of beer\\n- Enjoy the beer while swaying to the music\\n- Toast with friends\\n\\n### Experiencing Bavaria\\n\\n- Wear traditional Bavarian clothing\\n- Experience Bavarian culture\\n- Participate in one of the many parades\\n\\n## Food options\\n\\n### Trying out delicacies\\n\\n- Eat grilled chicken\\n- Snack on pretzels\\n- Enjoy Bavarian cheese\\n\\n### Sweet temptations\\n\\n- Try Kaiserschmarrn\\n- Sample apple strudel\\n- Indulge in chocolate-covered fruit\\n\\n### Seafood specialties\\n\\n- Eat Steckerlfisch (grilled fish on a stick)\\n- Try fried shrimp\\n- Enjoy sushi\\n\\n## Interesting events\\n\\n### Rides\\n\\n- Ride carousels\\n- Ride roller coasters\\n- Relax on the rooftop of Munich\\n\\n### Musical program\\n\\n- Enjoy good music on stage\\n- Listen to traditional songs\\n- Join in and sing along\\n\\n### Contests\\n\\n- Participate in the beer stein-holding competition\\n- Eat an XXL-sized white sausage\\n- Take part in the Miss Oktoberfest contest'}"
      ]
     },
     "execution_count": 52,
     "metadata": {},
     "output_type": "execute_result"
    }
   ],
   "source": [
    "result"
   ]
  },
  {
   "cell_type": "code",
   "execution_count": 45,
   "metadata": {},
   "outputs": [
    {
     "data": {
      "text/plain": [
       "'# Things to do at Oktoberfest\\n\\n## Food and Drink\\n\\n### Food\\n\\n- Roast chicken\\n- Pretzel\\n- Pork knuckle\\n- Meatloaf\\n- Cheese spread\\n\\n### Drinks\\n\\n- Beer\\n- Wheat beer\\n- Shandy\\n- Apple juice with sparkling water\\n- Non-alcoholic beer\\n\\n## Rides\\n\\n### Classics\\n\\n- Ferris wheel\\n- Ghost train\\n- Bumper cars\\n\\n### Thrill rides\\n\\n- Looping roller coaster\\n- Free fall tower\\n- Breakdance ride\\n\\n## Music and Entertainment\\n\\n### Music\\n\\n- Brass bands\\n- DJs\\n- Live bands\\n\\n### Games and Prizes\\n\\n- Tin can toss\\n- Shooting gallery\\n- Duck fishing\\n\\n## Tradition and Culture\\n\\n### Tracht (traditional clothing)\\n\\n- Lederhosen (leather shorts)\\n- Dirndl (traditional dress)\\n\\n### Traditional events\\n\\n- Costume parade\\n- Oktoberfest run\\n- Tapping of the first beer barrel'"
      ]
     },
     "execution_count": 45,
     "metadata": {},
     "output_type": "execute_result"
    }
   ],
   "source": [
    "result[\"translation\"]"
   ]
  },
  {
   "cell_type": "code",
   "execution_count": null,
   "metadata": {},
   "outputs": [],
   "source": []
  },
  {
   "cell_type": "code",
   "execution_count": null,
   "metadata": {},
   "outputs": [],
   "source": []
  }
 ],
 "metadata": {
  "kernelspec": {
   "display_name": "backend_env",
   "language": "python",
   "name": "python3"
  },
  "language_info": {
   "codemirror_mode": {
    "name": "ipython",
    "version": 3
   },
   "file_extension": ".py",
   "mimetype": "text/x-python",
   "name": "python",
   "nbconvert_exporter": "python",
   "pygments_lexer": "ipython3",
   "version": "3.8.7"
  },
  "orig_nbformat": 4
 },
 "nbformat": 4,
 "nbformat_minor": 2
}
