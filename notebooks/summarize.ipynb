{
 "cells": [
  {
   "cell_type": "code",
   "execution_count": 1,
   "metadata": {},
   "outputs": [],
   "source": [
    "from typing import Any\n",
    "from langchain import LLMChain\n",
    "\n",
    "import openai\n",
    "from langchain.chat_models import AzureChatOpenAI\n",
    "from langchain.prompts import PromptTemplate\n",
    "from langchain.chains import SequentialChain\n"
   ]
  },
  {
   "cell_type": "code",
   "execution_count": 2,
   "metadata": {},
   "outputs": [],
   "source": [
    "\"\"\"Chain of Density prompting: https://arxiv.org/abs/2309.04269\"\"\"\n",
    "user_sum_prompt = \"\"\"\n",
    "Article: {text}\n",
    "You will generate increasingly concise entity-dense summaries of the above article. Repeat the following 2 steps 5 times.\n",
    "\n",
    "Step 1: Identify 1-3 informative entities (delimited) from the article which are missing from the previously generated summary.\n",
    "Step 2: Write a new denser summary of identical length which covers every entity and detail from the previous summary plus the missing entities.\n",
    "\n",
    "A missing entity is\n",
    "- Relevant: to the main stories.\n",
    "- Specific: descriptive yet concise (5 words or fewer).\n",
    "- Novel: not in the previous summary.\n",
    "- Faithful: present in the article.\n",
    "- Anywhere: located in the article.\n",
    "\n",
    "Guidelines:\n",
    "- The first summary should be long (4-5 sentences, ~80 words), yet highly non-specific, containing little information beyond the entities marked as missing. Use overly verbose language and fillers (e.g., \"this article discusses\") to reach ~80 words.\n",
    "- Make every word count. Rewrite the previous summary to improve flow and make space for additional entities.\n",
    "- Make space with fusion, compression, and removal of uninformative phrases like \"the article discusses\".\n",
    "- The summaries should become highly dense and concise, yet self-contained, e.g., easily understood without the article.\n",
    "- Missing entities can appear anywhere in the new summary.\n",
    "- Never drop entities from the previous summary. If space cannot be made, add fewer new entities.\n",
    "\n",
    "Remember: Use the exact same number of words for each summary.\n",
    "Answer in JSON. The JSON should be a list (length 5) of dictionaries whose keys are \"missing_entities\" and \"denser_summary\".\n",
    "\"\"\"\n",
    "\n",
    "user_translate_prompt = \"\"\"\n",
    "Text: {sum}\n",
    "\n",
    "Übersetze den Text in {language}. Beinhalte die Formatierung als JSON bei.\n",
    "\"\"\"\n"
   ]
  },
  {
   "cell_type": "code",
   "execution_count": 3,
   "metadata": {},
   "outputs": [],
   "source": [
    "def getSummarizationPrompt() -> PromptTemplate:\n",
    "    return PromptTemplate(input_variables=[\"text\"], template=user_sum_prompt)\n",
    "\n",
    "def getTranslationPrompt() -> PromptTemplate:\n",
    "    return PromptTemplate(input_variables=[\"language\", \"sum\"], template=user_translate_prompt)\n"
   ]
  },
  {
   "cell_type": "code",
   "execution_count": 4,
   "metadata": {},
   "outputs": [],
   "source": [
    "import os\n",
    "os.environ['http_proxy'] = \"http://internet-proxy-client.muenchen.de:80\" \n",
    "os.environ['https_proxy'] = \"http://internet-proxy-client.muenchen.de:80\" "
   ]
  },
  {
   "cell_type": "code",
   "execution_count": 5,
   "metadata": {},
   "outputs": [],
   "source": [
    "openai.api_type = \"azure\"\n",
    "openai.api_base = f\"https://cog-tb726faeoukc2.openai.azure.com\"\n",
    "openai.api_version = \"2023-05-15\"\n",
    "openai.api_key = \"9324d0a0d0bd4d72b0e34596a9dc4a9c\""
   ]
  },
  {
   "cell_type": "code",
   "execution_count": 41,
   "metadata": {},
   "outputs": [],
   "source": [
    "from typing import Dict\n",
    "from langchain.callbacks.base import BaseCallbackHandler\n",
    "from langchain.schema.output import LLMResult\n",
    "class MyCustomHandler(BaseCallbackHandler):\n",
    "    def on_text(self, text: str, **kwargs: Any) -> Any:\n",
    "        print(f\"Text: {text}\")\n",
    "        self.log = text\n",
    "\n",
    "    def on_llm_end(self, response: LLMResult, **kwargs: Any) -> Any:\n",
    "        \"\"\"Run when LLM ends running.\"\"\"\n",
    "        print(response.llm_output.keys())\n",
    "        print(response.llm_output)"
   ]
  },
  {
   "cell_type": "code",
   "execution_count": null,
   "metadata": {},
   "outputs": [],
   "source": []
  },
  {
   "cell_type": "code",
   "execution_count": 42,
   "metadata": {},
   "outputs": [],
   "source": [
    "verbose = True\n",
    "llm = AzureChatOpenAI(\n",
    "    model=\"gpt-35-turbo\",\n",
    "    temperature= 0.7,\n",
    "    max_tokens=4096,\n",
    "    n=1,\n",
    "    deployment_name= \"chat\",\n",
    "    openai_api_key=openai.api_key,\n",
    "    openai_api_base=openai.api_base,\n",
    "    openai_api_version=openai.api_version,\n",
    "    openai_api_type=openai.api_type,\n",
    "    callbacks=[MyCustomHandler()]\n",
    ")\n",
    "summarizationChain = LLMChain(llm=llm, prompt=getSummarizationPrompt(), output_key=\"sum\", verbose=verbose)\n",
    "translationChain = LLMChain(llm=llm, prompt=getTranslationPrompt(), output_key=\"translation\", verbose=verbose)\n",
    "overall_chain = SequentialChain(\n",
    "    chains=[summarizationChain, translationChain], \n",
    "    input_variables=[\"language\", \"text\"],\n",
    "    output_variables=[\"translation\", \"sum\"],\n",
    "    verbose=verbose\n",
    ")"
   ]
  },
  {
   "cell_type": "code",
   "execution_count": 43,
   "metadata": {},
   "outputs": [],
   "source": [
    "text =\"\"\"Der Zoo Hof vermisst seit dem Wochenende das Känguru Willi. Das Tier sei seitdem mehrmals gesichtet worden, sagte ein Polizeisprecher am Dienstag. \"Es ist bisher nicht gelungen, es einzufangen.\" Mehrere Medien hatten zuvor darüber berichtet.\n",
    "\n",
    "Der Zoo schrieb auf Instagram, dass das graubraune Känguru-Männchen Willi am Samstagmorgen nicht mehr im Gehege gewesen sei. Wie das etwa 70 Zentimeter große Tier den Zoo verlassen konnte, sei noch in Klärung. \"Da das Tier von Blättern und Gras lebt, befindet es sich momentan nicht in der Gefahr des Verhungerns, einzig die Beutegreifer in der Natur könnten ihm gefährlich werden. Wer das Känguru sehe, soll es nur aus der Ferne beobachten und die Polizei verständigen, bat der Zoo im bayerischen Oberfranken. \"Bitte unterlassen Sie Suchen auf eigene Faust, dies würde das Tier nur noch weiter unnötig stressen.\"\n",
    "\n",
    "Entlaufene Kängurus wurden in den vergangenen Jahren immer mal wieder in Bayern gemeldet. Zuletzt war im Sommer das Känguru-Männchen Toni aus dem Gehege eines Hotels im Bayerischen Wald ausgebüxt. Mit einer Spur aus Leckereien konnten die Besitzer es nach mehreren Wochen schließlich in sein Gehege zurück locken.\"\"\"\n",
    "text =\"\"\"Autonome Autos sind Autos, die komplett selbstständig fahren. Sie brauchen keinen Fahrer mehr. Ihr Innenraum könnte beispielsweise wie in einem Zug aussehen, mit vier Sitzen und eventuell einem Tisch. Lenkrad, Pedale, Schaltknüppel – all das wäre nicht mehr vorhanden. Damit diese Autos autonom fahren können, sind sie mit einer Fülle von Technik ausgestattet. Laser, Sensoren, Kameras, ein GPS-Empfänger, Messgeräte und ein Bordcomputer erkennen andere Verkehrsteilnehmer, Straßenschilder, Ampeln usw. Sie machen es möglich, dass das Auto sich sicher durch den Verkehr bewegt und Kollisionen vermeidet. Mehrere Autohersteller arbeiten an verschiedenen Modellen autonomer Autos und die Forschung ist schon weit fortgeschritten.\"\"\"\n",
    "language=\"deutsch\""
   ]
  },
  {
   "cell_type": "code",
   "execution_count": 46,
   "metadata": {},
   "outputs": [
    {
     "name": "stdout",
     "output_type": "stream",
     "text": [
      "\n",
      "\n",
      "\u001b[1m> Entering new SequentialChain chain...\u001b[0m\n",
      "\n",
      "\n",
      "\u001b[1m> Entering new LLMChain chain...\u001b[0m\n",
      "Prompt after formatting:\n",
      "\u001b[32;1m\u001b[1;3m\n",
      "Article: Autonome Autos sind Autos, die komplett selbstständig fahren. Sie brauchen keinen Fahrer mehr. Ihr Innenraum könnte beispielsweise wie in einem Zug aussehen, mit vier Sitzen und eventuell einem Tisch. Lenkrad, Pedale, Schaltknüppel – all das wäre nicht mehr vorhanden. Damit diese Autos autonom fahren können, sind sie mit einer Fülle von Technik ausgestattet. Laser, Sensoren, Kameras, ein GPS-Empfänger, Messgeräte und ein Bordcomputer erkennen andere Verkehrsteilnehmer, Straßenschilder, Ampeln usw. Sie machen es möglich, dass das Auto sich sicher durch den Verkehr bewegt und Kollisionen vermeidet. Mehrere Autohersteller arbeiten an verschiedenen Modellen autonomer Autos und die Forschung ist schon weit fortgeschritten.\n",
      "You will generate increasingly concise entity-dense summaries of the above article. Repeat the following 2 steps 5 times.\n",
      "\n",
      "Step 1: Identify 1-3 informative entities (delimited) from the article which are missing from the previously generated summary.\n",
      "Step 2: Write a new denser summary of identical length which covers every entity and detail from the previous summary plus the missing entities.\n",
      "\n",
      "A missing entity is\n",
      "- Relevant: to the main stories.\n",
      "- Specific: descriptive yet concise (5 words or fewer).\n",
      "- Novel: not in the previous summary.\n",
      "- Faithful: present in the article.\n",
      "- Anywhere: located in the article.\n",
      "\n",
      "Guidelines:\n",
      "- The first summary should be long (4-5 sentences, ~80 words), yet highly non-specific, containing little information beyond the entities marked as missing. Use overly verbose language and fillers (e.g., \"this article discusses\") to reach ~80 words.\n",
      "- Make every word count. Rewrite the previous summary to improve flow and make space for additional entities.\n",
      "- Make space with fusion, compression, and removal of uninformative phrases like \"the article discusses\".\n",
      "- The summaries should become highly dense and concise, yet self-contained, e.g., easily understood without the article.\n",
      "- Missing entities can appear anywhere in the new summary.\n",
      "- Never drop entities from the previous summary. If space cannot be made, add fewer new entities.\n",
      "\n",
      "Remember: Use the exact same number of words for each summary.\n",
      "Answer in JSON. The JSON should be a list (length 5) of dictionaries whose keys are \"missing_entities\" and \"denser_summary\".\n",
      "\u001b[0m\n",
      "dict_keys(['token_usage', 'model_name'])\n",
      "{'token_usage': <OpenAIObject at 0x1e37c681b80> JSON: {\n",
      "  \"prompt_tokens\": 530,\n",
      "  \"completion_tokens\": 765,\n",
      "  \"total_tokens\": 1295\n",
      "}, 'model_name': 'gpt-35-turbo'}\n",
      "\n",
      "\u001b[1m> Finished chain.\u001b[0m\n",
      "\n",
      "\n",
      "\u001b[1m> Entering new LLMChain chain...\u001b[0m\n",
      "Prompt after formatting:\n",
      "\u001b[32;1m\u001b[1;3m\n",
      "Text: [{\"missing_entities\": \"Autonome Autos\", \"denser_summary\": \"Autonome Autos fahren komplett selbstständig, ohne Fahrer. Sie sind mit Technik wie Laser, Sensoren, Kameras, GPS-Empfänger, Messgeräten und Bordcomputern ausgestattet, um sicher durch den Verkehr zu navigieren und Kollisionen zu vermeiden. Der Innenraum könnte wie in einem Zug aussehen, mit vier Sitzen und eventuell einem Tisch. Mehrere Autohersteller arbeiten an verschiedenen Modellen autonomer Autos und die Forschung ist schon weit fortgeschritten.\"},\n",
      "{\"missing_entities\": \"Lenkrad, Pedale, Schaltknüppel\", \"denser_summary\": \"Autonome Autos fahren komplett selbstständig, ohne Fahrer. Der Innenraum könnte wie in einem Zug aussehen, mit vier Sitzen und eventuell einem Tisch. Sie sind mit Technik wie Laser, Sensoren, Kameras, GPS-Empfänger, Messgeräten und Bordcomputern ausgestattet, um sicher durch den Verkehr zu navigieren und Kollisionen zu vermeiden. Lenkrad, Pedale und Schaltknüppel sind nicht mehr vorhanden. Die Forschung ist schon weit fortgeschritten.\"},\n",
      "{\"missing_entities\": \"andere Verkehrsteilnehmer, Straßenschilder, Ampeln\", \"denser_summary\": \"Autonome Autos fahren komplett selbstständig, ohne Fahrer. Der Innenraum könnte wie in einem Zug aussehen, mit vier Sitzen und eventuell einem Tisch. Sie sind mit Technik wie Laser, Sensoren, Kameras, GPS-Empfänger, Messgeräten und Bordcomputern ausgestattet, um sicher durch den Verkehr zu navigieren, andere Verkehrsteilnehmer, Straßenschilder und Ampeln zu erkennen und Kollisionen zu vermeiden. Lenkrad, Pedale und Schaltknüppel sind nicht mehr vorhanden.\"},\n",
      "{\"missing_entities\": \"Modelle autonomer Autos, sich sicher durch den Verkehr zu bewegen\", \"denser_summary\": \"Mehrere Autohersteller arbeiten an verschiedenen Modellen autonomer Autos, die komplett selbstständig fahren. Der Innenraum könnte wie in einem Zug aussehen, mit vier Sitzen und eventuell einem Tisch. Sie sind mit Technik wie Laser, Sensoren, Kameras, GPS-Empfänger, Messgeräten und Bordcomputern ausgestattet, um sich sicher durch den Verkehr zu bewegen, andere Verkehrsteilnehmer, Straßenschilder und Ampeln zu erkennen und Kollisionen zu vermeiden. Lenkrad, Pedale und Schaltknüppel sind nicht mehr vorhanden.\"},\n",
      "{\"missing_entities\": \"Forschung\", \"denser_summary\": \"Die Forschung an autonomem Fahren ist schon weit fortgeschritten. Autonome Autos fahren komplett selbstständig, ohne Fahrer. Der Innenraum könnte wie in einem Zug aussehen, mit vier Sitzen und eventuell einem Tisch. Sie sind mit Technik wie Laser, Sensoren, Kameras, GPS-Empfänger, Messgeräten und Bordcomputern ausgestattet, um sich sicher durch den Verkehr zu bewegen, andere Verkehrsteilnehmer, Straßenschilder und Ampeln zu erkennen und Kollisionen zu vermeiden. Lenkrad, Pedale und Schaltknüppel sind nicht mehr vorhanden.\"}]\n",
      "\n",
      "Übersetze den Text in deutsch. Beinhalte die Formatierung als JSON bei.\n",
      "\u001b[0m\n",
      "dict_keys(['token_usage', 'model_name'])\n",
      "{'token_usage': <OpenAIObject at 0x1e37c66a4f0> JSON: {\n",
      "  \"prompt_tokens\": 796,\n",
      "  \"completion_tokens\": 765,\n",
      "  \"total_tokens\": 1561\n",
      "}, 'model_name': 'gpt-35-turbo'}\n",
      "\n",
      "\u001b[1m> Finished chain.\u001b[0m\n",
      "\n",
      "\u001b[1m> Finished chain.\u001b[0m\n"
     ]
    }
   ],
   "source": [
    "\n",
    "from langchain.callbacks import get_openai_callback\n",
    "with get_openai_callback() as cb:\n",
    "    result = overall_chain({\"text\": text, \"language\": language})\n",
    "total_tokens = cb.total_tokens"
   ]
  },
  {
   "cell_type": "code",
   "execution_count": 47,
   "metadata": {},
   "outputs": [
    {
     "data": {
      "text/plain": [
       "({'text': 'Autonome Autos sind Autos, die komplett selbstständig fahren. Sie brauchen keinen Fahrer mehr. Ihr Innenraum könnte beispielsweise wie in einem Zug aussehen, mit vier Sitzen und eventuell einem Tisch. Lenkrad, Pedale, Schaltknüppel – all das wäre nicht mehr vorhanden. Damit diese Autos autonom fahren können, sind sie mit einer Fülle von Technik ausgestattet. Laser, Sensoren, Kameras, ein GPS-Empfänger, Messgeräte und ein Bordcomputer erkennen andere Verkehrsteilnehmer, Straßenschilder, Ampeln usw. Sie machen es möglich, dass das Auto sich sicher durch den Verkehr bewegt und Kollisionen vermeidet. Mehrere Autohersteller arbeiten an verschiedenen Modellen autonomer Autos und die Forschung ist schon weit fortgeschritten.',\n",
       "  'language': 'deutsch',\n",
       "  'translation': '[{\"missing_entities\": \"Autonome Autos\", \"denser_summary\": \"Autonome Autos fahren komplett selbstständig, ohne Fahrer. Sie sind mit Technik wie Laser, Sensoren, Kameras, GPS-Empfänger, Messgeräten und Bordcomputern ausgestattet, um sicher durch den Verkehr zu navigieren und Kollisionen zu vermeiden. Der Innenraum könnte wie in einem Zug aussehen, mit vier Sitzen und eventuell einem Tisch. Mehrere Autohersteller arbeiten an verschiedenen Modellen autonomer Autos und die Forschung ist schon weit fortgeschritten.\"},\\n{\"missing_entities\": \"Lenkrad, Pedale, Schaltknüppel\", \"denser_summary\": \"Autonome Autos fahren komplett selbstständig, ohne Fahrer. Der Innenraum könnte wie in einem Zug aussehen, mit vier Sitzen und eventuell einem Tisch. Sie sind mit Technik wie Laser, Sensoren, Kameras, GPS-Empfänger, Messgeräten und Bordcomputern ausgestattet, um sicher durch den Verkehr zu navigieren und Kollisionen zu vermeiden. Lenkrad, Pedale und Schaltknüppel sind nicht mehr vorhanden. Die Forschung ist schon weit fortgeschritten.\"},\\n{\"missing_entities\": \"andere Verkehrsteilnehmer, Straßenschilder, Ampeln\", \"denser_summary\": \"Autonome Autos fahren komplett selbstständig, ohne Fahrer. Der Innenraum könnte wie in einem Zug aussehen, mit vier Sitzen und eventuell einem Tisch. Sie sind mit Technik wie Laser, Sensoren, Kameras, GPS-Empfänger, Messgeräten und Bordcomputern ausgestattet, um sicher durch den Verkehr zu navigieren, andere Verkehrsteilnehmer, Straßenschilder und Ampeln zu erkennen und Kollisionen zu vermeiden. Lenkrad, Pedale und Schaltknüppel sind nicht mehr vorhanden.\"},\\n{\"missing_entities\": \"Modelle autonomer Autos, sich sicher durch den Verkehr zu bewegen\", \"denser_summary\": \"Mehrere Autohersteller arbeiten an verschiedenen Modellen autonomer Autos, die komplett selbstständig fahren. Der Innenraum könnte wie in einem Zug aussehen, mit vier Sitzen und eventuell einem Tisch. Sie sind mit Technik wie Laser, Sensoren, Kameras, GPS-Empfänger, Messgeräten und Bordcomputern ausgestattet, um sich sicher durch den Verkehr zu bewegen, andere Verkehrsteilnehmer, Straßenschilder und Ampeln zu erkennen und Kollisionen zu vermeiden. Lenkrad, Pedale und Schaltknüppel sind nicht mehr vorhanden.\"},\\n{\"missing_entities\": \"Forschung\", \"denser_summary\": \"Die Forschung an autonomem Fahren ist schon weit fortgeschritten. Autonome Autos fahren komplett selbstständig, ohne Fahrer. Der Innenraum könnte wie in einem Zug aussehen, mit vier Sitzen und eventuell einem Tisch. Sie sind mit Technik wie Laser, Sensoren, Kameras, GPS-Empfänger, Messgeräten und Bordcomputern ausgestattet, um sich sicher durch den Verkehr zu bewegen, andere Verkehrsteilnehmer, Straßenschilder und Ampeln zu erkennen und Kollisionen zu vermeiden. Lenkrad, Pedale und Schaltknüppel sind nicht mehr vorhanden.\"}]',\n",
       "  'sum': '[{\"missing_entities\": \"Autonome Autos\", \"denser_summary\": \"Autonome Autos fahren komplett selbstständig, ohne Fahrer. Sie sind mit Technik wie Laser, Sensoren, Kameras, GPS-Empfänger, Messgeräten und Bordcomputern ausgestattet, um sicher durch den Verkehr zu navigieren und Kollisionen zu vermeiden. Der Innenraum könnte wie in einem Zug aussehen, mit vier Sitzen und eventuell einem Tisch. Mehrere Autohersteller arbeiten an verschiedenen Modellen autonomer Autos und die Forschung ist schon weit fortgeschritten.\"},\\n{\"missing_entities\": \"Lenkrad, Pedale, Schaltknüppel\", \"denser_summary\": \"Autonome Autos fahren komplett selbstständig, ohne Fahrer. Der Innenraum könnte wie in einem Zug aussehen, mit vier Sitzen und eventuell einem Tisch. Sie sind mit Technik wie Laser, Sensoren, Kameras, GPS-Empfänger, Messgeräten und Bordcomputern ausgestattet, um sicher durch den Verkehr zu navigieren und Kollisionen zu vermeiden. Lenkrad, Pedale und Schaltknüppel sind nicht mehr vorhanden. Die Forschung ist schon weit fortgeschritten.\"},\\n{\"missing_entities\": \"andere Verkehrsteilnehmer, Straßenschilder, Ampeln\", \"denser_summary\": \"Autonome Autos fahren komplett selbstständig, ohne Fahrer. Der Innenraum könnte wie in einem Zug aussehen, mit vier Sitzen und eventuell einem Tisch. Sie sind mit Technik wie Laser, Sensoren, Kameras, GPS-Empfänger, Messgeräten und Bordcomputern ausgestattet, um sicher durch den Verkehr zu navigieren, andere Verkehrsteilnehmer, Straßenschilder und Ampeln zu erkennen und Kollisionen zu vermeiden. Lenkrad, Pedale und Schaltknüppel sind nicht mehr vorhanden.\"},\\n{\"missing_entities\": \"Modelle autonomer Autos, sich sicher durch den Verkehr zu bewegen\", \"denser_summary\": \"Mehrere Autohersteller arbeiten an verschiedenen Modellen autonomer Autos, die komplett selbstständig fahren. Der Innenraum könnte wie in einem Zug aussehen, mit vier Sitzen und eventuell einem Tisch. Sie sind mit Technik wie Laser, Sensoren, Kameras, GPS-Empfänger, Messgeräten und Bordcomputern ausgestattet, um sich sicher durch den Verkehr zu bewegen, andere Verkehrsteilnehmer, Straßenschilder und Ampeln zu erkennen und Kollisionen zu vermeiden. Lenkrad, Pedale und Schaltknüppel sind nicht mehr vorhanden.\"},\\n{\"missing_entities\": \"Forschung\", \"denser_summary\": \"Die Forschung an autonomem Fahren ist schon weit fortgeschritten. Autonome Autos fahren komplett selbstständig, ohne Fahrer. Der Innenraum könnte wie in einem Zug aussehen, mit vier Sitzen und eventuell einem Tisch. Sie sind mit Technik wie Laser, Sensoren, Kameras, GPS-Empfänger, Messgeräten und Bordcomputern ausgestattet, um sich sicher durch den Verkehr zu bewegen, andere Verkehrsteilnehmer, Straßenschilder und Ampeln zu erkennen und Kollisionen zu vermeiden. Lenkrad, Pedale und Schaltknüppel sind nicht mehr vorhanden.\"}]'},\n",
       " 2856)"
      ]
     },
     "execution_count": 47,
     "metadata": {},
     "output_type": "execute_result"
    }
   ],
   "source": [
    "result, total_tokens"
   ]
  },
  {
   "cell_type": "code",
   "execution_count": 48,
   "metadata": {},
   "outputs": [
    {
     "data": {
      "text/plain": [
       "Tokens Used: 2856\n",
       "\tPrompt Tokens: 1326\n",
       "\tCompletion Tokens: 1530\n",
       "Successful Requests: 2\n",
       "Total Cost (USD): $0.005712"
      ]
     },
     "execution_count": 48,
     "metadata": {},
     "output_type": "execute_result"
    }
   ],
   "source": [
    "cb"
   ]
  },
  {
   "cell_type": "code",
   "execution_count": 122,
   "metadata": {},
   "outputs": [
    {
     "data": {
      "text/plain": [
       "'[  {    \"missing_entities\": \"GPS-Empfänger\",    \"denser_summary\": \"Autonome Autos nutzen Laser, Sensoren, Kameras, GPS-Empfänger, Messgeräte und einen Bordcomputer für eine sichere Navigation. Sie benötigen keinen Fahrer und haben kein Lenkrad, keine Pedale und keinen Gangschalter. Mehrere Autohersteller entwickeln verschiedene autonome Automodelle.\"  },  {    \"missing_entities\": \"Verkehrsteilnehmer\",    \"denser_summary\": \"Autonome Autos mit eingebautem Laser, Sensoren, Kameras, GPS-Empfänger, Messgeräten und Bordcomputer vermeiden Unfälle, indem sie andere Fahrzeuge, Verkehrsschilder und Ampeln erkennen. Sie benötigen keinen Fahrer und haben kein Lenkrad, keine Pedale und keinen Gangschalter. Mehrere Autohersteller entwickeln verschiedene autonome Automodelle.\"  },  {    \"missing_entities\": \"Forschung\",    \"denser_summary\": \"Mehrere Autohersteller entwickeln autonome Autos mit Laser, Sensoren, Kameras, GPS-Empfänger, Messgeräten und einem Bordcomputer. Sie benötigen keinen Fahrer und haben kein Lenkrad, keine Pedale und keinen Gangschalter. Die Forschung an diesen selbstnavigierenden Autos ist weit fortgeschritten.\"  },  {    \"missing_entities\": \"Tisch\",    \"denser_summary\": \"Autonome Autos benötigen keinen Fahrer und haben kein Lenkrad, keine Pedale und keinen Gangschalter. Ihr Inneres könnte dem eines Zuges ähneln, mit vier Sitzen und möglicherweise einem Tisch. Sie nutzen Laser, Sensoren, Kameras, GPS-Empfänger, Messgeräte und Bordcomputer, um sicher auf den Straßen zu navigieren. Mehrere Autohersteller entwickeln verschiedene autonome Automodelle.\"  },  {    \"missing_entities\": \"Kollisionen\",    \"denser_summary\": \"Autonome Autos vermeiden Unfälle, indem sie Laser, Sensoren, Kameras, GPS-Empfänger, Messgeräte und Bordcomputer verwenden, um andere Fahrzeuge, Verkehrsschilder und Ampeln zu erkennen. Sie benötigen keinen Fahrer und haben kein Lenkrad, keine Pedale und keinen Gangschalter. Mehrere Autohersteller entwickeln verschiedene autonome Automodelle, um sicher auf den Straßen zu navigieren.\"  }]'"
      ]
     },
     "execution_count": 122,
     "metadata": {},
     "output_type": "execute_result"
    }
   ],
   "source": [
    "result[\"translation\"].replace(\"\\n\", \"\")"
   ]
  },
  {
   "cell_type": "code",
   "execution_count": 123,
   "metadata": {},
   "outputs": [],
   "source": [
    "import json"
   ]
  },
  {
   "cell_type": "code",
   "execution_count": null,
   "metadata": {},
   "outputs": [],
   "source": []
  },
  {
   "cell_type": "code",
   "execution_count": 124,
   "metadata": {},
   "outputs": [],
   "source": [
    "jsoned = json.loads(result[\"translation\"])"
   ]
  },
  {
   "cell_type": "code",
   "execution_count": 129,
   "metadata": {},
   "outputs": [
    {
     "name": "stdout",
     "output_type": "stream",
     "text": [
      "{'missing_entities': 'GPS-Empfänger', 'denser_summary': 'Autonome Autos nutzen Laser, Sensoren, Kameras, GPS-Empfänger, Messgeräte und einen Bordcomputer für eine sichere Navigation. Sie benötigen keinen Fahrer und haben kein Lenkrad, keine Pedale und keinen Gangschalter. Mehrere Autohersteller entwickeln verschiedene autonome Automodelle.'}\n",
      "GPS-Empfänger\n",
      "{'missing_entities': 'Verkehrsteilnehmer', 'denser_summary': 'Autonome Autos mit eingebautem Laser, Sensoren, Kameras, GPS-Empfänger, Messgeräten und Bordcomputer vermeiden Unfälle, indem sie andere Fahrzeuge, Verkehrsschilder und Ampeln erkennen. Sie benötigen keinen Fahrer und haben kein Lenkrad, keine Pedale und keinen Gangschalter. Mehrere Autohersteller entwickeln verschiedene autonome Automodelle.'}\n",
      "Verkehrsteilnehmer\n",
      "{'missing_entities': 'Forschung', 'denser_summary': 'Mehrere Autohersteller entwickeln autonome Autos mit Laser, Sensoren, Kameras, GPS-Empfänger, Messgeräten und einem Bordcomputer. Sie benötigen keinen Fahrer und haben kein Lenkrad, keine Pedale und keinen Gangschalter. Die Forschung an diesen selbstnavigierenden Autos ist weit fortgeschritten.'}\n",
      "Forschung\n",
      "{'missing_entities': 'Tisch', 'denser_summary': 'Autonome Autos benötigen keinen Fahrer und haben kein Lenkrad, keine Pedale und keinen Gangschalter. Ihr Inneres könnte dem eines Zuges ähneln, mit vier Sitzen und möglicherweise einem Tisch. Sie nutzen Laser, Sensoren, Kameras, GPS-Empfänger, Messgeräte und Bordcomputer, um sicher auf den Straßen zu navigieren. Mehrere Autohersteller entwickeln verschiedene autonome Automodelle.'}\n",
      "Tisch\n",
      "{'missing_entities': 'Kollisionen', 'denser_summary': 'Autonome Autos vermeiden Unfälle, indem sie Laser, Sensoren, Kameras, GPS-Empfänger, Messgeräte und Bordcomputer verwenden, um andere Fahrzeuge, Verkehrsschilder und Ampeln zu erkennen. Sie benötigen keinen Fahrer und haben kein Lenkrad, keine Pedale und keinen Gangschalter. Mehrere Autohersteller entwickeln verschiedene autonome Automodelle, um sicher auf den Straßen zu navigieren.'}\n",
      "Kollisionen\n"
     ]
    }
   ],
   "source": [
    "cleaned = []\n",
    "for (i, element) in enumerate(jsoned):\n",
    "    print(element)\n",
    "    missing = element['missing_entities']\n",
    "    if(isinstance(missing, str)):\n",
    "        element['missing_entities'] = [missing]\n",
    "    cleaned.append(element)"
   ]
  },
  {
   "cell_type": "code",
   "execution_count": 130,
   "metadata": {},
   "outputs": [
    {
     "data": {
      "text/plain": [
       "[{'missing_entities': ['GPS-Empfänger'],\n",
       "  'denser_summary': 'Autonome Autos nutzen Laser, Sensoren, Kameras, GPS-Empfänger, Messgeräte und einen Bordcomputer für eine sichere Navigation. Sie benötigen keinen Fahrer und haben kein Lenkrad, keine Pedale und keinen Gangschalter. Mehrere Autohersteller entwickeln verschiedene autonome Automodelle.'},\n",
       " {'missing_entities': ['Verkehrsteilnehmer'],\n",
       "  'denser_summary': 'Autonome Autos mit eingebautem Laser, Sensoren, Kameras, GPS-Empfänger, Messgeräten und Bordcomputer vermeiden Unfälle, indem sie andere Fahrzeuge, Verkehrsschilder und Ampeln erkennen. Sie benötigen keinen Fahrer und haben kein Lenkrad, keine Pedale und keinen Gangschalter. Mehrere Autohersteller entwickeln verschiedene autonome Automodelle.'},\n",
       " {'missing_entities': ['Forschung'],\n",
       "  'denser_summary': 'Mehrere Autohersteller entwickeln autonome Autos mit Laser, Sensoren, Kameras, GPS-Empfänger, Messgeräten und einem Bordcomputer. Sie benötigen keinen Fahrer und haben kein Lenkrad, keine Pedale und keinen Gangschalter. Die Forschung an diesen selbstnavigierenden Autos ist weit fortgeschritten.'},\n",
       " {'missing_entities': ['Tisch'],\n",
       "  'denser_summary': 'Autonome Autos benötigen keinen Fahrer und haben kein Lenkrad, keine Pedale und keinen Gangschalter. Ihr Inneres könnte dem eines Zuges ähneln, mit vier Sitzen und möglicherweise einem Tisch. Sie nutzen Laser, Sensoren, Kameras, GPS-Empfänger, Messgeräte und Bordcomputer, um sicher auf den Straßen zu navigieren. Mehrere Autohersteller entwickeln verschiedene autonome Automodelle.'},\n",
       " {'missing_entities': ['Kollisionen'],\n",
       "  'denser_summary': 'Autonome Autos vermeiden Unfälle, indem sie Laser, Sensoren, Kameras, GPS-Empfänger, Messgeräte und Bordcomputer verwenden, um andere Fahrzeuge, Verkehrsschilder und Ampeln zu erkennen. Sie benötigen keinen Fahrer und haben kein Lenkrad, keine Pedale und keinen Gangschalter. Mehrere Autohersteller entwickeln verschiedene autonome Automodelle, um sicher auf den Straßen zu navigieren.'}]"
      ]
     },
     "execution_count": 130,
     "metadata": {},
     "output_type": "execute_result"
    }
   ],
   "source": [
    "cleaned"
   ]
  },
  {
   "cell_type": "code",
   "execution_count": null,
   "metadata": {},
   "outputs": [],
   "source": []
  }
 ],
 "metadata": {
  "kernelspec": {
   "display_name": "backend_env",
   "language": "python",
   "name": "python3"
  },
  "language_info": {
   "codemirror_mode": {
    "name": "ipython",
    "version": 3
   },
   "file_extension": ".py",
   "mimetype": "text/x-python",
   "name": "python",
   "nbconvert_exporter": "python",
   "pygments_lexer": "ipython3",
   "version": "3.8.7"
  },
  "orig_nbformat": 4
 },
 "nbformat": 4,
 "nbformat_minor": 2
}
