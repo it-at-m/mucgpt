{
 "cells": [
  {
   "cell_type": "code",
   "execution_count": 1,
   "id": "2e61eabf-b7b1-4d52-9ed3-713fb6ea68d0",
   "metadata": {},
   "outputs": [],
   "source": [
    "import PyPDF2"
   ]
  },
  {
   "cell_type": "code",
   "execution_count": 2,
   "id": "03c6a753-318f-4180-896c-de0f94c96f6b",
   "metadata": {},
   "outputs": [],
   "source": [
    "from typing import Any\n",
    "from langchain import LLMChain\n",
    "\n",
    "import openai\n",
    "from langchain.chat_models import AzureChatOpenAI\n",
    "from langchain.prompts import PromptTemplate\n",
    "from langchain.chains import SequentialChain\n",
    "import re"
   ]
  },
  {
   "cell_type": "code",
   "execution_count": 3,
   "id": "c68f76ea-df31-47d0-9761-0746674751cb",
   "metadata": {},
   "outputs": [
    {
     "name": "stderr",
     "output_type": "stream",
     "text": [
      "C:\\Users\\michael.jaumann\\AppData\\Roaming\\Python\\Python38\\site-packages\\langchain_core\\_api\\deprecation.py:117: LangChainDeprecationWarning: The class `langchain_community.chat_models.azure_openai.AzureChatOpenAI` was deprecated in langchain-community 0.0.10 and will be removed in 0.2.0. An updated version of the class exists in the langchain-openai package and should be used instead. To use it run `pip install -U langchain-openai` and import as `from langchain_openai import AzureChatOpenAI`.\n",
      "  warn_deprecated(\n"
     ]
    }
   ],
   "source": [
    "from typing import Dict\n",
    "from langchain.callbacks.base import BaseCallbackHandler\n",
    "from langchain.schema.output import LLMResult\n",
    "class MyCustomHandler(BaseCallbackHandler):\n",
    "    def on_text(self, text: str, **kwargs: Any) -> Any:\n",
    "        print(f\"Text: {text}\")\n",
    "        self.log = text\n",
    "\n",
    "    def on_llm_end(self, response: LLMResult, **kwargs: Any) -> Any:\n",
    "        \"\"\"Run when LLM ends running.\"\"\"\n",
    "        print(response.llm_output.keys())\n",
    "        print(response.llm_output)\n",
    "\"\"\"Chain of Density prompting: https://arxiv.org/abs/2309.04269\"\"\"\n",
    "user_sum_prompt = \"\"\"\n",
    "Article: {text}\n",
    "You will generate increasingly concise entity-dense summaries of the above article. Repeat the following 2 steps 5 times.\n",
    "\n",
    "Step 1: Identify 1-3 informative entities (delimited) from the article which are missing from the previously generated summary.\n",
    "Step 2: Write a new denser summary of identical length which covers every entity and detail from the previous summary plus the missing entities.\n",
    "\n",
    "A missing entity is\n",
    "- Relevant: to the main stories.\n",
    "- Specific: descriptive yet concise (5 words or fewer).\n",
    "- Novel: not in the previous summary.\n",
    "- Faithful: present in the article.\n",
    "- Anywhere: located in the article.\n",
    "\n",
    "Guidelines:\n",
    "- The first summary should be long (4-5 sentences, ~80 words), yet highly non-specific, containing little information beyond the entities marked as missing. Use overly verbose language and fillers (e.g., \"this article discusses\") to reach ~80 words.\n",
    "- Make every word count. Rewrite the previous summary to improve flow and make space for additional entities.\n",
    "- Make space with fusion, compression, and removal of uninformative phrases like \"the article discusses\".\n",
    "- The summaries should become highly dense and concise, yet self-contained, e.g., easily understood without the article.\n",
    "- Missing entities can appear anywhere in the new summary.\n",
    "- Never drop entities from the previous summary. If space cannot be made, add fewer new entities.\n",
    "\n",
    "Remember: Use the exact same number of words for each summary.\n",
    "\n",
    "Do not include any explanations. Only return a valid valid RFC8259 compilant JSON.\n",
    "The JSON should be an array of length 5 following this format:\n",
    "{{\n",
    "\"data\": [\n",
    "   {{\n",
    "      \"missing_entities\":  \"An array of missing entitys\"\n",
    "      \"denser_summary\": \"denser summary, covers every entity in detail\"\n",
    "   }}\n",
    "]\n",
    "}}\n",
    "The response in JSON format:\n",
    "\"\"\"\n",
    "\n",
    "user_translate_prompt = \"\"\"\n",
    "Übersetze das folgende JSON in {language}. Beinhalte die Formatierung als RFC8259 JSON bei.\n",
    "Das JSON sollte ein Array der Länge 5 sein, welcher folgendem Format folgt:\n",
    "{{\n",
    "\"data\": [\n",
    "   {{\n",
    "      \"missing_entities\": \"An array of missing entitys\"\n",
    "      \"denser_summary\": \"denser summary, covers every entity in detail\"\n",
    "   }}\n",
    "]\n",
    "}}\n",
    "\n",
    "JSON: {sum}\n",
    "\"\"\"\n",
    "def getSummarizationPrompt() -> PromptTemplate:\n",
    "    return PromptTemplate(input_variables=[\"text\"], template=user_sum_prompt)\n",
    "\n",
    "def getTranslationPrompt() -> PromptTemplate:\n",
    "    return PromptTemplate(input_variables=[\"language\", \"sum\"], template=user_translate_prompt)\n",
    "import os\n",
    "os.environ['http_proxy'] = \"http://internet-proxy-client.muenchen.de:80\" \n",
    "os.environ['https_proxy'] = \"http://internet-proxy-client.muenchen.de:80\" \n",
    "openai.api_type = \"azure\"\n",
    "openai.api_base = f\"https://cog-tb726faeoukc2.openai.azure.com\"\n",
    "openai.api_version = \"2023-05-15\"\n",
    "openai.api_key = \"9324d0a0d0bd4d72b0e34596a9dc4a9c\"\n",
    "verbose = False\n",
    "llm = AzureChatOpenAI(\n",
    "    model=\"gpt-35-turbo\",\n",
    "    temperature= 0.7,\n",
    "    max_tokens=1000,\n",
    "    n=1,\n",
    "    deployment_name= \"chat\",\n",
    "    openai_api_key=openai.api_key,\n",
    "    openai_api_base=openai.api_base,\n",
    "    openai_api_version=openai.api_version,\n",
    "    openai_api_type=openai.api_type,\n",
    "    callbacks=[MyCustomHandler()]\n",
    ")\n",
    "summarizationChain = LLMChain(llm=llm, prompt=getSummarizationPrompt(), output_key=\"sum\", verbose=verbose)\n",
    "translationChain = LLMChain(llm=llm, prompt=getTranslationPrompt(), output_key=\"translation\", verbose=verbose)\n",
    "overall_chain = SequentialChain(\n",
    "    chains=[summarizationChain, translationChain], \n",
    "    input_variables=[\"language\", \"text\"],\n",
    "    output_variables=[\"translation\", \"sum\"],\n",
    "    verbose=verbose\n",
    ")\n",
    "\n"
   ]
  },
  {
   "cell_type": "code",
   "execution_count": 20,
   "id": "b0380937-56fc-4f46-8ca0-6876b1054af4",
   "metadata": {},
   "outputs": [],
   "source": [
    "from langchain.text_splitter import TokenTextSplitter\n",
    "from langchain.document_loaders import PyPDFLoader\n",
    "def readPDF(pdf, chunk_size=2500, chunk_overlap=100):\n",
    "    # creating a pdf reader object\n",
    "    reader = PyPDF2.PdfReader(pdf)\n",
    "    # read alll\n",
    "    complete = \"\"\n",
    "    for page in reader.pages:\n",
    "        complete += page.extract_text()\n",
    "    #split\n",
    "    text_splitter = TokenTextSplitter.from_tiktoken_encoder(\n",
    "        chunk_size=chunk_size, chunk_overlap=chunk_overlap)\n",
    "    texts = text_splitter.split_text(complete)\n",
    "    return texts\n",
    "\n",
    "def readPDFLangchain(pdf, chunk_size=2500, chunk_overlap=100):\n",
    "     # creating a pdf reader object\n",
    "    loader = PyPDFLoader(pdf)\n",
    "    # read alll\n",
    "    pages = loader.load()\n",
    "    #split\n",
    "    text_splitter = TokenTextSplitter.from_tiktoken_encoder(\n",
    "        chunk_size=chunk_size, chunk_overlap=chunk_overlap)\n",
    "    texts = text_splitter.split_documents(pages)\n",
    "    return texts\n",
    "    \n",
    "\n",
    "texts = readPDF(\"roemische-geschichte-100-50vchr.pdf\",chunk_size=1500, chunk_overlap=100)\n",
    "language = \"german\""
   ]
  },
  {
   "cell_type": "code",
   "execution_count": 21,
   "id": "78058036-e1ca-4a38-9d01-cdd20ab6560f",
   "metadata": {},
   "outputs": [
    {
     "data": {
      "text/plain": [
       "6"
      ]
     },
     "execution_count": 21,
     "metadata": {},
     "output_type": "execute_result"
    }
   ],
   "source": [
    "len(texts)"
   ]
  },
  {
   "cell_type": "code",
   "execution_count": 6,
   "id": "4ab4a166-06ff-4031-8de7-cea4605baea8",
   "metadata": {},
   "outputs": [],
   "source": [
    "from langchain_core.runnables import RunnableParallel"
   ]
  },
  {
   "cell_type": "code",
   "execution_count": 30,
   "id": "0957e76c-0552-4d38-afc7-1791d1a28027",
   "metadata": {},
   "outputs": [
    {
     "name": "stdout",
     "output_type": "stream",
     "text": [
      "dict_keys(['token_usage', 'model_name', 'system_fingerprint'])\n",
      "{'token_usage': <OpenAIObject at 0x1f39c1e7f40> JSON: {\n",
      "  \"prompt_tokens\": 740,\n",
      "  \"completion_tokens\": 184,\n",
      "  \"total_tokens\": 924\n",
      "}, 'model_name': 'gpt-35-turbo', 'system_fingerprint': ''}\n",
      "dict_keys(['token_usage', 'model_name', 'system_fingerprint'])\n",
      "{'token_usage': <OpenAIObject at 0x1f39c1e7d10> JSON: {\n",
      "  \"prompt_tokens\": 998,\n",
      "  \"completion_tokens\": 187,\n",
      "  \"total_tokens\": 1185\n",
      "}, 'model_name': 'gpt-35-turbo', 'system_fingerprint': ''}\n",
      "dict_keys(['token_usage', 'model_name', 'system_fingerprint'])\n",
      "{'token_usage': <OpenAIObject at 0x1f39c1e7220> JSON: {\n",
      "  \"prompt_tokens\": 893,\n",
      "  \"completion_tokens\": 188,\n",
      "  \"total_tokens\": 1081\n",
      "}, 'model_name': 'gpt-35-turbo', 'system_fingerprint': ''}\n",
      "dict_keys(['token_usage', 'model_name', 'system_fingerprint'])\n",
      "{'token_usage': <OpenAIObject at 0x1f39c1e7900> JSON: {\n",
      "  \"prompt_tokens\": 831,\n",
      "  \"completion_tokens\": 89,\n",
      "  \"total_tokens\": 920\n",
      "}, 'model_name': 'gpt-35-turbo', 'system_fingerprint': ''}\n",
      "dict_keys(['token_usage', 'model_name', 'system_fingerprint'])\n",
      "{'token_usage': <OpenAIObject at 0x1f39c1e7ef0> JSON: {\n",
      "  \"prompt_tokens\": 917,\n",
      "  \"completion_tokens\": 119,\n",
      "  \"total_tokens\": 1036\n",
      "}, 'model_name': 'gpt-35-turbo', 'system_fingerprint': ''}\n",
      "dict_keys(['token_usage', 'model_name', 'system_fingerprint'])\n",
      "{'token_usage': <OpenAIObject at 0x1f39c1e7680> JSON: {\n",
      "  \"prompt_tokens\": 933,\n",
      "  \"completion_tokens\": 120,\n",
      "  \"total_tokens\": 1053\n",
      "}, 'model_name': 'gpt-35-turbo', 'system_fingerprint': ''}\n",
      "dict_keys(['token_usage', 'model_name', 'system_fingerprint'])\n",
      "{'token_usage': <OpenAIObject at 0x1f39c1e7c70> JSON: {\n",
      "  \"prompt_tokens\": 797,\n",
      "  \"completion_tokens\": 143,\n",
      "  \"total_tokens\": 940\n",
      "}, 'model_name': 'gpt-35-turbo', 'system_fingerprint': ''}\n",
      "dict_keys(['token_usage', 'model_name', 'system_fingerprint'])\n",
      "{'token_usage': <OpenAIObject at 0x1f39c1c04f0> JSON: {\n",
      "  \"prompt_tokens\": 622,\n",
      "  \"completion_tokens\": 173,\n",
      "  \"total_tokens\": 795\n",
      "}, 'model_name': 'gpt-35-turbo', 'system_fingerprint': ''}\n",
      "dict_keys(['token_usage', 'model_name', 'system_fingerprint'])\n",
      "{'token_usage': <OpenAIObject at 0x1f39c1c0f40> JSON: {\n",
      "  \"prompt_tokens\": 647,\n",
      "  \"completion_tokens\": 149,\n",
      "  \"total_tokens\": 796\n",
      "}, 'model_name': 'gpt-35-turbo', 'system_fingerprint': ''}\n",
      "dict_keys(['token_usage', 'model_name', 'system_fingerprint'])\n",
      "{'token_usage': <OpenAIObject at 0x1f39bb3d720> JSON: {\n",
      "  \"prompt_tokens\": 1738,\n",
      "  \"completion_tokens\": 884,\n",
      "  \"total_tokens\": 2622\n",
      "}, 'model_name': 'gpt-35-turbo', 'system_fingerprint': ''}\n",
      "dict_keys(['token_usage', 'model_name', 'system_fingerprint'])\n",
      "{'token_usage': <OpenAIObject at 0x1f39d49b680> JSON: {\n",
      "  \"prompt_tokens\": 981,\n",
      "  \"completion_tokens\": 1000,\n",
      "  \"total_tokens\": 1981\n",
      "}, 'model_name': 'gpt-35-turbo', 'system_fingerprint': ''}\n"
     ]
    }
   ],
   "source": [
    "from langchain.chains import MapReduceDocumentsChain, ReduceDocumentsChain\n",
    "from langchain.text_splitter import CharacterTextSplitter\n",
    "from langchain.chains.combine_documents.stuff import StuffDocumentsChain\n",
    "\n",
    "\n",
    "# Map\n",
    "map_template = \"\"\"The following is a set of documents\n",
    "{docs}\n",
    "Can you provide a comprehensive summary of the given set of documents? The summary should cover all the key points and main ideas presented in the original text, while also condensing the information into a concise and easy-to-understand format. Please ensure that the summary includes relevant details and examples that support the main ideas, while avoiding any unnecessary information or repetition. The length of the summary should be appropriate for the length and complexity of the original text, providing a clear and accurate overview without omitting any important information\n",
    "Helpful Answer:\"\"\"\n",
    "map_prompt = PromptTemplate.from_template(map_template)\n",
    "map_chain = LLMChain(llm=llm, prompt=map_prompt)\n",
    "\n",
    "# Takes a list of documents, combines them into a single string, and passes this to an LLMChain\n",
    "combine_documents_chain = StuffDocumentsChain(\n",
    "    llm_chain=summarizationChain, document_variable_name=\"text\"\n",
    ")\n",
    "\n",
    "reduce_documents_chain = ReduceDocumentsChain(\n",
    "    # This is final chain that is called.\n",
    "    combine_documents_chain=combine_documents_chain,\n",
    "    # If documents exceed context for `StuffDocumentsChain`\n",
    "    collapse_documents_chain=combine_documents_chain,\n",
    "    # The maximum number of tokens to group documents into.\n",
    "    token_max=4000,\n",
    ")\n",
    "map_reduce_chain = MapReduceDocumentsChain(\n",
    "    # Map chain\n",
    "    llm_chain=map_chain,\n",
    "    # Reduce chain\n",
    "    reduce_documents_chain=reduce_documents_chain,\n",
    "    # The variable name in the llm_chain to put the documents in\n",
    "    document_variable_name=\"docs\",\n",
    "    # Return the results of the map steps in the output\n",
    "    return_intermediate_steps=False,\n",
    "    output_key=\"sum\"\n",
    ")\n",
    "overall_chain = SequentialChain(\n",
    "    chains=[map_reduce_chain, translationChain], \n",
    "    input_variables=[\"language\", \"input_documents\"],\n",
    "    output_variables=[\"translation\", \"sum\"])\n",
    "\n",
    "texts_langchain = readPDFLangchain(\"roemische-geschichte-100-50vchr.pdf\",chunk_size=2000, chunk_overlap=100)\n",
    "results = overall_chain({'language':language, 'input_documents': texts_langchain})\n",
    "#results = translationChain({'language':language, 'sum': map_reduce_chain.run(texts_langchain)})"
   ]
  },
  {
   "cell_type": "code",
   "execution_count": 31,
   "id": "b4c1d9a9-13ed-49e1-a39b-a163c74fc683",
   "metadata": {},
   "outputs": [
    {
     "data": {
      "text/plain": [
       "dict_keys(['language', 'input_documents', 'translation', 'sum'])"
      ]
     },
     "execution_count": 31,
     "metadata": {},
     "output_type": "execute_result"
    }
   ],
   "source": [
    "results.keys()"
   ]
  },
  {
   "cell_type": "code",
   "execution_count": 32,
   "id": "dd7ee7e8-8192-4fdc-a884-a6bf6a0fe878",
   "metadata": {},
   "outputs": [
    {
     "data": {
      "text/plain": [
       "[Document(page_content='Geschichte der römischen Literatur\\nund Gesellschaft\\nEine tabellarische Übersicht zur römischen Geschichte und\\nLiteraturgeschichte von den Anfängen bis in die Spätantike\\n(400 n. Chr.)\\nDokument 2: Von 100 v. Chr. bis 50 v. Chr. - Der Kampf um die \\nRepublik\\nWeitere Dokumente: \\n•Tabelle zur römischen Geschichte – vollständig, HTML, in den Seiten des \\nLandesbildungsservers: \\nwww.schule-bw.de/faecher-und-schularten/sprachen-und-literatur/latein/antike-kultur/\\nroemische-geschichte/daten/roemische-geschichte-tabelle.html  \\n•Download der Dokumente in den Formaten PDF, WORD und OpenOffice: www.schule-\\nbw.de/faecher-und-schularten/sprachen-und-literatur/latein/antike-kultur/roemische-\\ngeschichte/downloadbereich  \\n•Die Daten, die in dieser Tabelle aufgelistet sind, entsprechen denen der interaktiven Zeitleiste \\nzur römischen Geschichte und zur antiken Philosophie . \\n•Methodische und didaktische Hinweise   für Lehrkräfte \\n•Interaktive Übungen   \\n•Hinweise zum Bildungsplan   \\nSullas Diktatur: Die Republik beginnt zu zerbrechen.\\nPolitische Entwicklung\\nDiktatur Sullas\\n82 v. Chr. – 79 v. Chr.\\nIm Jahr 82 v. Chr. lässt sich L. Cornelius Sulla zum dictator auf unbestimmte Zeit einsetzen. Das Amt \\ndes dictator war aber nur als vorübergehende Lösung für Notfälle vorgesehen. Im Jahr 79 v. Chr. \\ndankt Sulla wieder ab. Seine Diktatur ist der Endpunkt der bürgerkriegsähnlichen Auseinandersetzung\\nzwischen ihm und Marius. Während Sulla die Position des Senats stärkt, steht Marius auf der Seite der\\nPopularen bzw. der plebs (des einfachen V olkes). \\nDiese Materialien sind unter der OER-konformen Lizenz CC BY 4.0 International verfügbar. Herausgeber: Landesbildungsserver \\nBaden-Württemberg (www.schule-bw.de), Fachredaktion Latein (auch unter www.latein-bw.de zu erreichen). Urheberrechtsangaben ge -\\nmäß www.schule-bw.de/urheberrecht  sind zu beachten. Bitte beachten Sie eventuell abweichende Lizenzangaben bei den eingebundenen\\nBildern und anderen Materialien.\\nSeite\\xa01 von 9\\n', metadata={'source': 'roemische-geschichte-100-50vchr.pdf', 'page': 0}),\n",
       " Document(page_content=\"Sulla verfolgt seine Gegner mit den Proskriptionen. Dabei wurden die Namen von Bürgern auf Listen \\ngeschrieben (proscribere: eintragen), und die dort Eingetragenen sind vogelfrei und können straffrei \\nermordet werden; ihr Vermögen wird eingezogen. 2.600 Ritter ( equites) verlieren so ihr Leben.\\nZu Proskriptionen kommt es wieder im Jahr 43 v. Chr., als Octavian (der spätere Kaiser Augustus) und\\nM. Antonius gegen ihre Gegner, die Caesarmörder und Anhänger des Senats, vorgehen. Im Zuge \\ndieser Proskriptionen wird auch M. Tullius Cicero ermordet.\\nCicero betritt die politische Bühne Roms als junger Anwalt.\\n80 v. Chr. - 43 v. Chr.\\nLebensdaten: 110 v. Chr. – 43 v. Chr.\\nUnter der Diktatur Sullas verteidigte Cicero als junger Anwalt den Sextus Roscius, einen Angeklagten,\\nder – nach Ciceros Darstellung – einem Komplott der Anhänger Sullas zum Opfer gefallen war. Im \\nJahr 63 v. Chr. war Cicero Konsul. In sein Konsulat fällt die catilinarische Verschwörung. Gegen C. \\nIulius Caesar kann Cicero sich nicht durchsetzen.\\nÜber sein Leben verteilt verfasst er immer wieder philosophische Schriften, in denen er teils stoische \\nGedanken, teils eine skeptische Position vertritt. Viele Textauszüge sind in der Lateinischen \\nBibliothek beim Landesbildungsserver enthalten; vgl. die folgenden Linkvorschläge.\\nAngebote beim Landesbildungsserver:\\n•Reden gegen Verres   \\n•Philippische Reden   \\n•Auswahl aus den philosophischen Schriften   \\n•Internetadressen zu Cicero   \\nCn. Pompeius (Magnus) betritt die politische Bühne Roms\\n81 v. Chr. – 48 v. Chr.\\nCn. (=Gnaeus) Pompeius (Lebensdaten: 106 v. Chr. – 48 v. Chr.), der den Beinamen Magnus erhielt, \\nist ein einflussreicher Politiker und ein erfolgreicher Feldherr der späten Republik. Die politische \\nBühne betritt er, indem er mit einer aus privaten Mitteln ausgehobenen Streitmacht Sulla und damit \\ndessen Einsatz für die Senatspartei unterstützt.\\nMit Caesar und M. Licinius Crassus schloss Pompeius das Erste Triumvirat (Dreimännerbündnis) im \\nJahr 59 v. Chr., wird aber später Caesars Gegenspieler. Im Jahr 49 v. Chr. beginnt ein Bürgerkrieg \\nzwischen den Parteien des Pompeius und Caesars, der mit Pompeius' Niederlage in der Schlacht von \\nPharsalos und seinem Tod im Jahr 48 v. Chr. endete. \\nLinkempfehlung: Ernst Baltrusch: Pompeius Magnus - Caesars großer Rivale, Damals   2012  \\nDiese Materialien sind unter der OER-konformen Lizenz CC BY 4.0 International verfügbar. Herausgeber: Landesbildungsserver \\nBaden-Württemberg (www.schule-bw.de), Fachredaktion Latein (auch unter www.latein-bw.de zu erreichen). Urheberrechtsangaben ge -\\nmäß www.schule-bw.de/urheberrecht  sind zu beachten. Bitte beachten Sie eventuell abweichende Lizenzangaben bei den eingebundenen\\nBildern und anderen Materialien.\\nSeite\\xa02 von 9\\n\", metadata={'source': 'roemische-geschichte-100-50vchr.pdf', 'page': 1}),\n",
       " Document(page_content='Rebellion des Sertorius\\n79 v. Chr. – 72 v. Chr.\\nQ. Sertorius, ein abtrünniger Offizier, errichtet auf der iberischen Halbinsel einen Gegensenat. Seine \\nAnhänger wurden von Pompeius und Metellus Pius besiegt, nachdem Sertorius selbst in internen \\nStreitigkeiten ermordet worden war.\\nEine Episode aus seinem Leben wird von Aulus Gellius berichtet: Arbeitsblatt zu den   Noctes Atticae  \\nSklavenaufstand unter Führung des Spartacus\\n73 v. Chr. – 71 v. Chr.\\nZu keiner anderen Zeit kam die Führung des Imperiums derart unter Bedrängnis durch ein \\nSklavenheer wie während des Sklavenaufstands unter Spartacus.\\nDieser flieht im Jahr 73 v. Chr. mit 70 Genossen aus einer Gladiatorenschule und sammelt nach und \\nnach ein wachsendes Heer an Sklaven um sich. Im Jahr 72 v. Chr. besiegt er die Konsuln Lentulus und\\nGellius, kann sich aber mit seinem Plan, Italien in Richtung Norden zu verlassen, innerhalb seiner \\nGefolgschaft nicht durchsetzen. Im Jahr 71 v. Chr. wird sein Heer von Licinius Crassus besiegt; auch \\nPompeius ist an der Niederschlagung beteiligt.\\nLinkempfehlung: Darstellung bei Lernhelfer\\nProzess gegen C. Verres\\n70 v. Chr.\\nCicero tritt im Prozess gegen C. Verres, der wegen Amtsmissbrauchs als Statthalter von Sizilien \\nangeklagt wurde, als Ankläger auf. Mit seinem Erfolg in diesem Prozess erringt Cicero den Rang als \\nerster Anwalt Roms.\\nLinkempfehlungen (Lateinportal) :\\n•Cicero und der Prozess gegen Verres   \\n•Reden gegen Verres, Übersetzungstexte \\nKonsulat Ciceros und Verschwörung Catilinas\\n63 v. Chr.\\nSergius Catilina ist ein Adliger, der vergeblich versucht, die Wahlen zum Konsulat zu gewinnen. Im \\nJahr 63 v. Chr. zettelt er eine Verschwörung an, die u. a. das Ziel verfolgt, den amtierenden Konsul M. \\nTullius Cicero zu ermorden.\\nDieser deckt die Verschwörung auf und stellt sie in den berühmten Catilinarischen Reden  dar, teils vor\\ndem V olk, teils vor dem Senat. Da er aber einen Senatsbeschluss ausführt, nach dem die Verschwörer \\nDiese Materialien sind unter der OER-konformen Lizenz CC BY 4.0 International verfügbar. Herausgeber: Landesbildungsserver \\nBaden-Württemberg (www.schule-bw.de), Fachredaktion Latein (auch unter www.latein-bw.de zu erreichen). Urheberrechtsangaben ge -\\nmäß www.schule-bw.de/urheberrecht  sind zu beachten. Bitte beachten Sie eventuell abweichende Lizenzangaben bei den eingebundenen\\nBildern und anderen Materialien.\\nSeite\\xa03 von 9\\n', metadata={'source': 'roemische-geschichte-100-50vchr.pdf', 'page': 2}),\n",
       " Document(page_content=\"hinzurichten seien, wurde ihm dies als gesetzeswidrig vorgeworfen. Seine Gegner erreichten, dass er \\ndeswegen ins Exil gehen muss (58 v. Chr./57 v. Chr.).\\nLinkempfehlung: Wikipedia: Catilinarische Verschwörung .\\nKonflikte mit anderen Völkern\\nMithridatische Kriege\\n89 v. Chr. – 63 v. Chr.\\nIn drei Kriegen gegen den König von Pontos, Mithridates VI. Eupator (auch: Mithr adates), sichert \\nRom seine Herrschaft über den östlichen Mittelmeerraum. Zuerst L. Cornelius Sulla, dann Cn. \\nPompeius schränken mit ihren militärischen Erfolgen den Machtbereich des Königs immer mehr ein.\\nLinkvorschläge:\\n•Wissen.de   (kurz) \\n•Wikipedia   (ausführlich) \\nPompeius erobert Jerusalem und Palästina\\n63 v. Chr.\\nCn. Pompeius erobert im Jahr 63 v. Chr. Jerusalem und Palästina. Damit beginnt eine \\njahrhundertelange Herrschaft der Römer über Judäa. Pompeius greift in einen Streit verschiedener \\nFraktionen der jüdischen Gesellschaft ein.\\nEr lässt formal die Herrscherfamilie der Hasmonäer an der Macht; Judäa wird Teil der römischen \\nProvinz Syria (Wikipedia).\\nViele Juden lehnen die Herrschaft der Römer ab. Im Jahr 66 n. Chr. beginnt ein Aufstand, der 70 n. \\nChr. mit der Zerstörung Jerusalems unter Titus und auch der Zerstörung des Tempels beendet wird.\\nLinkvorschläge:\\n•Leonhard Burckhardt (2013): Rom und die Juden nach der Eroberung Palästinas durch \\nPompeius, in: Dialogues d'histoire ancienne , online bei Pensee.fr.\\nEin umfangreicher wissenschaftlicher Artikel, der den aktuellen Forschungsstand und die \\nantiken Quellen berücksichtigt. \\n•Harald Schwillus: Das Auftreten des Pompejus in Jerusalem in Texten jüdischer Autoren. Für \\ndas Thema Ausdehnung des römischen Herrschaftsanspruchs im Lateinunterricht . Pegasus \\nOnlinezeitschrift 5.1. (2005)  \\nDiese Materialien sind unter der OER-konformen Lizenz CC BY 4.0 International verfügbar. Herausgeber: Landesbildungsserver \\nBaden-Württemberg (www.schule-bw.de), Fachredaktion Latein (auch unter www.latein-bw.de zu erreichen). Urheberrechtsangaben ge -\\nmäß www.schule-bw.de/urheberrecht  sind zu beachten. Bitte beachten Sie eventuell abweichende Lizenzangaben bei den eingebundenen\\nBildern und anderen Materialien.\\nSeite\\xa04 von 9\\n\", metadata={'source': 'roemische-geschichte-100-50vchr.pdf', 'page': 3}),\n",
       " Document(page_content='60 v. Chr.: Das Erste Triumvirat und Caesars Konsulat\\nPolitische Entwicklung\\nErstes Triumvirat\\n60 v. Chr.\\nCaesar wird zum Konsul für das Jahr 59 v. Chr. gewählt; Caesar, Pompeius und Crassus schließen das \\nso genannte Erste Triumvirat, ein Dreimännerbündnis mit dem Ziel, die politischen Verhältnisse der \\nRepublik zu prägen. Eine formelle, gesetzliche Grundlage hat dieses Bündnis nicht (im Gegensatz \\nzum Zweiten Triumvirat von 43 v. Chr. bis 33 v. Chr.). Dennoch wird der Begriff „Erstes Triumvirat“ \\nheute allgemein verwendet.\\nCaesars erstes Konsulat als erster Schritt auf\\ndem Weg in die Diktatur\\n59 v. Chr.\\nC. Iulius Caesar (Lebensdaten: 100 v. Chr. – 44 v. Chr.)\\nstammt aus einer adligen Familie, der gens Iulia. Im Jahr 81\\nv. Chr., während der Diktatur Sullas, macht er seine ersten\\nmilitärischen Erfahrungen als Offizier in der Provinz Asia.\\nDa er die Tochter Cornelius Cinnas, eines Gegners Sullas,\\ngeheiratet hatte, verlangt Sulla, dass Caesar sich scheiden\\nlässt. Caesar verweigert dies aber. Schon früh ist also seine\\nEigenständigkeit und auch seine feste Bindung an die Partei\\nder populares sichtbar.\\nIm Jahr 59 v. Chr. wird er zum Konsul gewählt, nachdem er\\nein Triumvirat, ein strategisches Dreimännerbündnis, mit\\nMarcus Licinius Crassus und Gnaeus Pompeius Magnus\\ngeschlossen hat. 58 v. Chr. – 51 v. Chr. führt er in Gallien Krieg, der mit der vollständigen Eroberung \\nGalliens endet (↓ Gallische Kriege ↓ ).\\nAus dieser Machtbasis heraus ist Caesar nicht bereit, sich an die Regeln der senatorischen Oberschicht\\nzu halten. Ein Bürgerkrieg zwischen ihm und der senatorischen Partei beginnt mit der Überquerung \\ndes Flusses Rubicon in Norditalien, der Grenze zwischen der Provinz und Italien. In diesem \\nBürgerkrieg besiegt Caesar seinen Hauptgegner Pompeius im Jahr 48 v. Chr. in der Schlacht von \\nPharsalos. Caesar lässt sich zum Diktator auf Lebenszeit ernennen. In Ägypten beginnt er eine \\nBeziehung mit der Königin Kleopatra. An den Iden des März (15. März) 44 v. Chr. wird er von \\nSenatoren ermordet, die ihn verdächtigen, eine Königsherrschaft anzustreben.\\nDiese Materialien sind unter der OER-konformen Lizenz CC BY 4.0 International verfügbar. Herausgeber: Landesbildungsserver \\nBaden-Württemberg (www.schule-bw.de), Fachredaktion Latein (auch unter www.latein-bw.de zu erreichen). Urheberrechtsangaben ge -\\nmäß www.schule-bw.de/urheberrecht  sind zu beachten. Bitte beachten Sie eventuell abweichende Lizenzangaben bei den eingebundenen\\nBildern und anderen Materialien.\\nSeite\\xa05 von 9\\n', metadata={'source': 'roemische-geschichte-100-50vchr.pdf', 'page': 4}),\n",
       " Document(page_content='Linkempfehlungen:\\n•Wikipedia   über Caesar \\n•Internetadressen   zu Caesar \\nAndere Einträge in diesem Arbeitsblatt (Auswahl):\\n•↓ Caesars Kriege in Gallien ↓   \\n•↓ Caesars Schrift   Commentarii de bello Gallico   ↓   \\nCicero im Exil\\n58 v. Chr. – 57 v. Chr.\\nCicero wird nach seinem Konsulat vorgeworfen, er habe die die Anhänger des Catilina widerrechtlich \\nhinrichten lassen (siehe oben: ↑ Ciceros Konsulat ↑ ). Sein erbitterter Gegner Clodius veranlasst, dass \\ner ins Exil gehen muss. Zwar kann er nach wenigen Monaten wieder nach Rom zurückkehren, aber \\nseinen früheren Einfluss erreicht er nie wieder.\\nLinkempfehlungen:\\n•Aus Ciceros Biographie  bei Gottwein.de \\n•Ciceros Biographie bei der Caecilienschule \\n•Wikipedia   über Cicero \\nKonflikte mit anderen Völkern\\nGallische Kriege\\n58 v. Chr. – 52 v. Chr.\\nCaesar wird im Jahr 58 v. Chr. Statthalter in zwei gallischen Provinzen (Gallia narbonensis und Gallia \\ncisalpina) sowie in Illyricum. Mit dem Helvetierkrieg im Jahr 58 v. Chr. und den Kämpfen gegen den \\ngermanischen Kriegsherrn Ariovist beginnt der Krieg in Gallien, mit der Niederlage des Vercingetorix \\nbei Alesia im Jahr 52 v. Chr. sind die Gallier besiegt. Caesar beschreibt den von ihm geführten Krieg \\nin seiner Schrift De bello Gallico. Siehe auch: ↓ Caesars Schrift   Commentarii de bello Gallico   ↓   \\nPartherkrieg unter Crassus und Niederlage der Römer bei Carrhae\\n55 v. Chr. – 53 v. Chr.\\nM. Licinius Crassus, im Triumvirat (\"Dreimännerbündnis\") mit Caesar und Pompeius verbunden, \\nbrach im Jahr 53 v. Chr. zu einem Feldzug gegen die Parther auf, gegen die schon Sulla gekämpft \\nhatte. Das Partherreich lag auf den heutigen Staatsgebieten der Türkei, des Iran und des Irak. Bei \\nCarrhae (im Norden von Mesopotamien, heute Türkei) erlitten die Römer unter Crassus im Juni 53 v. \\nChr. eine der größten Niederlagen ihrer Geschichte; Crassus selbst wurde auch getötet, wie Tausende \\nrömische Legionäre. Auch spätere Herrscher wie Augustus eroberten das Partherreich nicht, sondern \\nlegten es in der Folgezeit darauf an, die Euphratgrenze zu sichern. Siehe den Artikel in der Wikipedia .\\nDiese Materialien sind unter der OER-konformen Lizenz CC BY 4.0 International verfügbar. Herausgeber: Landesbildungsserver \\nBaden-Württemberg (www.schule-bw.de), Fachredaktion Latein (auch unter www.latein-bw.de zu erreichen). Urheberrechtsangaben ge -\\nmäß www.schule-bw.de/urheberrecht  sind zu beachten. Bitte beachten Sie eventuell abweichende Lizenzangaben bei den eingebundenen\\nBildern und anderen Materialien.\\nSeite\\xa06 von 9\\n', metadata={'source': 'roemische-geschichte-100-50vchr.pdf', 'page': 5}),\n",
       " Document(page_content='Philosophie und Literatur\\nDer Dichter Catull betritt die literarische Bühne Roms.\\n64 v. Chr. - 54 v. Chr.\\nValerius Catullus (Lebensdaten ca. 84 v. Chr. – ca. 54 c. Chr.). Catulls Lebensdaten sind unsicher; die \\nhier eingesetzten Daten sind eine Schätzung.\\nCatull verfasste Gedichte in verschiedenen Versmaßen, zum Teil Liebesgedichte.\\nInternetadressen zu Catull\\nNepos beginnt mit der Schriftstellerei\\n54 v. Chr.\\nCornelius Nepos verfasste historische Werke und Biographien. Erhalten sind nur die Biographien \\nausländischer Feldherrn aus dem Werk De viris illustribus (Über berühmte Männer), das vermutlich \\num das Jahr 35 v. Chr. erschienen ist. Catull (vorangehender Eintrag) widmet Nepos in seinem \\nEingangsgedicht sein Werk.\\nLinkempfehlung: Vita des Hannibal bei Latein-Unterrichten.de  (Ulf Jesper)\\nCaesar verfasst die Commentarii de bello Gallico.\\n52 v. Chr. - 50 v. Chr.\\nCaesar macht sich vermutlich während der Kriege in Gallien Notizen, aber er verfasst die \\nCommentarii de bello Gallico  vermutlich erst gegen Ende der Kriege. Sie sind nach dem V orbild der \\nälteren Historiker annalistisch, d. h. nach den Jahren gegliedert. Dem kommt entgegen, dass in den \\nWintern der Krieg unterbrochen werden muss.\\nIn diesem Werk stellt sich Caesar der römischen Öffentlichkeit als kühl kalkulierender, überlegener \\nFeldherr vor, der immer die Interessen des Imperiums im Blick hat. Der klare, schnörkellose Stil wirkt\\nprägend für die römische Literatur.\\nLinkvorschlag: Die Internetadressen zu C. Iulius Caesar  enthalten viele für den Unterricht entworfene \\nLerneinheiten. Empfehlung: Lektüreheft zu den Commentarii  (Martin Bode)\\nAndere Einträge in diesem Dokument:\\n•↑ Caesar: Biographische Skizze ↑   \\n•↑ Caesar: Gallische Kriege ↑   \\nDiese Materialien sind unter der OER-konformen Lizenz CC BY 4.0 International verfügbar. Herausgeber: Landesbildungsserver \\nBaden-Württemberg (www.schule-bw.de), Fachredaktion Latein (auch unter www.latein-bw.de zu erreichen). Urheberrechtsangaben ge -\\nmäß www.schule-bw.de/urheberrecht  sind zu beachten. Bitte beachten Sie eventuell abweichende Lizenzangaben bei den eingebundenen\\nBildern und anderen Materialien.\\nSeite\\xa07 von 9\\n', metadata={'source': 'roemische-geschichte-100-50vchr.pdf', 'page': 6}),\n",
       " Document(page_content='Cicero: De re publica\\n54 v. Chr. - 51 v. Chr.\\nCicero verfasst in den Jahren 54 v. Chr. bis 51 v. Chr. eines seiner einflussreichsten philosophischen \\nWerke: De re publica (Über den Staat) in 6 Büchern. Das Werk ist nur in Fragmenten erhalten. Das so \\ngenannte Somnium Scipionis (der Traum Scipios, 6. Buch) ist ganz erhalten. Cicero vertritt in diesem \\nWerk die Lehre von den 3 Staatsformen: Monarchie, Aristokratie, Demokratie.\\nIn der Lateinischen Bibliothek enthalten: Auszüge aus De re publica .\\nDie Hauptfigur in den Dialogen ist Publius Scipio Aemilianus.\\nDie Theater bekommen dauerhafte Gebäude\\n55 v. Chr. - 43. v. Chr.\\nDas Drama war immer schon eine von den Römern geschätzte Kunstgattung. Heute noch werden die \\nKomödien der Dichter Plautus und Terenz gelesen. Die Aufführungen fanden aber immer auf \\nhölzernen Bühnen statt. Die Theater waren daher temporäre Bauten. Der Feldherr und Politiker Cn. \\nPompeius Magnus ließ in Rom das erste steinerne Theater bauen.\\nDas Theater des Pompeius. Quelle: Oscar Jäger, Geschichte der Römer, Gütersloh 1896. Künstler: \\nAdolf Schill. Zum Vergrößern auf das Bild klicken.\\nDiese Materialien sind unter der OER-konformen Lizenz CC BY 4.0 International verfügbar. Herausgeber: Landesbildungsserver \\nBaden-Württemberg (www.schule-bw.de), Fachredaktion Latein (auch unter www.latein-bw.de zu erreichen). Urheberrechtsangaben ge -\\nmäß www.schule-bw.de/urheberrecht  sind zu beachten. Bitte beachten Sie eventuell abweichende Lizenzangaben bei den eingebundenen\\nBildern und anderen Materialien.\\nSeite\\xa08 von 9\\n', metadata={'source': 'roemische-geschichte-100-50vchr.pdf', 'page': 7}),\n",
       " Document(page_content=\"Lukrez' Lehrepos\\nEntstehung um 54 v. Chr.\\nEs gibt kaum einen römischen Schriftsteller, über dessen Leben weniger gesicherte Fakten bekannt \\nsind, als Lukrez (T. Lucretius Carus, Lebensdaten unsicher - vielleicht 94 v. Chr. bis 55 oder 51 v. \\nChr.). Das einzige gesicherte historische Datum ist eine Erwähnung von Lukrez' Werk De rerum \\nnatura in einem Brief, den Cicero an seinen Bruder schrieb (Ad Quintum fratrem 2, 10, 3; PHI Latin \\nTexts). Dieses Datum wurde daher hier eingesetzt.\\nDass sein Leben im Dunkel liegt, hängt auch damit zusammen, dass er sich ungewöhnlich scharfer \\nKritik ausgesetzt sah, weil die von ihm vertretene epikureische Philosophie u. a. von christlichen \\nAutoren als eine Verteidigung reinen, ungezügelten Luststrebens verstanden wurde.\\nLukrez (Titus Lucretius Carus) verfasste ein Lehrepos in Hexametern (De rerum natura [Über die \\nNatur der Dinge]), in dem er die Lehren des griechischen Philosophen Epikur vertrat. Sein Ziel \\nbestand in der rationalen Lenkung des Lebens und der Unabhängigkeit von religiös begründeten \\nÄngsten. Die Orientierungsgröße dieser Philosophie ist die Freude.\\nTextauszüge mit Übersetzungen bei Gottwein.de.\\nArtikel bei der Wikipedia\\nQuelle: Petra G. Fowler und Don P. Fowler: Artikel Lucretius. In: Oxford Classical Dictionary, 2016\\nDiese Materialien sind unter der OER-konformen Lizenz CC BY 4.0 International verfügbar. Herausgeber: Landesbildungsserver \\nBaden-Württemberg (www.schule-bw.de), Fachredaktion Latein (auch unter www.latein-bw.de zu erreichen). Urheberrechtsangaben ge -\\nmäß www.schule-bw.de/urheberrecht  sind zu beachten. Bitte beachten Sie eventuell abweichende Lizenzangaben bei den eingebundenen\\nBildern und anderen Materialien.\\nSeite\\xa09 von 9\\n\", metadata={'source': 'roemische-geschichte-100-50vchr.pdf', 'page': 8})]"
      ]
     },
     "execution_count": 32,
     "metadata": {},
     "output_type": "execute_result"
    }
   ],
   "source": [
    "results['input_documents']"
   ]
  },
  {
   "cell_type": "code",
   "execution_count": 33,
   "id": "7c278384-ff8c-4732-8821-9e86651008ee",
   "metadata": {},
   "outputs": [
    {
     "data": {
      "text/plain": [
       "'{\\n   \"data\":[\\n      {\\n         \"missing_entities\":[\\n            \"Spartacus\",\\n            \"Crassus\",\\n            \"Slave Revolt\"\\n         ],\\n         \"denser_summary\":\"Die Dokumente umfassen vier wichtige Ereignisse in der antiken römischen Geschichte. Der Sklavenaufstand unter Führung von Spartacus in den Jahren 73-71 v. Chr. war eine große Bedrohung für das Römische Reich, wobei der ehemalige Gladiator eine große Armee von Sklaven versammelte, bevor er von Crassus und Pompey besiegt wurde. Der Aufstand von Sertorius in den Jahren 79-72 v. Chr. sah einen abtrünnigen Offizier eine rivalisierende Senatsversammlung auf der iberischen Halbinsel gründen, nur um nach internen Konflikten durch Pompey und Metellus Pius besiegt zu werden, was zur Ermordung von Sertorius führte. Der Prozess gegen Verres im Jahr 70 v. Chr. sah Cicero als Roms bekanntesten Anwalt zu Ruhm gelangen, indem er erfolgreich den korrupten Gouverneur von Sizilien anklagte. Schließlich beinhaltete die Verschwörung des Catilina im Jahr 63 v. Chr. einen erfolglosen Versuch eines Aristokraten, die Macht an sich zu reißen, indem er den Konsul Cicero ermordete, der die Verschwörung aufdeckte und berühmte Reden gegen die Verschwörer hielt.\"\\n      },\\n      {\\n         \"missing_entities\":[\\n            \"Gallien\",\\n            \"Caesar\",\\n            \"Erstes Triumvirat\"\\n         ],\\n         \"denser_summary\":\"Die Dokumente behandeln die politischen Entwicklungen von Julius Caesar im antiken Rom. Im Jahr 60 v. Chr. wurde er zum Konsul gewählt und bildete mit Pompeius und Crassus das Erste Triumvirat, um die politische Landschaft zu prägen. Von 58 v. Chr. bis 51 v. Chr. führte Caesar eine erfolgreiche Militärkampagne in Gallien. Später erklärte er sich zum Diktator auf Lebenszeit und wurde 44 v. Chr. von Senatoren, die ihn verdächtigten, eine Monarchie zu errichten, ermordet. Diese Dokumente geben einen Überblick über Caesars Aufstieg zur Macht und die Ereignisse, die zu seinem Fall führten.\"\\n      },\\n      {\\n         \"missing_entities\":[\\n            \"Valerius Catullus\",\\n            \"Cornelius Nepos\",\\n            \"Commentarii de bello Gallico\"\\n         ],\\n         \"denser_summary\":\"Die Dokumente behandeln verschiedene literarische und historische Persönlichkeiten aus dem antiken Rom. Valerius Catullus war ein Dichter, der Liebesgedichte in verschiedenen Versformen schrieb. Cornelius Nepos war ein Historiker, der Biografien ausländischer Militärführer in seinem Werk De viris illustribus schrieb. Catullus widmete sein Werk Nepos in seinem Eröffnungsgedicht. Julius Caesar schrieb Commentarii de bello Gallico, einen historischen Bericht über seine Feldzüge in Gallien, der ihn als strategischen und entscheidungsfreudigen Führer darstellte. Das Dokument bietet Links zu weiteren Ressourcen zu jeder dieser Persönlichkeiten.\"\\n      },\\n      {\\n         \"missing_entities\":[\\n            \"De re publica\",\\n            \"Publius Scipio Aemilianus\",\\n            \"Theater of Pompey\"\\n         ],\\n         \"denser_summary\":\"Die Dokumente umfassen zwei historische Themen im Zusammenhang mit dem antiken Rom. Das erste Dokument ist ein philosophisches Werk von Cicero namens \\\\\"De re publica\\\\\" (Über den Staat), das seine Überzeugungen über die drei Formen der Regierung - Monarchie, Aristokratie und Demokratie - darlegt. Das Werk ist nur teilweise erhalten, wobei das \\\\\"Somnium Scipionis\\\\\" (Scipios Traum) der einzige vollständige Abschnitt ist. Die Hauptfigur in den Dialogen ist Publius Scipio Aemilianus. Das zweite Dokument behandelt den Bau von dauerhaften Theatern in Rom. Zuvor waren Theater temporäre Hol'"
      ]
     },
     "execution_count": 33,
     "metadata": {},
     "output_type": "execute_result"
    }
   ],
   "source": [
    "results['translation']"
   ]
  },
  {
   "cell_type": "code",
   "execution_count": 7,
   "id": "65861ef0-df15-4f50-9a00-94116f3d86d6",
   "metadata": {},
   "outputs": [
    {
     "ename": "NameError",
     "evalue": "name 'texts_langchain' is not defined",
     "output_type": "error",
     "traceback": [
      "\u001b[1;31m---------------------------------------------------------------------------\u001b[0m",
      "\u001b[1;31mNameError\u001b[0m                                 Traceback (most recent call last)",
      "Cell \u001b[1;32mIn[7], line 1\u001b[0m\n\u001b[1;32m----> 1\u001b[0m \u001b[43mtexts_langchain\u001b[49m\n",
      "\u001b[1;31mNameError\u001b[0m: name 'texts_langchain' is not defined"
     ]
    }
   ],
   "source": [
    "texts_langchain"
   ]
  },
  {
   "cell_type": "code",
   "execution_count": 11,
   "id": "ef63d2dd-de80-42ac-a832-9b0f40d57598",
   "metadata": {},
   "outputs": [
    {
     "name": "stdout",
     "output_type": "stream",
     "text": [
      "dict_keys(['token_usage', 'model_name'])\n",
      "{'token_usage': <OpenAIObject at 0x21a3e58a270> JSON: {\n",
      "  \"prompt_tokens\": 412,\n",
      "  \"completion_tokens\": 119,\n",
      "  \"total_tokens\": 531\n",
      "}, 'model_name': 'gpt-35-turbo'}\n",
      "dict_keys(['token_usage', 'model_name'])\n",
      "{'token_usage': <OpenAIObject at 0x21a3e58a900> JSON: {\n",
      "  \"prompt_tokens\": 436,\n",
      "  \"completion_tokens\": 137,\n",
      "  \"total_tokens\": 573\n",
      "}, 'model_name': 'gpt-35-turbo'}\n",
      "dict_keys(['token_usage', 'model_name'])\n",
      "{'token_usage': <OpenAIObject at 0x21a3e58a360> JSON: {\n",
      "  \"prompt_tokens\": 415,\n",
      "  \"completion_tokens\": 132,\n",
      "  \"total_tokens\": 547\n",
      "}, 'model_name': 'gpt-35-turbo'}\n",
      "dict_keys(['token_usage', 'model_name'])\n",
      "{'token_usage': <OpenAIObject at 0x21a3e58a220> JSON: {\n",
      "  \"prompt_tokens\": 424,\n",
      "  \"completion_tokens\": 139,\n",
      "  \"total_tokens\": 563\n",
      "}, 'model_name': 'gpt-35-turbo'}\n",
      "dict_keys(['token_usage', 'model_name'])\n",
      "{'token_usage': <OpenAIObject at 0x21a3e58a310> JSON: {\n",
      "  \"prompt_tokens\": 201,\n",
      "  \"completion_tokens\": 68,\n",
      "  \"total_tokens\": 269\n",
      "}, 'model_name': 'gpt-35-turbo'}\n",
      "dict_keys(['token_usage', 'model_name'])\n",
      "{'token_usage': <OpenAIObject at 0x21a3e58a1d0> JSON: {\n",
      "  \"prompt_tokens\": 981,\n",
      "  \"completion_tokens\": 420,\n",
      "  \"total_tokens\": 1401\n",
      "}, 'model_name': 'gpt-35-turbo'}\n",
      "dict_keys(['token_usage', 'model_name'])\n",
      "{'token_usage': <OpenAIObject at 0x21a3dda9d60> JSON: {\n",
      "  \"prompt_tokens\": 517,\n",
      "  \"completion_tokens\": 609,\n",
      "  \"total_tokens\": 1126\n",
      "}, 'model_name': 'gpt-35-turbo'}\n"
     ]
    }
   ],
   "source": [
    "text_splitter = TokenTextSplitter.from_tiktoken_encoder(\n",
    "        chunk_size=400, chunk_overlap=0)\n",
    "texts = text_splitter.split_text(\"Viele wollen es. 57 Prozent der Deutschen sagen in einer Umfrage des Meinungsforschungsinstituts YouGov, dass sie für ein Tempolimit von 130 Stundenkilometern auf Autobahnen sind. Genauso sind es Menschen aus Wissenschaft, Politik, Kirche und dem öffentlichen Leben, die im Bündnis Tempolimit jetzt! aktiv sind. Einer davon: Sebastian Vettel, der vier Saisons der Formel-1 gewonnen hat.​Einer, der es definitiv nicht will, ist Verkehrsminister Volker Wissing. Der Politiker aus der Freien Demokratischen Partei (FDP) ist gegen staatliche Limitierungen im Straßenverkehr. Er sagt: „Autofahren bedeutet Freiheit.“ Mit dieser Meinung ist Wissing in seiner Partei und in Deutschland nicht allein.​Fast allein ist das Land aber mit der Möglichkeit, auf Autobahnen so schnell zu fahren, wie man will. In Europa hat nur ein anderer Ort kein Limit: die Isle of Man in der Irischen See. Autobahnen gibt es dort aber keine. Auch insgesamt gibt es nur wenige andere Länder ohne Maximalgeschwindigkeit, sie haben aber schlechte Straßen. ​Über ein Tempolimit diskutiert man in Deutschland schon ziemlich lang – und meistens emotional. Dabei ist 1953 ein wichtiges Jahr. Damals fand unter Kanzler Konrad Adenauer eine große Deregulierung der Geschwindigkeit statt: Menschen in Pkw und auf Motorrädern durften überall in der Bundesrepublik so schnell fahren, wie sie wollten und konnten. Westdeutschland lebte seinen Mythos der Autobahn. Anders in der Deutschen Demokratischen Republik: Dort waren 100 Stundenkilometer auf Autobahnen das Maximum, 80 außerhalb von Orten und 50 in Orten.​Weil in der Bundesrepublik die Zahl der Verkehrstoten deutlich stieg, führte die Regierung im Jahr 1957 für Orte eine Maximalgeschwindigkeit von 50 Stundenkilometern ein. Diese Norm hatte viele Gegner: den Allgemeinen Deutschen Automobil-Club (ADAC), die Autoindustrie, aber auch Menschen aus Politik und Wissenschaft.​Im Jahr 1972 kam die Einführung eines Tempolimits von 100 Stundenkilometern auf Landstraßen. Auch über diese Aktion gegen die vielen Verkehrstoten gab es intensive Diskussionen. ​Monate später kam die Ölkrise – und mit ihr ab November 1973 ein vorübergehendes Tempolimit von 100 Stundenkilometern auf Autobahnen. So wollte man den Erdölverbrauch reduzieren. Aber der Protest war groß. Ganz vorn dabei war der ADAC, der eine Kampagne mit dem Motto „Freie Fahrt für freie Bürger“ startete. Mit Erfolg: Nach 111 Tagen endete das Tempolimit auf Autobahnen. Ab dem 15. März 1974 durfte man wieder so viel Gas geben, wie man wollte. Das ist bis heute auf circa 70 Prozent der deutschen Autobahnen möglich. Dort gibt es nur die Empfehlung für eine Geschwindigkeit von 130 Stundenkilometern. ​ Die Debatte über das Tempolimit hat trotzdem nicht aufgehört. Und auch 50 Jahre später spielen die mächtige deutsche Autolobby und das (oft auch von ihr verwendete) Freiheitsargument noch immer zentrale Rollen – obwohl die Welt heute eine andere ist.​ Da ist vor allem die Frage, ob ein Tempolimit gegen die Klimakrise hilft. Anfang dieses Jahres hat das Umweltbundesamt eine Studie publiziert. Sie zeigt, dass ein Limit von 120 Stundenkilometern einen größeren Effekt hätte als bis jetzt gedacht. Pro Jahr könnte man die Treibhausgasemissionen des deutschen Straßenverkehrs so um 4,2 Prozent reduzieren.​ Elementar ist außerdem die Frage, ob ein Tempolimit den Verkehr sicherer macht. Klar ist: Je schneller ein Auto unterwegs ist, desto länger dauert das Bremsen bis zum Stoppen. Das Nachrichtenportal Spiegel Online hat den Unfallatlas der statistischen Ämter des Bundes und der Länder analysiert. Das Resultat: Je eine Milliarde gefahrener Kilometer gibt es auf Autobahnabschnitten mit Tempolimit 0,95 tödliche Unfälle. Auf Strecken ohne Tempolimit sind es 1,67 tödliche Unfälle – rund 75 Prozent mehr.​ Warum lieben viele Deutsche das schnelle Fahren trotzdem so sehr? Fragt man Verkehrspsychologen, hört man bald wieder das große Wort dieser Debatte: Freiheit. Aber dominiert der Wunsch danach wirklich die kollektive Psyche und entscheidet über das Tempo deutscher Autofahrerinnen?​Eine Antwort liefert eine Studie des Instituts der deutschen Wirtschaft aus dem Jahr 2021. Sie zeigt: 77 Prozent der Autofahrer sind auf Autobahnabschnitten ohne Tempolimit langsamer als 130 Stundenkilometer unterwegs. Zwölf Prozent fahren dort zwischen 130 und 140 Stundenkilometer. Nur weniger als zwei Prozent fahren schneller als 160.​Inzwischen ist auch die Mehrheit der Mitglieder des ADAC für ein Tempolimit. Der Verband der Automobilindustrie ist noch dagegen. Und die Regierung? Im Koalitionsvertrag steht auf Wunsch der FDP: „Ein generelles Tempolimit wird es nicht geben.\")\n",
    "from langchain.docstore.document import Document\n",
    "docs = [Document(page_content=t) for t in texts]\n",
    "results = overall_chain({'language':language, 'input_documents': docs})"
   ]
  },
  {
   "cell_type": "code",
   "execution_count": 12,
   "id": "1227432b-fb9b-496f-b8ec-28df66b5a9f9",
   "metadata": {},
   "outputs": [
    {
     "data": {
      "text/plain": [
       "[Document(page_content='Viele wollen es. 57 Prozent der Deutschen sagen in einer Umfrage des Meinungsforschungsinstituts YouGov, dass sie für ein Tempolimit von 130 Stundenkilometern auf Autobahnen sind. Genauso sind es Menschen aus Wissenschaft, Politik, Kirche und dem öffentlichen Leben, die im Bündnis Tempolimit jetzt! aktiv sind. Einer davon: Sebastian Vettel, der vier Saisons der Formel-1 gewonnen hat.\\u200bEiner, der es definitiv nicht will, ist Verkehrsminister Volker Wissing. Der Politiker aus der Freien Demokratischen Partei (FDP) ist gegen staatliche Limitierungen im Straßenverkehr. Er sagt: „Autofahren bedeutet Freiheit.“ Mit dieser Meinung ist Wissing in seiner Partei und in Deutschland nicht allein.\\u200bFast allein ist das Land aber mit der Möglichkeit, auf Autobahnen so schnell zu fahren, wie man will. In Europa hat nur ein anderer Ort kein Limit: die Isle of Man in der Irischen See. Autobahnen gibt es dort aber keine. Auch insgesamt gibt es nur wenige andere Länder ohne Maximalgeschwindigkeit, sie haben aber schlechte Straßen. \\u200bÜber ein Tempolimit diskutiert man in Deutschland schon z'),\n",
       " Document(page_content='iemlich lang – und meistens emotional. Dabei ist 1953 ein wichtiges Jahr. Damals fand unter Kanzler Konrad Adenauer eine große Deregulierung der Geschwindigkeit statt: Menschen in Pkw und auf Motorrädern durften überall in der Bundesrepublik so schnell fahren, wie sie wollten und konnten. Westdeutschland lebte seinen Mythos der Autobahn. Anders in der Deutschen Demokratischen Republik: Dort waren 100 Stundenkilometer auf Autobahnen das Maximum, 80 außerhalb von Orten und 50 in Orten.\\u200bWeil in der Bundesrepublik die Zahl der Verkehrstoten deutlich stieg, führte die Regierung im Jahr 1957 für Orte eine Maximalgeschwindigkeit von 50 Stundenkilometern ein. Diese Norm hatte viele Gegner: den Allgemeinen Deutschen Automobil-Club (ADAC), die Autoindustrie, aber auch Menschen aus Politik und Wissenschaft.\\u200bIm Jahr 1972 kam die Einführung eines Tempolimits von 100 Stundenkilometern auf Landstraßen. Auch über diese Aktion gegen die vielen Verkehrstoten gab es intensive Diskussionen. \\u200bMonate später kam die Ölkrise – und mit ihr ab November 1973 ein vorübergehendes Tempolimit von 100 Stundenkilometern auf Autobahnen. So wollte man'),\n",
       " Document(page_content=' den Erdölverbrauch reduzieren. Aber der Protest war groß. Ganz vorn dabei war der ADAC, der eine Kampagne mit dem Motto „Freie Fahrt für freie Bürger“ startete. Mit Erfolg: Nach 111 Tagen endete das Tempolimit auf Autobahnen. Ab dem 15. März 1974 durfte man wieder so viel Gas geben, wie man wollte. Das ist bis heute auf circa 70 Prozent der deutschen Autobahnen möglich. Dort gibt es nur die Empfehlung für eine Geschwindigkeit von 130 Stundenkilometern. \\u200b Die Debatte über das Tempolimit hat trotzdem nicht aufgehört. Und auch 50 Jahre später spielen die mächtige deutsche Autolobby und das (oft auch von ihr verwendete) Freiheitsargument noch immer zentrale Rollen – obwohl die Welt heute eine andere ist.\\u200b Da ist vor allem die Frage, ob ein Tempolimit gegen die Klimakrise hilft. Anfang dieses Jahres hat das Umweltbundesamt eine Studie publiziert. Sie zeigt, dass ein Limit von 120 Stundenkilometern einen größeren Effekt hätte als bis jetzt gedacht. Pro Jahr könnte man die Treibhausgasemissionen des deutschen Straßenverkehrs so um 4,2 Proz'),\n",
       " Document(page_content='ent reduzieren.\\u200b Elementar ist außerdem die Frage, ob ein Tempolimit den Verkehr sicherer macht. Klar ist: Je schneller ein Auto unterwegs ist, desto länger dauert das Bremsen bis zum Stoppen. Das Nachrichtenportal Spiegel Online hat den Unfallatlas der statistischen Ämter des Bundes und der Länder analysiert. Das Resultat: Je eine Milliarde gefahrener Kilometer gibt es auf Autobahnabschnitten mit Tempolimit 0,95 tödliche Unfälle. Auf Strecken ohne Tempolimit sind es 1,67 tödliche Unfälle – rund 75 Prozent mehr.\\u200b Warum lieben viele Deutsche das schnelle Fahren trotzdem so sehr? Fragt man Verkehrspsychologen, hört man bald wieder das große Wort dieser Debatte: Freiheit. Aber dominiert der Wunsch danach wirklich die kollektive Psyche und entscheidet über das Tempo deutscher Autofahrerinnen?\\u200bEine Antwort liefert eine Studie des Instituts der deutschen Wirtschaft aus dem Jahr 2021. Sie zeigt: 77 Prozent der Autofahrer sind auf Autobahnabschnitten ohne Tempolimit langsamer als 130 Stundenkilometer unterwegs. Zwölf Prozent fahren dort zwischen 130 und 140 Stundenkilometer. Nur w'),\n",
       " Document(page_content='eniger als zwei Prozent fahren schneller als 160.\\u200bInzwischen ist auch die Mehrheit der Mitglieder des ADAC für ein Tempolimit. Der Verband der Automobilindustrie ist noch dagegen. Und die Regierung? Im Koalitionsvertrag steht auf Wunsch der FDP: „Ein generelles Tempolimit wird es nicht geben.')]"
      ]
     },
     "execution_count": 12,
     "metadata": {},
     "output_type": "execute_result"
    }
   ],
   "source": [
    "results['input_documents']"
   ]
  },
  {
   "cell_type": "code",
   "execution_count": 13,
   "id": "fa416d5e-e6bb-4f98-a751-6f87e920167d",
   "metadata": {},
   "outputs": [
    {
     "data": {
      "text/plain": [
       "'RFC8259 JSON:\\n\\n{\\n   \"data\":[\\n      {\\n         \"missing_entities\":[\\n            \"Verkehrsminister Volker Wissing\",\\n            \"FDP\"\\n         ],\\n         \"denser_summary\":\"Die Debatte über die Einführung eines Tempolimits von 130 km/h auf deutschen Autobahnen geht weiter. Während eine Mehrheit der Deutschen und verschiedene öffentliche Persönlichkeiten ein Tempolimit befürworten, sind Verkehrsminister Volker Wissing und seine Partei, die FDP, dagegen und argumentieren, dass Autofahren ein Symbol für Freiheit ist.\"\\n      },\\n      {\\n         \"missing_entities\":[\\n            \"Isle of Man\"\\n         ],\\n         \"denser_summary\":\"Deutschland ist eines der wenigen Länder in Europa ohne Tempolimit auf Autobahnen, nur die Isle of Man hat eine ähnliche Politik. Die Geschichte der Geschwindigkeitsbegrenzungen in Deutschland ist umstritten, wobei Befürworter höherer Geschwindigkeiten für Freiheit argumentieren und Gegner Sicherheitsbedenken anführen.\"\\n      },\\n      {\\n         \"missing_entities\":[\\n            \"German Environment Agency\",\\n            \"Treibhausgasemissionen\"\\n         ],\\n         \"denser_summary\":\"Eine kürzlich durchgeführte Studie der Deutschen Umweltagentur legt nahe, dass ein Tempolimit von 120 km/h die Treibhausgasemissionen im Straßenverkehr signifikant reduzieren könnte. Trotz anhaltender Debatten beeinflussen die einflussreiche deutsche Autoindustrie und das Argument der persönlichen Freiheit die Diskussion weiterhin.\"\\n      },\\n      {\\n         \"missing_entities\":[\\n            \"Verband der Deutschen Automobilindustrie\"\\n         ],\\n         \"denser_summary\":\"Die Mehrheit der Fahrer auf deutschen Autobahnen überschreitet nicht 160 km/h, und die Mehrheit der Mitglieder des ADAC (deutscher Automobilclub) befürwortet ein Tempolimit. Der Verband der Deutschen Automobilindustrie ist jedoch dagegen. Die Regierung hat in ihrem Koalitionsvertrag erklärt, dass es kein allgemeines Tempolimit geben wird, wie von der FDP gefordert.\"\\n      },\\n      {\\n         \"missing_entities\":[\\n            \"77%\"\\n         ],\\n         \"denser_summary\":\"Laut einer Studie fahren 77% der Fahrer auf Autobahnen ohne Tempolimit tatsächlich langsamer als 130 km/h. Nur 12% fahren zwischen 130 und 140 km/h. Die Debatte darüber, ob ein Tempolimit für die Verkehrssicherheit von Vorteil wäre, geht weiter.\"\\n      }\\n   ]\\n}'"
      ]
     },
     "execution_count": 13,
     "metadata": {},
     "output_type": "execute_result"
    }
   ],
   "source": [
    "results['translation']"
   ]
  },
  {
   "cell_type": "code",
   "execution_count": 8,
   "id": "5651c968-21f4-46bd-b1ae-48dcfb3fd76d",
   "metadata": {},
   "outputs": [],
   "source": [
    "def removeQuotations(st):\n",
    "    # finds all denser summarys, replaces quotation inside with &quot\n",
    "    m = re.finditer(r'(?<=\\\"denser_summary\\\":)(.*?)(?=\\})', st)\n",
    "\n",
    "    new_string = \"\"\n",
    "    idx = 0\n",
    "\n",
    "    for i in list(m):\n",
    "        ss, se = i.span(1)  # first and last index\n",
    "        groups = i.group()  # complete string ins\n",
    "        quotations = [m.start() for m in re.finditer('\"', groups)]\n",
    "        # Quotation inside dense summary?\n",
    "        if(len(quotations)>2):\n",
    "            new_string += st[idx:ss+quotations[1]]\n",
    "            idx = ss+quotations[1]+1\n",
    "            for quotindex in quotations[1:-1]:\n",
    "                new_string += st[idx:ss+quotindex] + \"“ \"\n",
    "                idx = ss+quotindex+1\n",
    "            new_string += st[idx:se]\n",
    "            idx = quotations[-1]+1\n",
    "        else:\n",
    "            new_string += st[idx:ss] +  groups\n",
    "        idx = se\n",
    "    new_string += st[idx:]\n",
    "    return new_string"
   ]
  },
  {
   "cell_type": "code",
   "execution_count": 22,
   "id": "59d88d70-bcbc-4a82-9457-1280ad711379",
   "metadata": {},
   "outputs": [
    {
     "name": "stdout",
     "output_type": "stream",
     "text": [
      "dict_keys(['token_usage', 'model_name', 'system_fingerprint'])\n",
      "{'token_usage': <OpenAIObject at 0x1f39c93b220> JSON: {\n",
      "  \"prompt_tokens\": 1079,\n",
      "  \"completion_tokens\": 398,\n",
      "  \"total_tokens\": 1477\n",
      "}, 'model_name': 'gpt-35-turbo', 'system_fingerprint': ''}\n",
      "dict_keys(['token_usage', 'model_name', 'system_fingerprint'])\n",
      "{'token_usage': <OpenAIObject at 0x1f39bb3d400> JSON: {\n",
      "  \"prompt_tokens\": 1573,\n",
      "  \"completion_tokens\": 366,\n",
      "  \"total_tokens\": 1939\n",
      "}, 'model_name': 'gpt-35-turbo', 'system_fingerprint': ''}\n",
      "dict_keys(['token_usage', 'model_name', 'system_fingerprint'])\n",
      "{'token_usage': <OpenAIObject at 0x1f388ed8db0> JSON: {\n",
      "  \"prompt_tokens\": 1593,\n",
      "  \"completion_tokens\": 485,\n",
      "  \"total_tokens\": 2078\n",
      "}, 'model_name': 'gpt-35-turbo', 'system_fingerprint': ''}\n",
      "dict_keys(['token_usage', 'model_name', 'system_fingerprint'])\n",
      "{'token_usage': <OpenAIObject at 0x1f39c93bf40> JSON: {\n",
      "  \"prompt_tokens\": 1565,\n",
      "  \"completion_tokens\": 408,\n",
      "  \"total_tokens\": 1973\n",
      "}, 'model_name': 'gpt-35-turbo', 'system_fingerprint': ''}\n",
      "dict_keys(['token_usage', 'model_name', 'system_fingerprint'])\n",
      "{'token_usage': <OpenAIObject at 0x1f39d4d70e0> JSON: {\n",
      "  \"prompt_tokens\": 1611,\n",
      "  \"completion_tokens\": 530,\n",
      "  \"total_tokens\": 2141\n",
      "}, 'model_name': 'gpt-35-turbo', 'system_fingerprint': ''}\n",
      "dict_keys(['token_usage', 'model_name', 'system_fingerprint'])\n",
      "{'token_usage': <OpenAIObject at 0x1f39d4bcb80> JSON: {\n",
      "  \"prompt_tokens\": 1600,\n",
      "  \"completion_tokens\": 460,\n",
      "  \"total_tokens\": 2060\n",
      "}, 'model_name': 'gpt-35-turbo', 'system_fingerprint': ''}\n"
     ]
    }
   ],
   "source": [
    "from concurrent.futures import ThreadPoolExecutor\n",
    "from random import randint\n",
    "from time import sleep\n",
    "from langchain.callbacks import get_openai_callback\n",
    "import json\n",
    "\n",
    "def call_and_cleanup(text, llmchain):\n",
    "    with get_openai_callback() as cb:\n",
    "        result = llmchain.invoke({\"text\": text, \"language\": language})\n",
    "    total_tokens = cb.total_tokens\n",
    "    chat_translate_result= result[\"sum\"][result[\"sum\"].index(\"{\"):]\n",
    "    chat_translate_result = chat_translate_result.replace(\"\\n\", \"\").rstrip()\n",
    "    chat_translate_result = removeQuotations(chat_translate_result)\n",
    "    if not chat_translate_result.endswith(\"}\"):\n",
    "        chat_translate_result  = chat_translate_result + \"\\\"}]}\"\n",
    "    try:\n",
    "        jsoned = json.loads(chat_translate_result)\n",
    "    except Exception:\n",
    "        # try again\n",
    "        try: \n",
    "           (chat_translate_result, total_tokens) =  call_and_cleanup(text, llmchain)   \n",
    "           return (chat_translate_result, total_tokens)\n",
    "        except Exception:\n",
    "            total_tokens = 0\n",
    "            jsoned = { }\n",
    "            jsoned['data'] = [{'missing_entities': 'Fehler','denser_summary': 'Zusammenfassung konnte nicht generiert werden. Bitte nochmals versuchen.'}]\n",
    "\n",
    "    cleaned = []\n",
    "    for (i, element) in enumerate(jsoned['data']):\n",
    "        missing = element['missing_entities']\n",
    "        if(isinstance(missing, str)):\n",
    "            element['missing_entities'] = [missing]\n",
    "        cleaned.append(element)\n",
    "    return (cleaned,total_tokens)\n",
    "\n",
    "\n",
    "def run_io_tasks_in_parallel(tasks):\n",
    "    l = []\n",
    "    with ThreadPoolExecutor() as executor:\n",
    "        running_tasks = [executor.submit(task) for task in tasks]\n",
    "        for running_task in running_tasks:\n",
    "            l.append(running_task.result())\n",
    "    return l\n",
    "\n",
    "results = run_io_tasks_in_parallel(\n",
    "    list(map(lambda x:  lambda: call_and_cleanup(x, summarizationChain), texts)))"
   ]
  },
  {
   "cell_type": "code",
   "execution_count": 29,
   "id": "3ea093f0-8095-457d-b2ed-ec7dd1fa4acd",
   "metadata": {},
   "outputs": [
    {
     "data": {
      "text/plain": [
       "{'denser_summary': \" This document covers the period from 100 BC to 50 BC and focuses on the fight for the Republic. Sulla becomes dictator, Proscriptions result in the deaths of thousands, and Cicero defends Sextus Roscius and serves as consul during the Catilinarian Conspiracy. Sergius Catilina conspired to assassinate the Roman consul, Cicero, in 63 BC after failing to win the consulship. Cicero uncovered the Catilinarian Conspiracy and revealed it in his famous speeches before the Senate and the people. Gaius Julius Caesar, a member of the populares party, was elected consul in 59 BC and formed the First Triumvirate with Marcus Licinius Crassus and Gnaeus Pompey Magnus. From 58 BC to 51 BC, he waged a successful war in Gaul. The Triumvirate was an informal alliance to shape the Roman Republic's politics, with no legal basis. Crassus, part of the Triumvirate, suffers a major defeat against the Parthian Empire at Carrhae in 53 BC, resulting in his death and the loss of thousands of Roman soldiers. During 55-43 BC, Cn. Pompeius Magnus, a Roman general and politician, built the first permanent theatre in Rome. Prior to this, theatre performances were held in wooden structures. The theatre of Pompey was made of stone and became a permanent fixture in the city. The only historically confirmed fact about Lukrez is that his work De rerum natura was mentioned in a letter by Cicero to his brother. Lukrez faced criticism for advocating Epicurean philosophy, which was perceived by some as promoting unbridled hedonism.\",\n",
       " 'missing_entities': ['Sergius Catilina',\n",
       "  'Catilinarian Conspiracy',\n",
       "  'Marcus Licinius Crassus',\n",
       "  'Crassus',\n",
       "  'Parthian Empire',\n",
       "  'Carrhae',\n",
       "  'Cn. Pompeius Magnus',\n",
       "  'Cicero']}"
      ]
     },
     "execution_count": 29,
     "metadata": {},
     "output_type": "execute_result"
    }
   ],
   "source": [
    "total_token = 0\n",
    "summarys = []\n",
    "for i in range(0,5):\n",
    "    next_summary =   {\"denser_summary\": \"\", \"missing_entities\": []}\n",
    "    for (result, tokens) in results:\n",
    "        total_token += tokens\n",
    "        next_summary[\"denser_summary\"] += \" \"+ result[i][\"denser_summary\"]\n",
    "        next_summary[\"missing_entities\"] += result[i][\"missing_entities\"]\n",
    "    summarys.append(next_summary)\n",
    "summarys[3]"
   ]
  },
  {
   "cell_type": "code",
   "execution_count": 51,
   "id": "b62d5672-4ed3-4b67-b6a3-c2761cf8f906",
   "metadata": {},
   "outputs": [],
   "source": [
    "user_translate_and_cleanupt = \"\"\"\n",
    "Übersetze den folgenden Text in {language}.\n",
    "\n",
    "Beachte folgende Regeln:\n",
    "- Vermeide allgemeine Phrasen wie \"Das Dokument behandelt\"\n",
    "- Füge Füllwörter ein, um ihn einfacher zu lesen machen.\n",
    "- Der Text sollte self-contained und einfach zu verstehen sein\n",
    "JSON: {sum}\n",
    "\"\"\"\n",
    "\n",
    "def getTranslationCleanupPrompt() -> PromptTemplate:\n",
    "    return PromptTemplate(input_variables=[\"language\", \"sum\"], template=user_translate_and_cleanupt)\n",
    "\n",
    "translateAndCleanupChain = LLMChain(llm=llm, prompt=getTranslationCleanupPrompt(), output_key=\"translation\", verbose=verbose)"
   ]
  },
  {
   "cell_type": "code",
   "execution_count": 65,
   "id": "4b652a06-9d46-4214-92b6-3d00b6ddc28c",
   "metadata": {},
   "outputs": [
    {
     "name": "stdout",
     "output_type": "stream",
     "text": [
      "dict_keys(['token_usage', 'model_name', 'system_fingerprint'])\n",
      "{'token_usage': <OpenAIObject at 0x1f39e0c8270> JSON: {\n",
      "  \"prompt_tokens\": 430,\n",
      "  \"completion_tokens\": 493,\n",
      "  \"total_tokens\": 923\n",
      "}, 'model_name': 'gpt-35-turbo', 'system_fingerprint': ''}\n"
     ]
    }
   ],
   "source": [
    "result = translateAndCleanupChain.invoke({\"language\": language, \"sum\": summarys[3]['denser_summary']})"
   ]
  },
  {
   "cell_type": "code",
   "execution_count": 67,
   "id": "fdba54bc-4ee6-4cb2-be87-3715af8db197",
   "metadata": {},
   "outputs": [
    {
     "data": {
      "text/plain": [
       "'Dieses Dokument behandelt den Zeitraum von 100 v. Chr. bis 50 v. Chr. und konzentriert sich auf den Kampf für die Republik. Sulla wird zum Diktator, Proskriptionen führen zum Tod von Tausenden und Cicero verteidigt Sextus Roscius und dient als Konsul während der Catilinarischen Verschwörung. Sergius Catilina plant 63 v. Chr. die Ermordung des römischen Konsuls Cicero, nachdem er die Konsulswahl verloren hat. Cicero deckt die Catilinarische Verschwörung auf und enthüllt sie in seinen berühmten Reden vor dem Senat und dem Volk. Gaius Julius Caesar, Mitglied der Populares-Partei, wird 59 v. Chr. zum Konsul gewählt und bildet mit Marcus Licinius Crassus und Gnaeus Pompey Magnus das erste Triumvirat. Von 58 v. Chr. bis 51 v. Chr. führt er einen erfolgreichen Krieg in Gallien. Das Triumvirat ist eine informelle Allianz, um die Politik der römischen Republik zu gestalten, ohne rechtliche Grundlage. Crassus erleidet 53 v. Chr. bei Carrhae eine schwere Niederlage gegen das Partherreich, was zu seinem Tod und dem Verlust von Tausenden von römischen Soldaten führt. Von 55 v. Chr. bis 43 v. Chr. baut Cn. Pompeius Magnus, ein römischer General und Politiker, das erste permanente Theater in Rom. Zuvor fanden Theateraufführungen in hölzernen Strukturen statt. Das Theater von Pompeius war aus Stein gebaut und wurde zu einem festen Bestandteil der Stadt. Die einzige historisch bestätigte Tatsache über Lukrez ist, dass sein Werk De rerum natura in einem Brief von Cicero an seinen Bruder erwähnt wurde. Lukrez wurde kritisiert, weil er die epikureische Philosophie befürwortete, die von einigen als Förderung ungebremsten Hedonismus wahrgenommen wurde.'"
      ]
     },
     "execution_count": 67,
     "metadata": {},
     "output_type": "execute_result"
    }
   ],
   "source": [
    "result['translation']"
   ]
  },
  {
   "cell_type": "code",
   "execution_count": 64,
   "id": "41af0424-9a21-4977-9aec-a0995e542adc",
   "metadata": {},
   "outputs": [
    {
     "data": {
      "text/plain": [
       "{'denser_summary': \" The article provides an overview of Roman history and literature from the Republic to the Late Antiquity. It includes a table of events and a section on methodological and didactic suggestions for teachers, as well as interactive exercises and links to the curriculum. This article discusses the major events in the late Roman Republic, including the political career and military campaigns of Gnaeus Pompeius Magnus, the slave uprising led by Spartacus, the trial of Gaius Verres, and the Catilinarian Conspiracy to overthrow the Roman Republic, as well as the Sertorian War on the Iberian Peninsula. Gaius Julius Caesar, a member of the populares party, was elected consul in 59 BC and formed the First Triumvirate with Marcus Licinius Crassus and Gnaeus Pompey Magnus. From 58 BC to 51 BC, he waged a successful war in Gaul, which ended with the conquest of the region. The First Triumvirate was an informal alliance to shape the Roman Republic's politics, with no legal basis. Sulla previously fought against the Parthian Empire, influencing Crassus's decision to do so as well. During 52-50 BC, Julius Caesar wrote Commentarii de bello Gallico (Commentaries on the Gallic War), which is a detailed account of the Gallic Wars, a series of military campaigns waged by the Roman Republic against several Gallic tribes. The book follows an annalistic structure and highlights Caesar's strategic and military prowess. The clear and straightforward writing style of the book influenced Roman literature. Lukrez's De rerum natura aimed to promote a rational life and freedom from religious fears, advocating the philosophy of Epicureanism, which sought to maximize pleasure and minimize pain.\",\n",
       " 'missing_entities': ['Gaul',\n",
       "  'Sulla',\n",
       "  'Commentarii de bello Gallico',\n",
       "  'rational life',\n",
       "  'freedom from religious fears']}"
      ]
     },
     "execution_count": 64,
     "metadata": {},
     "output_type": "execute_result"
    }
   ],
   "source": [
    "summarys[4]"
   ]
  },
  {
   "cell_type": "code",
   "execution_count": null,
   "id": "5f166ed5-fba5-496e-90de-dcd9df3d6259",
   "metadata": {},
   "outputs": [],
   "source": []
  }
 ],
 "metadata": {
  "kernelspec": {
   "display_name": "Python 3 (ipykernel)",
   "language": "python",
   "name": "python3"
  },
  "language_info": {
   "codemirror_mode": {
    "name": "ipython",
    "version": 3
   },
   "file_extension": ".py",
   "mimetype": "text/x-python",
   "name": "python",
   "nbconvert_exporter": "python",
   "pygments_lexer": "ipython3",
   "version": "3.8.7"
  }
 },
 "nbformat": 4,
 "nbformat_minor": 5
}
