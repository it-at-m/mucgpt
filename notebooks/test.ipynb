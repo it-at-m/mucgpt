{
 "cells": [
  {
   "cell_type": "code",
   "execution_count": 1,
   "metadata": {},
   "outputs": [],
   "source": [
    "import json"
   ]
  },
  {
   "cell_type": "code",
   "execution_count": 18,
   "metadata": {},
   "outputs": [],
   "source": [
    "class EnvHelper:\n",
    "    def __init__(self, base_path: str, env: str, base_config_name: str = \"base\"):\n",
    "        self.base_path = base_path\n",
    "        self.base_config_name = base_config_name\n",
    "        self.env = env\n",
    "    def loadData(self):\n",
    "        with open(self.base_path + self.env + \".json\", 'r') as f:\n",
    "            env_config = json.load(f)\n",
    "        with open(self.base_path + self.base_config_name + \".json\", 'r') as f:\n",
    "            base_config = json.load(f)\n",
    "        return dict(env_config,**base_config)\n"
   ]
  },
  {
   "cell_type": "code",
   "execution_count": 19,
   "metadata": {},
   "outputs": [],
   "source": [
    "with open(\"../app/backend/ressources/dev.json\", 'r') as f:\n",
    "  dev = json.load(f)"
   ]
  },
  {
   "cell_type": "code",
   "execution_count": 20,
   "metadata": {},
   "outputs": [],
   "source": [
    "env_client = EnvHelper(\"../app/backend/ressources/\", \"dev\")"
   ]
  },
  {
   "cell_type": "code",
   "execution_count": 21,
   "metadata": {},
   "outputs": [],
   "source": [
    "config =env_client.loadData()"
   ]
  },
  {
   "cell_type": "code",
   "execution_count": 22,
   "metadata": {},
   "outputs": [
    {
     "data": {
      "text/plain": [
       "True"
      ]
     },
     "execution_count": 22,
     "metadata": {},
     "output_type": "execute_result"
    }
   ],
   "source": [
    "config[\"backend\"][\"enable_auth\"]"
   ]
  },
  {
   "cell_type": "code",
   "execution_count": 23,
   "metadata": {},
   "outputs": [
    {
     "data": {
      "text/plain": [
       "{'frontend': {'labels': {'env_name': 'PILOT-C'}},\n",
       " 'backend': {'enable_auth': True,\n",
       "  'enable_database': True,\n",
       "  'chat': {'log_tokens': True},\n",
       "  'brainstorm': {'log_tokens': True},\n",
       "  'sum': {'log_tokens': True}},\n",
       " 'version': '0.1.0'}"
      ]
     },
     "execution_count": 23,
     "metadata": {},
     "output_type": "execute_result"
    }
   ],
   "source": [
    "config"
   ]
  },
  {
   "cell_type": "code",
   "execution_count": 31,
   "metadata": {},
   "outputs": [],
   "source": [
    "from typing import Any, Mapping, TypedDict\n",
    "\n",
    "class ApproachConfig(TypedDict):\n",
    "    log_tokens: bool\n",
    "\n",
    "class BackendConfig(TypedDict):\n",
    "    enable_database: bool\n",
    "    chat: ApproachConfig\n",
    "    brainstorm: ApproachConfig\n",
    "    sum: ApproachConfig\n",
    "\n",
    "class LabelsConfig(TypedDict):\n",
    "    env_name: str\n",
    "\n",
    "class FrontendConfig(TypedDict):\n",
    "    labels: LabelsConfig\n",
    "\n",
    "class Config(TypedDict):\n",
    "    version: str\n",
    "    frontend: FrontendConfig\n",
    "    backend: BackendConfig\n",
    "\n",
    "\n",
    "\n",
    "def to_typed_config(config: Mapping[str, Any]) -> Config:\n",
    "    result = Config()\n",
    "    for key, key_type in Config.__annotations__.items():\n",
    "        if key not in config:\n",
    "            raise ValueError(f\"Key: {key} is not available in data.\")\n",
    "        result[key] = key_type(config[key])\n",
    "    return result\n"
   ]
  },
  {
   "cell_type": "code",
   "execution_count": 35,
   "metadata": {},
   "outputs": [],
   "source": [
    "\n",
    "\n",
    "typed_cfg = to_typed_config(config = config)"
   ]
  },
  {
   "cell_type": "code",
   "execution_count": 36,
   "metadata": {},
   "outputs": [
    {
     "data": {
      "text/plain": [
       "{'log_tokens': True}"
      ]
     },
     "execution_count": 36,
     "metadata": {},
     "output_type": "execute_result"
    }
   ],
   "source": [
    "typed_cfg['backend']['brainstorm']"
   ]
  },
  {
   "cell_type": "code",
   "execution_count": null,
   "metadata": {},
   "outputs": [],
   "source": []
  }
 ],
 "metadata": {
  "kernelspec": {
   "display_name": "backend_env",
   "language": "python",
   "name": "python3"
  },
  "language_info": {
   "codemirror_mode": {
    "name": "ipython",
    "version": 3
   },
   "file_extension": ".py",
   "mimetype": "text/x-python",
   "name": "python",
   "nbconvert_exporter": "python",
   "pygments_lexer": "ipython3",
   "version": "3.8.7"
  },
  "orig_nbformat": 4
 },
 "nbformat": 4,
 "nbformat_minor": 2
}
