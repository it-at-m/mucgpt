{
 "cells": [
  {
   "cell_type": "code",
   "execution_count": 1,
   "metadata": {},
   "outputs": [],
   "source": [
    "host = \"localhost\" #\"mucgpt-dev-db.postgres.database.azure.com\"\n",
    "database = \"mucgpt\" #\"postgres\"\n",
    "username = \"mucgpt-user\" #\"mucgpt_db_dev_admin\"\n",
    "password = \"test\" #\"7nD6kLUVn7skmILuQs4t\""
   ]
  },
  {
   "cell_type": "code",
   "execution_count": 2,
   "metadata": {},
   "outputs": [],
   "source": [
    "\n",
    "from sqlalchemy.orm import declarative_base\n",
    "from sqlalchemy import Column, Integer, String, DateTime, Text\n",
    "from datetime import datetime\n",
    "Base = declarative_base()\n",
    "\n",
    "class Requestinfo(Base):\n",
    "    __tablename__ = 'requestinfo'\n",
    "\n",
    "    id = Column(Integer(), primary_key=True)\n",
    "    tokencount = Column(Integer())\n",
    "    department = Column(String(20), nullable=False)\n",
    "    messagecount = Column(Integer())\n",
    "    method = Column(String(10))\n",
    "    created_on = Column(DateTime(), default=datetime.now)\n",
    "    updated_on = Column(DateTime(), default=datetime.now, onupdate=datetime.now)\n",
    "\n",
    "    def __repr__(self):\n",
    "        return '<ID %r, Department %r, Tokencount %r, Method %r, Messagecount %r> ' % (self.id, self.department, self.tokencount, self.method, self.messagecount)\n"
   ]
  },
  {
   "cell_type": "code",
   "execution_count": 69,
   "metadata": {},
   "outputs": [],
   "source": [
    "from sqlalchemy import create_engine\n",
    "from sqlalchemy.engine import URL\n",
    "from sqlalchemy.orm import Session\n",
    "from sqlalchemy import func\n",
    "\n",
    "\n",
    "class Repository:\n",
    "    def __init__(self, username: str, host: str, database: str, password: str):\n",
    "        url = URL.create(\n",
    "            drivername=\"postgresql\",\n",
    "            username=username,\n",
    "            host=host,\n",
    "            database=database,\n",
    "            password=password\n",
    "        )\n",
    "        self.engine = create_engine(url)\n",
    "    \n",
    "    def setup_schema(self, base):\n",
    "        base.metadata.create_all(self.engine)\n",
    "\n",
    "    def addInfo(self, info: Requestinfo):\n",
    "        with Session(self.engine) as session:\n",
    "            session.add(info)\n",
    "            session.commit()\n",
    "    def get(self, id):\n",
    "         with Session(self.engine) as session:\n",
    "            return session.get(Requestinfo, id)\n",
    "    def getAll(self):\n",
    "        with Session(self.engine) as session:\n",
    "            infos_objs = session.query(Requestinfo)\n",
    "            results = infos_objs.all()\n",
    "            return results\n",
    "\n",
    "    \n",
    "    def countByDepartment(self):\n",
    "        with Session(self.engine) as session:\n",
    "            queryResult = session.query(Requestinfo.department, func.count(Requestinfo.tokencount)).group_by(Requestinfo.department)\n",
    "            results = queryResult.all()\n",
    "            results = [tuple(row) for row in results]\n",
    "            return results\n",
    "\n",
    "    def sumByDepartment(self):\n",
    "        with Session(self.engine) as session:\n",
    "            queryResult = session.query(Requestinfo.department, func.sum(Requestinfo.tokencount)).group_by(Requestinfo.department)\n",
    "            results = queryResult.all()\n",
    "            results = [tuple(row) for row in results]\n",
    "            return results\n",
    "\n",
    "    def avgByDepartment(self):\n",
    "        with Session(self.engine) as session:\n",
    "            queryResult = session.query(Requestinfo.department, func.avg(Requestinfo.tokencount)).group_by(Requestinfo.department)\n",
    "            results = queryResult.all()\n",
    "            results = [tuple(row) for row in results]\n",
    "            return results\n",
    "    \n",
    "    def clear(self):\n",
    "        with Session(self.engine) as session:\n",
    "            session.query(Requestinfo).delete()\n",
    "            session.commit()\n"
   ]
  },
  {
   "cell_type": "code",
   "execution_count": 70,
   "metadata": {},
   "outputs": [],
   "source": [
    "repoHelper = Repository(\n",
    "    username=username,\n",
    "    host=host,\n",
    "    database=database,\n",
    "    password=password\n",
    ")"
   ]
  },
  {
   "cell_type": "code",
   "execution_count": 71,
   "metadata": {},
   "outputs": [],
   "source": [
    "repoHelper.setup_schema(Base)"
   ]
  },
  {
   "cell_type": "code",
   "execution_count": 72,
   "metadata": {},
   "outputs": [],
   "source": [
    "repoHelper.clear()"
   ]
  },
  {
   "cell_type": "code",
   "execution_count": 73,
   "metadata": {},
   "outputs": [
    {
     "data": {
      "text/plain": [
       "Table('requestinfo', MetaData(), Column('id', Integer(), table=<requestinfo>, primary_key=True, nullable=False), Column('tokencount', Integer(), table=<requestinfo>), Column('department', String(length=20), table=<requestinfo>, nullable=False), Column('messagecount', Integer(), table=<requestinfo>), Column('method', String(length=10), table=<requestinfo>), Column('created_on', DateTime(), table=<requestinfo>, default=CallableColumnDefault(<function datetime.now at 0x000001C4FC504430>)), Column('updated_on', DateTime(), table=<requestinfo>, onupdate=CallableColumnDefault(<function datetime.now at 0x000001C4FC504550>), default=CallableColumnDefault(<function datetime.now at 0x000001C4FC5044C0>)), schema=None)"
      ]
     },
     "execution_count": 73,
     "metadata": {},
     "output_type": "execute_result"
    }
   ],
   "source": [
    "Requestinfo.__table__"
   ]
  },
  {
   "cell_type": "code",
   "execution_count": 74,
   "metadata": {},
   "outputs": [],
   "source": [
    "first = Requestinfo(\n",
    "    tokencount = 200,\n",
    "    department = \"IL\",\n",
    "    messagecount= 2,\n",
    "    method = \"Chat\")\n",
    "second = Requestinfo(\n",
    "    tokencount = 300,\n",
    "    department = \"KM8\",\n",
    "    messagecount= 1,\n",
    "    method = \"Chat\")  \n",
    "third = Requestinfo(\n",
    "    tokencount = 153,\n",
    "    department = \"IL\",\n",
    "    messagecount= 2,\n",
    "    method = \"Chat\")      "
   ]
  },
  {
   "cell_type": "code",
   "execution_count": 75,
   "metadata": {},
   "outputs": [],
   "source": [
    "repoHelper.addInfo(first)\n",
    "repoHelper.addInfo(second)\n",
    "repoHelper.addInfo(third)"
   ]
  },
  {
   "cell_type": "code",
   "execution_count": 29,
   "metadata": {},
   "outputs": [],
   "source": [
    "repoHelper.get(32)"
   ]
  },
  {
   "cell_type": "code",
   "execution_count": 30,
   "metadata": {},
   "outputs": [
    {
     "data": {
      "text/plain": [
       "[('KM8', 1), ('IL', 2)]"
      ]
     },
     "execution_count": 30,
     "metadata": {},
     "output_type": "execute_result"
    }
   ],
   "source": [
    "repoHelper.countByDepartment()"
   ]
  },
  {
   "cell_type": "code",
   "execution_count": 31,
   "metadata": {},
   "outputs": [
    {
     "data": {
      "text/plain": [
       "[('KM8', 300), ('IL', 353)]"
      ]
     },
     "execution_count": 31,
     "metadata": {},
     "output_type": "execute_result"
    }
   ],
   "source": [
    "repoHelper.sumByDepartment()"
   ]
  },
  {
   "cell_type": "code",
   "execution_count": 32,
   "metadata": {},
   "outputs": [
    {
     "data": {
      "text/plain": [
       "[('KM8', Decimal('300.0000000000000000')),\n",
       " ('IL', Decimal('176.5000000000000000'))]"
      ]
     },
     "execution_count": 32,
     "metadata": {},
     "output_type": "execute_result"
    }
   ],
   "source": [
    "repoHelper.avgByDepartment()"
   ]
  },
  {
   "cell_type": "code",
   "execution_count": 103,
   "metadata": {},
   "outputs": [
    {
     "data": {
      "text/plain": [
       "'id'"
      ]
     },
     "execution_count": 103,
     "metadata": {},
     "output_type": "execute_result"
    }
   ],
   "source": [
    "Requestinfo.__mapper__.columns[0].name"
   ]
  },
  {
   "cell_type": "code",
   "execution_count": 104,
   "metadata": {},
   "outputs": [
    {
     "data": {
      "text/plain": [
       "59"
      ]
     },
     "execution_count": 104,
     "metadata": {},
     "output_type": "execute_result"
    }
   ],
   "source": [
    "getattr(repoHelper.getAll()[0], Requestinfo.__mapper__.columns[0].name)"
   ]
  },
  {
   "cell_type": "code",
   "execution_count": 105,
   "metadata": {},
   "outputs": [
    {
     "data": {
      "text/plain": [
       "['id']"
      ]
     },
     "execution_count": 105,
     "metadata": {},
     "output_type": "execute_result"
    }
   ],
   "source": [
    "[Requestinfo.__mapper__.columns[0].name]"
   ]
  },
  {
   "cell_type": "code",
   "execution_count": 106,
   "metadata": {},
   "outputs": [],
   "source": [
    "def getData(curr, columname):\n",
    "    data = getattr(curr, columname)\n",
    "    if isinstance(data, str):\n",
    "        return data.encode()\n",
    "    else:\n",
    "        return data"
   ]
  },
  {
   "cell_type": "code",
   "execution_count": 121,
   "metadata": {},
   "outputs": [
    {
     "data": {
      "text/plain": [
       "b'id,tokencount,department,messagecount,method,created_on,updated_on\\r\\n59,200,IL,2,Chat,2024-01-02 18:23:12.154606,2024-01-02 18:23:12.154606\\r\\n60,300,KM8,1,Chat,2024-01-02 18:23:12.162276,2024-01-02 18:23:12.162276\\r\\n61,153,IL,2,Chat,2024-01-02 18:23:12.174699,2024-01-02 18:23:12.174699\\r\\n'"
      ]
     },
     "execution_count": 121,
     "metadata": {},
     "output_type": "execute_result"
    }
   ],
   "source": [
    "import csv\n",
    "import io\n",
    "\n",
    "memfile = io.StringIO()\n",
    "outcsv = csv.writer(memfile, delimiter=',',quotechar='\"', quoting = csv.QUOTE_MINIMAL)\n",
    "outcsv.writerow([column.name for column in Requestinfo.__mapper__.columns])\n",
    "[outcsv.writerow([getattr(curr, column.name) for column in Requestinfo.__mapper__.columns]) for curr in repoHelper.getAll()]\n",
    "\n",
    "memfile.seek(0)\n",
    "\n",
    "# Das StringIO-Objekt in ein BytesIO-Objekt umwandeln\n",
    "\n",
    "memfile_bytesio = io.BytesIO(memfile.getvalue().encode())\n",
    "memfile_bytesio.getvalue()"
   ]
  },
  {
   "cell_type": "code",
   "execution_count": 96,
   "metadata": {},
   "outputs": [
    {
     "data": {
      "text/plain": [
       "datetime.datetime(2024, 1, 2, 18, 23, 12, 154606)"
      ]
     },
     "execution_count": 96,
     "metadata": {},
     "output_type": "execute_result"
    }
   ],
   "source": [
    "getData(repoHelper.getAll()[0], \"created_on\")"
   ]
  },
  {
   "cell_type": "code",
   "execution_count": 100,
   "metadata": {},
   "outputs": [
    {
     "data": {
      "text/plain": [
       "[b'id',\n",
       " b'tokencount',\n",
       " b'department',\n",
       " b'messagecount',\n",
       " b'method',\n",
       " b'created_on',\n",
       " b'updated_on']"
      ]
     },
     "execution_count": 100,
     "metadata": {},
     "output_type": "execute_result"
    }
   ],
   "source": [
    "[column.name.encode() for column in Requestinfo.__mapper__.columns]"
   ]
  },
  {
   "cell_type": "code",
   "execution_count": null,
   "metadata": {},
   "outputs": [],
   "source": []
  }
 ],
 "metadata": {
  "kernelspec": {
   "display_name": "Python 3 (ipykernel)",
   "language": "python",
   "name": "python3"
  },
  "language_info": {
   "codemirror_mode": {
    "name": "ipython",
    "version": 3
   },
   "file_extension": ".py",
   "mimetype": "text/x-python",
   "name": "python",
   "nbconvert_exporter": "python",
   "pygments_lexer": "ipython3",
   "version": "3.8.7"
  }
 },
 "nbformat": 4,
 "nbformat_minor": 4
}
